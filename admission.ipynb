{
 "cells": [
  {
   "attachments": {},
   "cell_type": "markdown",
   "metadata": {},
   "source": [
    "Here is a story. March 24th, 2023 was the day my younger brother Max found out he did not get into his dream high school in San Francisco, Lowell High School. Max was disappointed, naturally. I felt bad for him because he studied really hard just to get rejected by his dream school. So I thought to myself, there's nothing I can do now to change the fact that he did not get into his first choice. But what if, I can make a difference in what colleges he could get into, because last thing I want to see Max doing is beating himself up so bad he gives up on school entirely. \n",
    "\n",
    "With that as motivation, I set out to collect information and data about college admissions. And I started the search at the University of California Systems -- the prestigious colleges of California at least half the price of a private institution.\n",
    "\n",
    "And Here, are my findings."
   ]
  },
  {
   "cell_type": "code",
   "execution_count": 1,
   "metadata": {},
   "outputs": [],
   "source": [
    "import numpy as np\n",
    "import pandas as pd\n",
    "import matplotlib.pyplot as plt\n",
    "import plotly.express as px"
   ]
  },
  {
   "cell_type": "code",
   "execution_count": 2,
   "metadata": {},
   "outputs": [],
   "source": [
    "non = pd.read_excel(\"FR GPA by Year_non_CA.xlsx\")\n",
    "public = pd.read_excel(\"FR GPA by Year_public_CA.xlsx\")\n",
    "private = pd.read_excel(\"FR GPA by Year_private_CA.xlsx\")"
   ]
  },
  {
   "cell_type": "code",
   "execution_count": 3,
   "metadata": {},
   "outputs": [],
   "source": [
    "non['Type'] = \"non CA\"\n",
    "public['Type'] = \"public CA\"\n",
    "private['Type'] = \"private CA\""
   ]
  },
  {
   "cell_type": "code",
   "execution_count": 4,
   "metadata": {},
   "outputs": [],
   "source": [
    "df = pd.concat([public, private, non])"
   ]
  },
  {
   "cell_type": "code",
   "execution_count": 5,
   "metadata": {},
   "outputs": [],
   "source": [
    "df = df.reset_index(drop= True)"
   ]
  },
  {
   "cell_type": "code",
   "execution_count": 6,
   "metadata": {},
   "outputs": [
    {
     "data": {
      "text/html": [
       "<div>\n",
       "<style scoped>\n",
       "    .dataframe tbody tr th:only-of-type {\n",
       "        vertical-align: middle;\n",
       "    }\n",
       "\n",
       "    .dataframe tbody tr th {\n",
       "        vertical-align: top;\n",
       "    }\n",
       "\n",
       "    .dataframe thead th {\n",
       "        text-align: right;\n",
       "    }\n",
       "</style>\n",
       "<table border=\"1\" class=\"dataframe\">\n",
       "  <thead>\n",
       "    <tr style=\"text-align: right;\">\n",
       "      <th></th>\n",
       "      <th>Calculation1</th>\n",
       "      <th>School</th>\n",
       "      <th>City</th>\n",
       "      <th>County/State/Country</th>\n",
       "      <th>App GPA</th>\n",
       "      <th>Adm GPA</th>\n",
       "      <th>Enrl GPA</th>\n",
       "      <th>Type</th>\n",
       "    </tr>\n",
       "  </thead>\n",
       "  <tbody>\n",
       "    <tr>\n",
       "      <th>0</th>\n",
       "      <td>A B MILLER HIGH SCHOOL050944</td>\n",
       "      <td>A B MILLER HIGH SCHOOL</td>\n",
       "      <td>Fontana</td>\n",
       "      <td>San Bernardino</td>\n",
       "      <td>3.659867</td>\n",
       "      <td>3.831091</td>\n",
       "      <td>3.971000</td>\n",
       "      <td>public CA</td>\n",
       "    </tr>\n",
       "    <tr>\n",
       "      <th>1</th>\n",
       "      <td>ABRAHAM LINCOLN HIGH SCHOOL051520</td>\n",
       "      <td>ABRAHAM LINCOLN HIGH SCHOOL</td>\n",
       "      <td>Los Angeles</td>\n",
       "      <td>Los Angeles</td>\n",
       "      <td>3.634337</td>\n",
       "      <td>3.906604</td>\n",
       "      <td>3.882174</td>\n",
       "      <td>public CA</td>\n",
       "    </tr>\n",
       "    <tr>\n",
       "      <th>2</th>\n",
       "      <td>ABRAHAM LINCOLN HIGH SCHOOL052910</td>\n",
       "      <td>ABRAHAM LINCOLN HIGH SCHOOL</td>\n",
       "      <td>San Francisco</td>\n",
       "      <td>San Francisco</td>\n",
       "      <td>3.964286</td>\n",
       "      <td>4.077178</td>\n",
       "      <td>4.143172</td>\n",
       "      <td>public CA</td>\n",
       "    </tr>\n",
       "    <tr>\n",
       "      <th>3</th>\n",
       "      <td>ABRAHAM LINCOLN HIGH SCHOOL053075</td>\n",
       "      <td>ABRAHAM LINCOLN HIGH SCHOOL</td>\n",
       "      <td>San Jose</td>\n",
       "      <td>Santa Clara</td>\n",
       "      <td>4.063804</td>\n",
       "      <td>4.166441</td>\n",
       "      <td>4.242500</td>\n",
       "      <td>public CA</td>\n",
       "    </tr>\n",
       "    <tr>\n",
       "      <th>4</th>\n",
       "      <td>ACAD FOR ACADEMIC EXCELLENCE050126</td>\n",
       "      <td>ACAD FOR ACADEMIC EXCELLENCE</td>\n",
       "      <td>Apple Valley</td>\n",
       "      <td>San Bernardino</td>\n",
       "      <td>3.803846</td>\n",
       "      <td>3.906500</td>\n",
       "      <td>3.937778</td>\n",
       "      <td>public CA</td>\n",
       "    </tr>\n",
       "    <tr>\n",
       "      <th>...</th>\n",
       "      <td>...</td>\n",
       "      <td>...</td>\n",
       "      <td>...</td>\n",
       "      <td>...</td>\n",
       "      <td>...</td>\n",
       "      <td>...</td>\n",
       "      <td>...</td>\n",
       "      <td>...</td>\n",
       "    </tr>\n",
       "    <tr>\n",
       "      <th>4010</th>\n",
       "      <td>YORKTOWN HIGH SCHOOL336085</td>\n",
       "      <td>YORKTOWN HIGH SCHOOL</td>\n",
       "      <td>Yorktown Heights</td>\n",
       "      <td>New York</td>\n",
       "      <td>3.924000</td>\n",
       "      <td>NaN</td>\n",
       "      <td>NaN</td>\n",
       "      <td>non CA</td>\n",
       "    </tr>\n",
       "    <tr>\n",
       "      <th>4011</th>\n",
       "      <td>YORKTOWN HIGH SCHOOL470130</td>\n",
       "      <td>YORKTOWN HIGH SCHOOL</td>\n",
       "      <td>Arlington</td>\n",
       "      <td>Virginia</td>\n",
       "      <td>4.185172</td>\n",
       "      <td>4.270000</td>\n",
       "      <td>NaN</td>\n",
       "      <td>non CA</td>\n",
       "    </tr>\n",
       "    <tr>\n",
       "      <th>4012</th>\n",
       "      <td>YOUNGKER HIGH SCHOOL030026</td>\n",
       "      <td>YOUNGKER HIGH SCHOOL</td>\n",
       "      <td>Buckeye</td>\n",
       "      <td>Arizona</td>\n",
       "      <td>3.470000</td>\n",
       "      <td>NaN</td>\n",
       "      <td>NaN</td>\n",
       "      <td>non CA</td>\n",
       "    </tr>\n",
       "    <tr>\n",
       "      <th>4013</th>\n",
       "      <td>YUMA CATHOLIC HIGH SCHOOL030573</td>\n",
       "      <td>YUMA CATHOLIC HIGH SCHOOL</td>\n",
       "      <td>Yuma</td>\n",
       "      <td>Arizona</td>\n",
       "      <td>3.926923</td>\n",
       "      <td>4.227143</td>\n",
       "      <td>NaN</td>\n",
       "      <td>non CA</td>\n",
       "    </tr>\n",
       "    <tr>\n",
       "      <th>4014</th>\n",
       "      <td>ZIONSVILLE COMMUNITY HS153900</td>\n",
       "      <td>ZIONSVILLE COMMUNITY HS</td>\n",
       "      <td>Zionsville</td>\n",
       "      <td>Indiana</td>\n",
       "      <td>4.104167</td>\n",
       "      <td>NaN</td>\n",
       "      <td>NaN</td>\n",
       "      <td>non CA</td>\n",
       "    </tr>\n",
       "  </tbody>\n",
       "</table>\n",
       "<p>4015 rows × 8 columns</p>\n",
       "</div>"
      ],
      "text/plain": [
       "                            Calculation1                        School  \\\n",
       "0           A B MILLER HIGH SCHOOL050944        A B MILLER HIGH SCHOOL   \n",
       "1      ABRAHAM LINCOLN HIGH SCHOOL051520   ABRAHAM LINCOLN HIGH SCHOOL   \n",
       "2      ABRAHAM LINCOLN HIGH SCHOOL052910   ABRAHAM LINCOLN HIGH SCHOOL   \n",
       "3      ABRAHAM LINCOLN HIGH SCHOOL053075   ABRAHAM LINCOLN HIGH SCHOOL   \n",
       "4     ACAD FOR ACADEMIC EXCELLENCE050126  ACAD FOR ACADEMIC EXCELLENCE   \n",
       "...                                  ...                           ...   \n",
       "4010          YORKTOWN HIGH SCHOOL336085          YORKTOWN HIGH SCHOOL   \n",
       "4011          YORKTOWN HIGH SCHOOL470130          YORKTOWN HIGH SCHOOL   \n",
       "4012          YOUNGKER HIGH SCHOOL030026          YOUNGKER HIGH SCHOOL   \n",
       "4013     YUMA CATHOLIC HIGH SCHOOL030573     YUMA CATHOLIC HIGH SCHOOL   \n",
       "4014       ZIONSVILLE COMMUNITY HS153900       ZIONSVILLE COMMUNITY HS   \n",
       "\n",
       "                  City County/State/Country   App GPA   Adm GPA  Enrl GPA  \\\n",
       "0              Fontana       San Bernardino  3.659867  3.831091  3.971000   \n",
       "1          Los Angeles          Los Angeles  3.634337  3.906604  3.882174   \n",
       "2        San Francisco        San Francisco  3.964286  4.077178  4.143172   \n",
       "3             San Jose          Santa Clara  4.063804  4.166441  4.242500   \n",
       "4         Apple Valley       San Bernardino  3.803846  3.906500  3.937778   \n",
       "...                ...                  ...       ...       ...       ...   \n",
       "4010  Yorktown Heights             New York  3.924000       NaN       NaN   \n",
       "4011         Arlington             Virginia  4.185172  4.270000       NaN   \n",
       "4012           Buckeye              Arizona  3.470000       NaN       NaN   \n",
       "4013              Yuma              Arizona  3.926923  4.227143       NaN   \n",
       "4014        Zionsville              Indiana  4.104167       NaN       NaN   \n",
       "\n",
       "           Type  \n",
       "0     public CA  \n",
       "1     public CA  \n",
       "2     public CA  \n",
       "3     public CA  \n",
       "4     public CA  \n",
       "...         ...  \n",
       "4010     non CA  \n",
       "4011     non CA  \n",
       "4012     non CA  \n",
       "4013     non CA  \n",
       "4014     non CA  \n",
       "\n",
       "[4015 rows x 8 columns]"
      ]
     },
     "execution_count": 6,
     "metadata": {},
     "output_type": "execute_result"
    }
   ],
   "source": [
    "df"
   ]
  },
  {
   "cell_type": "code",
   "execution_count": 7,
   "metadata": {},
   "outputs": [
    {
     "data": {
      "text/html": [
       "<div>\n",
       "<style scoped>\n",
       "    .dataframe tbody tr th:only-of-type {\n",
       "        vertical-align: middle;\n",
       "    }\n",
       "\n",
       "    .dataframe tbody tr th {\n",
       "        vertical-align: top;\n",
       "    }\n",
       "\n",
       "    .dataframe thead tr th {\n",
       "        text-align: left;\n",
       "    }\n",
       "\n",
       "    .dataframe thead tr:last-of-type th {\n",
       "        text-align: right;\n",
       "    }\n",
       "</style>\n",
       "<table border=\"1\" class=\"dataframe\">\n",
       "  <thead>\n",
       "    <tr>\n",
       "      <th></th>\n",
       "      <th colspan=\"4\" halign=\"left\">App GPA</th>\n",
       "      <th colspan=\"4\" halign=\"left\">Adm GPA</th>\n",
       "      <th colspan=\"4\" halign=\"left\">Enrl GPA</th>\n",
       "    </tr>\n",
       "    <tr>\n",
       "      <th></th>\n",
       "      <th>min</th>\n",
       "      <th>max</th>\n",
       "      <th>mean</th>\n",
       "      <th>var</th>\n",
       "      <th>min</th>\n",
       "      <th>max</th>\n",
       "      <th>mean</th>\n",
       "      <th>var</th>\n",
       "      <th>min</th>\n",
       "      <th>max</th>\n",
       "      <th>mean</th>\n",
       "      <th>var</th>\n",
       "    </tr>\n",
       "    <tr>\n",
       "      <th>City</th>\n",
       "      <th></th>\n",
       "      <th></th>\n",
       "      <th></th>\n",
       "      <th></th>\n",
       "      <th></th>\n",
       "      <th></th>\n",
       "      <th></th>\n",
       "      <th></th>\n",
       "      <th></th>\n",
       "      <th></th>\n",
       "      <th></th>\n",
       "      <th></th>\n",
       "    </tr>\n",
       "  </thead>\n",
       "  <tbody>\n",
       "    <tr>\n",
       "      <th>Aberdeen</th>\n",
       "      <td>4.240000</td>\n",
       "      <td>4.240000</td>\n",
       "      <td>4.240000</td>\n",
       "      <td>NaN</td>\n",
       "      <td>NaN</td>\n",
       "      <td>NaN</td>\n",
       "      <td>NaN</td>\n",
       "      <td>NaN</td>\n",
       "      <td>NaN</td>\n",
       "      <td>NaN</td>\n",
       "      <td>NaN</td>\n",
       "      <td>NaN</td>\n",
       "    </tr>\n",
       "    <tr>\n",
       "      <th>Abington</th>\n",
       "      <td>4.005000</td>\n",
       "      <td>4.005000</td>\n",
       "      <td>4.005000</td>\n",
       "      <td>NaN</td>\n",
       "      <td>NaN</td>\n",
       "      <td>NaN</td>\n",
       "      <td>NaN</td>\n",
       "      <td>NaN</td>\n",
       "      <td>NaN</td>\n",
       "      <td>NaN</td>\n",
       "      <td>NaN</td>\n",
       "      <td>NaN</td>\n",
       "    </tr>\n",
       "    <tr>\n",
       "      <th>Acton</th>\n",
       "      <td>3.827778</td>\n",
       "      <td>4.050000</td>\n",
       "      <td>3.916546</td>\n",
       "      <td>0.013843</td>\n",
       "      <td>3.908333</td>\n",
       "      <td>3.992000</td>\n",
       "      <td>3.960111</td>\n",
       "      <td>0.002047</td>\n",
       "      <td>NaN</td>\n",
       "      <td>NaN</td>\n",
       "      <td>NaN</td>\n",
       "      <td>NaN</td>\n",
       "    </tr>\n",
       "    <tr>\n",
       "      <th>Ada</th>\n",
       "      <td>4.138571</td>\n",
       "      <td>4.138571</td>\n",
       "      <td>4.138571</td>\n",
       "      <td>NaN</td>\n",
       "      <td>NaN</td>\n",
       "      <td>NaN</td>\n",
       "      <td>NaN</td>\n",
       "      <td>NaN</td>\n",
       "      <td>NaN</td>\n",
       "      <td>NaN</td>\n",
       "      <td>NaN</td>\n",
       "      <td>NaN</td>\n",
       "    </tr>\n",
       "    <tr>\n",
       "      <th>Addison</th>\n",
       "      <td>4.007647</td>\n",
       "      <td>4.007647</td>\n",
       "      <td>4.007647</td>\n",
       "      <td>NaN</td>\n",
       "      <td>4.207778</td>\n",
       "      <td>4.207778</td>\n",
       "      <td>4.207778</td>\n",
       "      <td>NaN</td>\n",
       "      <td>NaN</td>\n",
       "      <td>NaN</td>\n",
       "      <td>NaN</td>\n",
       "      <td>NaN</td>\n",
       "    </tr>\n",
       "    <tr>\n",
       "      <th>...</th>\n",
       "      <td>...</td>\n",
       "      <td>...</td>\n",
       "      <td>...</td>\n",
       "      <td>...</td>\n",
       "      <td>...</td>\n",
       "      <td>...</td>\n",
       "      <td>...</td>\n",
       "      <td>...</td>\n",
       "      <td>...</td>\n",
       "      <td>...</td>\n",
       "      <td>...</td>\n",
       "      <td>...</td>\n",
       "    </tr>\n",
       "    <tr>\n",
       "      <th>Yucaipa</th>\n",
       "      <td>3.839588</td>\n",
       "      <td>3.839588</td>\n",
       "      <td>3.839588</td>\n",
       "      <td>NaN</td>\n",
       "      <td>4.007903</td>\n",
       "      <td>4.007903</td>\n",
       "      <td>4.007903</td>\n",
       "      <td>NaN</td>\n",
       "      <td>4.106667</td>\n",
       "      <td>4.106667</td>\n",
       "      <td>4.106667</td>\n",
       "      <td>NaN</td>\n",
       "    </tr>\n",
       "    <tr>\n",
       "      <th>Yucca Valley</th>\n",
       "      <td>3.805600</td>\n",
       "      <td>3.805600</td>\n",
       "      <td>3.805600</td>\n",
       "      <td>NaN</td>\n",
       "      <td>3.953000</td>\n",
       "      <td>3.953000</td>\n",
       "      <td>3.953000</td>\n",
       "      <td>NaN</td>\n",
       "      <td>3.922857</td>\n",
       "      <td>3.922857</td>\n",
       "      <td>3.922857</td>\n",
       "      <td>NaN</td>\n",
       "    </tr>\n",
       "    <tr>\n",
       "      <th>Yuma</th>\n",
       "      <td>3.740000</td>\n",
       "      <td>4.166364</td>\n",
       "      <td>3.991822</td>\n",
       "      <td>0.039435</td>\n",
       "      <td>4.181250</td>\n",
       "      <td>4.227143</td>\n",
       "      <td>4.204196</td>\n",
       "      <td>0.001053</td>\n",
       "      <td>NaN</td>\n",
       "      <td>NaN</td>\n",
       "      <td>NaN</td>\n",
       "      <td>NaN</td>\n",
       "    </tr>\n",
       "    <tr>\n",
       "      <th>Zionsville</th>\n",
       "      <td>4.104167</td>\n",
       "      <td>4.104167</td>\n",
       "      <td>4.104167</td>\n",
       "      <td>NaN</td>\n",
       "      <td>NaN</td>\n",
       "      <td>NaN</td>\n",
       "      <td>NaN</td>\n",
       "      <td>NaN</td>\n",
       "      <td>NaN</td>\n",
       "      <td>NaN</td>\n",
       "      <td>NaN</td>\n",
       "      <td>NaN</td>\n",
       "    </tr>\n",
       "    <tr>\n",
       "      <th>n/a</th>\n",
       "      <td>3.622000</td>\n",
       "      <td>4.226667</td>\n",
       "      <td>3.924333</td>\n",
       "      <td>0.182811</td>\n",
       "      <td>NaN</td>\n",
       "      <td>NaN</td>\n",
       "      <td>NaN</td>\n",
       "      <td>NaN</td>\n",
       "      <td>NaN</td>\n",
       "      <td>NaN</td>\n",
       "      <td>NaN</td>\n",
       "      <td>NaN</td>\n",
       "    </tr>\n",
       "  </tbody>\n",
       "</table>\n",
       "<p>1681 rows × 12 columns</p>\n",
       "</div>"
      ],
      "text/plain": [
       "               App GPA                                 Adm GPA            \\\n",
       "                   min       max      mean       var       min       max   \n",
       "City                                                                       \n",
       "Aberdeen      4.240000  4.240000  4.240000       NaN       NaN       NaN   \n",
       "Abington      4.005000  4.005000  4.005000       NaN       NaN       NaN   \n",
       "Acton         3.827778  4.050000  3.916546  0.013843  3.908333  3.992000   \n",
       "Ada           4.138571  4.138571  4.138571       NaN       NaN       NaN   \n",
       "Addison       4.007647  4.007647  4.007647       NaN  4.207778  4.207778   \n",
       "...                ...       ...       ...       ...       ...       ...   \n",
       "Yucaipa       3.839588  3.839588  3.839588       NaN  4.007903  4.007903   \n",
       "Yucca Valley  3.805600  3.805600  3.805600       NaN  3.953000  3.953000   \n",
       "Yuma          3.740000  4.166364  3.991822  0.039435  4.181250  4.227143   \n",
       "Zionsville    4.104167  4.104167  4.104167       NaN       NaN       NaN   \n",
       "n/a           3.622000  4.226667  3.924333  0.182811       NaN       NaN   \n",
       "\n",
       "                                  Enrl GPA                          \n",
       "                  mean       var       min       max      mean var  \n",
       "City                                                                \n",
       "Aberdeen           NaN       NaN       NaN       NaN       NaN NaN  \n",
       "Abington           NaN       NaN       NaN       NaN       NaN NaN  \n",
       "Acton         3.960111  0.002047       NaN       NaN       NaN NaN  \n",
       "Ada                NaN       NaN       NaN       NaN       NaN NaN  \n",
       "Addison       4.207778       NaN       NaN       NaN       NaN NaN  \n",
       "...                ...       ...       ...       ...       ...  ..  \n",
       "Yucaipa       4.007903       NaN  4.106667  4.106667  4.106667 NaN  \n",
       "Yucca Valley  3.953000       NaN  3.922857  3.922857  3.922857 NaN  \n",
       "Yuma          4.204196  0.001053       NaN       NaN       NaN NaN  \n",
       "Zionsville         NaN       NaN       NaN       NaN       NaN NaN  \n",
       "n/a                NaN       NaN       NaN       NaN       NaN NaN  \n",
       "\n",
       "[1681 rows x 12 columns]"
      ]
     },
     "execution_count": 7,
     "metadata": {},
     "output_type": "execute_result"
    }
   ],
   "source": [
    "df_city = df.groupby(['City'])[['App GPA', 'Adm GPA', 'Enrl GPA']].agg(['min', 'max', 'mean', 'var'])\n",
    "df_city"
   ]
  },
  {
   "attachments": {},
   "cell_type": "markdown",
   "metadata": {},
   "source": [
    "As a San Franciscan, I want to know more about the big picture of high school students' admissions into UC's in the area. It's the first step to understanding Max's competition, at a local level."
   ]
  },
  {
   "cell_type": "code",
   "execution_count": 8,
   "metadata": {},
   "outputs": [],
   "source": [
    "sf = df[df['City'] == \"San Francisco\"]"
   ]
  },
  {
   "attachments": {},
   "cell_type": "markdown",
   "metadata": {},
   "source": [
    "I then also separated the San Francisco portion into public schools and private schools to see the difference between the two categories. I do this for a quite silly reason. But I had to find out.\n",
    "\n",
    "The reason being is that as a general concensus among the Asian American community, especially amongst the parents, private schools are seen as more prestigious than and superior over public schools in many factors. Here are a few examples: One, resources. Two, the people and culture. And lastly, GRADES.\n",
    "\n",
    "Resources: the parents claim that private schools have more recources for the students to succeed. For example more technologies and field trips. These factors MAY contribute to the success of a student, but are not essential to the likelihood of success.\n",
    "\n",
    "People and culture: while the parents might have a point, surrounding yourself with better people will generally get you better in life, it is hard to quantify in the context of college admission. So we will disregard this for now because it plays a less significant role in the data.\n",
    "\n",
    "Grades: As Asians, we pride ourselves in having good grades. We are even teased for having such good grades it's become a stereotype. Regardless of the validity of the stereotype, many Asian parents believe private school students have far better grades and in turn are destined to set their kids up for success. \n",
    "Now THIS, we can actually quantify, because we have data for it. Let's find out."
   ]
  },
  {
   "cell_type": "code",
   "execution_count": 9,
   "metadata": {},
   "outputs": [],
   "source": [
    "sf_public = sf[sf['Type'] == 'public CA']\n",
    "sf_private = sf[sf['Type'] == 'private CA']"
   ]
  },
  {
   "cell_type": "code",
   "execution_count": 37,
   "metadata": {},
   "outputs": [
    {
     "data": {
      "application/vnd.plotly.v1+json": {
       "config": {
        "plotlyServerURL": "https://plot.ly"
       },
       "data": [
        {
         "alignmentgroup": "True",
         "hovertemplate": "variable=App GPA<br>School=%{x}<br>value=%{y}<extra></extra>",
         "legendgroup": "App GPA",
         "marker": {
          "color": "#636efa",
          "pattern": {
           "shape": ""
          }
         },
         "name": "App GPA",
         "offsetgroup": "App GPA",
         "orientation": "v",
         "showlegend": true,
         "textposition": "auto",
         "type": "bar",
         "x": [
          "ABRAHAM LINCOLN HIGH SCHOOL",
          "ACADEMY-SAN FRAN @ MCATEER",
          "BALBOA HIGH SCHOOL",
          "CITY ARTS AND LEADERSHIP HS",
          "GALILEO ACAD OF SCIENCE & TECH",
          "GATEWAY HIGH SCHOOL",
          "GEORGE WASHINGTON HIGH SCHOOL",
          "INDEPENDENCE HIGH SCHOOL",
          "JOHN O'CONNELL HIGH SCHOOL",
          "JUNE JORDAN SCHOOL FOR EQUITY",
          "KIPP SAN FRANCISCO COLG PREP",
          "LEADERSHIP HIGH SCHOOL",
          "LOWELL HIGH SCHOOL",
          "MISSION SENIOR HIGH SCHOOL",
          "PHILLIP & SALA BURTON ACAD HS",
          "RAOUL WALLENBERG TRADITIONAL",
          "RUTH ASAWA SCHOOL OF THE ARTS",
          "SAN FRANCISCO INTERNATIONAL HS",
          "THURGOOD MARSHALL ACADEMIC HS"
         ],
         "xaxis": "x",
         "y": [
          3.9642857142857144,
          3.9779310344827588,
          3.895955882352941,
          3.8600000000000003,
          3.8169921875,
          3.9822784810126586,
          3.934041095890411,
          3.604,
          3.6676470588235297,
          3.605,
          3.593333333333333,
          3.7927777777777774,
          4.15983416252073,
          3.9000000000000004,
          3.9624999999999995,
          3.854512195121951,
          4.009626168224298,
          3.605625,
          3.7430555555555554
         ],
         "yaxis": "y"
        },
        {
         "alignmentgroup": "True",
         "hovertemplate": "variable=Adm GPA<br>School=%{x}<br>value=%{y}<extra></extra>",
         "legendgroup": "Adm GPA",
         "marker": {
          "color": "#EF553B",
          "pattern": {
           "shape": ""
          }
         },
         "name": "Adm GPA",
         "offsetgroup": "Adm GPA",
         "orientation": "v",
         "showlegend": true,
         "textposition": "auto",
         "type": "bar",
         "x": [
          "ABRAHAM LINCOLN HIGH SCHOOL",
          "ACADEMY-SAN FRAN @ MCATEER",
          "BALBOA HIGH SCHOOL",
          "CITY ARTS AND LEADERSHIP HS",
          "GALILEO ACAD OF SCIENCE & TECH",
          "GATEWAY HIGH SCHOOL",
          "GEORGE WASHINGTON HIGH SCHOOL",
          "INDEPENDENCE HIGH SCHOOL",
          "JOHN O'CONNELL HIGH SCHOOL",
          "JUNE JORDAN SCHOOL FOR EQUITY",
          "KIPP SAN FRANCISCO COLG PREP",
          "LEADERSHIP HIGH SCHOOL",
          "LOWELL HIGH SCHOOL",
          "MISSION SENIOR HIGH SCHOOL",
          "PHILLIP & SALA BURTON ACAD HS",
          "RAOUL WALLENBERG TRADITIONAL",
          "RUTH ASAWA SCHOOL OF THE ARTS",
          "SAN FRANCISCO INTERNATIONAL HS",
          "THURGOOD MARSHALL ACADEMIC HS"
         ],
         "xaxis": "x",
         "y": [
          4.077178217821782,
          4.119047619047619,
          4.0621875,
          3.88375,
          3.971694915254237,
          4.039344262295082,
          4.03408071748879,
          null,
          3.839166666666667,
          3.585555555555556,
          3.68,
          3.8725,
          4.24780269058296,
          3.929157894736842,
          4.06009900990099,
          3.983,
          4.0558208955223884,
          3.668461538461538,
          3.818888888888889
         ],
         "yaxis": "y"
        },
        {
         "alignmentgroup": "True",
         "hovertemplate": "variable=Enrl GPA<br>School=%{x}<br>value=%{y}<extra></extra>",
         "legendgroup": "Enrl GPA",
         "marker": {
          "color": "#00cc96",
          "pattern": {
           "shape": ""
          }
         },
         "name": "Enrl GPA",
         "offsetgroup": "Enrl GPA",
         "orientation": "v",
         "showlegend": true,
         "textposition": "auto",
         "type": "bar",
         "x": [
          "ABRAHAM LINCOLN HIGH SCHOOL",
          "ACADEMY-SAN FRAN @ MCATEER",
          "BALBOA HIGH SCHOOL",
          "CITY ARTS AND LEADERSHIP HS",
          "GALILEO ACAD OF SCIENCE & TECH",
          "GATEWAY HIGH SCHOOL",
          "GEORGE WASHINGTON HIGH SCHOOL",
          "INDEPENDENCE HIGH SCHOOL",
          "JOHN O'CONNELL HIGH SCHOOL",
          "JUNE JORDAN SCHOOL FOR EQUITY",
          "KIPP SAN FRANCISCO COLG PREP",
          "LEADERSHIP HIGH SCHOOL",
          "LOWELL HIGH SCHOOL",
          "MISSION SENIOR HIGH SCHOOL",
          "PHILLIP & SALA BURTON ACAD HS",
          "RAOUL WALLENBERG TRADITIONAL",
          "RUTH ASAWA SCHOOL OF THE ARTS",
          "SAN FRANCISCO INTERNATIONAL HS",
          "THURGOOD MARSHALL ACADEMIC HS"
         ],
         "xaxis": "x",
         "y": [
          4.143172413793104,
          4.1838461538461535,
          4.1353623188405795,
          null,
          4.077524752475247,
          4.046206896551724,
          4.107837837837838,
          null,
          3.9699999999999998,
          null,
          3.7979999999999996,
          null,
          4.279897260273973,
          4.015283018867924,
          4.143636363636364,
          4.061153846153847,
          4.1812903225806455,
          null,
          3.7986666666666666
         ],
         "yaxis": "y"
        }
       ],
       "layout": {
        "barmode": "group",
        "legend": {
         "title": {
          "text": "variable"
         },
         "tracegroupgap": 0
        },
        "margin": {
         "t": 60
        },
        "template": {
         "data": {
          "bar": [
           {
            "error_x": {
             "color": "#2a3f5f"
            },
            "error_y": {
             "color": "#2a3f5f"
            },
            "marker": {
             "line": {
              "color": "#E5ECF6",
              "width": 0.5
             },
             "pattern": {
              "fillmode": "overlay",
              "size": 10,
              "solidity": 0.2
             }
            },
            "type": "bar"
           }
          ],
          "barpolar": [
           {
            "marker": {
             "line": {
              "color": "#E5ECF6",
              "width": 0.5
             },
             "pattern": {
              "fillmode": "overlay",
              "size": 10,
              "solidity": 0.2
             }
            },
            "type": "barpolar"
           }
          ],
          "carpet": [
           {
            "aaxis": {
             "endlinecolor": "#2a3f5f",
             "gridcolor": "white",
             "linecolor": "white",
             "minorgridcolor": "white",
             "startlinecolor": "#2a3f5f"
            },
            "baxis": {
             "endlinecolor": "#2a3f5f",
             "gridcolor": "white",
             "linecolor": "white",
             "minorgridcolor": "white",
             "startlinecolor": "#2a3f5f"
            },
            "type": "carpet"
           }
          ],
          "choropleth": [
           {
            "colorbar": {
             "outlinewidth": 0,
             "ticks": ""
            },
            "type": "choropleth"
           }
          ],
          "contour": [
           {
            "colorbar": {
             "outlinewidth": 0,
             "ticks": ""
            },
            "colorscale": [
             [
              0,
              "#0d0887"
             ],
             [
              0.1111111111111111,
              "#46039f"
             ],
             [
              0.2222222222222222,
              "#7201a8"
             ],
             [
              0.3333333333333333,
              "#9c179e"
             ],
             [
              0.4444444444444444,
              "#bd3786"
             ],
             [
              0.5555555555555556,
              "#d8576b"
             ],
             [
              0.6666666666666666,
              "#ed7953"
             ],
             [
              0.7777777777777778,
              "#fb9f3a"
             ],
             [
              0.8888888888888888,
              "#fdca26"
             ],
             [
              1,
              "#f0f921"
             ]
            ],
            "type": "contour"
           }
          ],
          "contourcarpet": [
           {
            "colorbar": {
             "outlinewidth": 0,
             "ticks": ""
            },
            "type": "contourcarpet"
           }
          ],
          "heatmap": [
           {
            "colorbar": {
             "outlinewidth": 0,
             "ticks": ""
            },
            "colorscale": [
             [
              0,
              "#0d0887"
             ],
             [
              0.1111111111111111,
              "#46039f"
             ],
             [
              0.2222222222222222,
              "#7201a8"
             ],
             [
              0.3333333333333333,
              "#9c179e"
             ],
             [
              0.4444444444444444,
              "#bd3786"
             ],
             [
              0.5555555555555556,
              "#d8576b"
             ],
             [
              0.6666666666666666,
              "#ed7953"
             ],
             [
              0.7777777777777778,
              "#fb9f3a"
             ],
             [
              0.8888888888888888,
              "#fdca26"
             ],
             [
              1,
              "#f0f921"
             ]
            ],
            "type": "heatmap"
           }
          ],
          "heatmapgl": [
           {
            "colorbar": {
             "outlinewidth": 0,
             "ticks": ""
            },
            "colorscale": [
             [
              0,
              "#0d0887"
             ],
             [
              0.1111111111111111,
              "#46039f"
             ],
             [
              0.2222222222222222,
              "#7201a8"
             ],
             [
              0.3333333333333333,
              "#9c179e"
             ],
             [
              0.4444444444444444,
              "#bd3786"
             ],
             [
              0.5555555555555556,
              "#d8576b"
             ],
             [
              0.6666666666666666,
              "#ed7953"
             ],
             [
              0.7777777777777778,
              "#fb9f3a"
             ],
             [
              0.8888888888888888,
              "#fdca26"
             ],
             [
              1,
              "#f0f921"
             ]
            ],
            "type": "heatmapgl"
           }
          ],
          "histogram": [
           {
            "marker": {
             "pattern": {
              "fillmode": "overlay",
              "size": 10,
              "solidity": 0.2
             }
            },
            "type": "histogram"
           }
          ],
          "histogram2d": [
           {
            "colorbar": {
             "outlinewidth": 0,
             "ticks": ""
            },
            "colorscale": [
             [
              0,
              "#0d0887"
             ],
             [
              0.1111111111111111,
              "#46039f"
             ],
             [
              0.2222222222222222,
              "#7201a8"
             ],
             [
              0.3333333333333333,
              "#9c179e"
             ],
             [
              0.4444444444444444,
              "#bd3786"
             ],
             [
              0.5555555555555556,
              "#d8576b"
             ],
             [
              0.6666666666666666,
              "#ed7953"
             ],
             [
              0.7777777777777778,
              "#fb9f3a"
             ],
             [
              0.8888888888888888,
              "#fdca26"
             ],
             [
              1,
              "#f0f921"
             ]
            ],
            "type": "histogram2d"
           }
          ],
          "histogram2dcontour": [
           {
            "colorbar": {
             "outlinewidth": 0,
             "ticks": ""
            },
            "colorscale": [
             [
              0,
              "#0d0887"
             ],
             [
              0.1111111111111111,
              "#46039f"
             ],
             [
              0.2222222222222222,
              "#7201a8"
             ],
             [
              0.3333333333333333,
              "#9c179e"
             ],
             [
              0.4444444444444444,
              "#bd3786"
             ],
             [
              0.5555555555555556,
              "#d8576b"
             ],
             [
              0.6666666666666666,
              "#ed7953"
             ],
             [
              0.7777777777777778,
              "#fb9f3a"
             ],
             [
              0.8888888888888888,
              "#fdca26"
             ],
             [
              1,
              "#f0f921"
             ]
            ],
            "type": "histogram2dcontour"
           }
          ],
          "mesh3d": [
           {
            "colorbar": {
             "outlinewidth": 0,
             "ticks": ""
            },
            "type": "mesh3d"
           }
          ],
          "parcoords": [
           {
            "line": {
             "colorbar": {
              "outlinewidth": 0,
              "ticks": ""
             }
            },
            "type": "parcoords"
           }
          ],
          "pie": [
           {
            "automargin": true,
            "type": "pie"
           }
          ],
          "scatter": [
           {
            "marker": {
             "colorbar": {
              "outlinewidth": 0,
              "ticks": ""
             }
            },
            "type": "scatter"
           }
          ],
          "scatter3d": [
           {
            "line": {
             "colorbar": {
              "outlinewidth": 0,
              "ticks": ""
             }
            },
            "marker": {
             "colorbar": {
              "outlinewidth": 0,
              "ticks": ""
             }
            },
            "type": "scatter3d"
           }
          ],
          "scattercarpet": [
           {
            "marker": {
             "colorbar": {
              "outlinewidth": 0,
              "ticks": ""
             }
            },
            "type": "scattercarpet"
           }
          ],
          "scattergeo": [
           {
            "marker": {
             "colorbar": {
              "outlinewidth": 0,
              "ticks": ""
             }
            },
            "type": "scattergeo"
           }
          ],
          "scattergl": [
           {
            "marker": {
             "colorbar": {
              "outlinewidth": 0,
              "ticks": ""
             }
            },
            "type": "scattergl"
           }
          ],
          "scattermapbox": [
           {
            "marker": {
             "colorbar": {
              "outlinewidth": 0,
              "ticks": ""
             }
            },
            "type": "scattermapbox"
           }
          ],
          "scatterpolar": [
           {
            "marker": {
             "colorbar": {
              "outlinewidth": 0,
              "ticks": ""
             }
            },
            "type": "scatterpolar"
           }
          ],
          "scatterpolargl": [
           {
            "marker": {
             "colorbar": {
              "outlinewidth": 0,
              "ticks": ""
             }
            },
            "type": "scatterpolargl"
           }
          ],
          "scatterternary": [
           {
            "marker": {
             "colorbar": {
              "outlinewidth": 0,
              "ticks": ""
             }
            },
            "type": "scatterternary"
           }
          ],
          "surface": [
           {
            "colorbar": {
             "outlinewidth": 0,
             "ticks": ""
            },
            "colorscale": [
             [
              0,
              "#0d0887"
             ],
             [
              0.1111111111111111,
              "#46039f"
             ],
             [
              0.2222222222222222,
              "#7201a8"
             ],
             [
              0.3333333333333333,
              "#9c179e"
             ],
             [
              0.4444444444444444,
              "#bd3786"
             ],
             [
              0.5555555555555556,
              "#d8576b"
             ],
             [
              0.6666666666666666,
              "#ed7953"
             ],
             [
              0.7777777777777778,
              "#fb9f3a"
             ],
             [
              0.8888888888888888,
              "#fdca26"
             ],
             [
              1,
              "#f0f921"
             ]
            ],
            "type": "surface"
           }
          ],
          "table": [
           {
            "cells": {
             "fill": {
              "color": "#EBF0F8"
             },
             "line": {
              "color": "white"
             }
            },
            "header": {
             "fill": {
              "color": "#C8D4E3"
             },
             "line": {
              "color": "white"
             }
            },
            "type": "table"
           }
          ]
         },
         "layout": {
          "annotationdefaults": {
           "arrowcolor": "#2a3f5f",
           "arrowhead": 0,
           "arrowwidth": 1
          },
          "autotypenumbers": "strict",
          "coloraxis": {
           "colorbar": {
            "outlinewidth": 0,
            "ticks": ""
           }
          },
          "colorscale": {
           "diverging": [
            [
             0,
             "#8e0152"
            ],
            [
             0.1,
             "#c51b7d"
            ],
            [
             0.2,
             "#de77ae"
            ],
            [
             0.3,
             "#f1b6da"
            ],
            [
             0.4,
             "#fde0ef"
            ],
            [
             0.5,
             "#f7f7f7"
            ],
            [
             0.6,
             "#e6f5d0"
            ],
            [
             0.7,
             "#b8e186"
            ],
            [
             0.8,
             "#7fbc41"
            ],
            [
             0.9,
             "#4d9221"
            ],
            [
             1,
             "#276419"
            ]
           ],
           "sequential": [
            [
             0,
             "#0d0887"
            ],
            [
             0.1111111111111111,
             "#46039f"
            ],
            [
             0.2222222222222222,
             "#7201a8"
            ],
            [
             0.3333333333333333,
             "#9c179e"
            ],
            [
             0.4444444444444444,
             "#bd3786"
            ],
            [
             0.5555555555555556,
             "#d8576b"
            ],
            [
             0.6666666666666666,
             "#ed7953"
            ],
            [
             0.7777777777777778,
             "#fb9f3a"
            ],
            [
             0.8888888888888888,
             "#fdca26"
            ],
            [
             1,
             "#f0f921"
            ]
           ],
           "sequentialminus": [
            [
             0,
             "#0d0887"
            ],
            [
             0.1111111111111111,
             "#46039f"
            ],
            [
             0.2222222222222222,
             "#7201a8"
            ],
            [
             0.3333333333333333,
             "#9c179e"
            ],
            [
             0.4444444444444444,
             "#bd3786"
            ],
            [
             0.5555555555555556,
             "#d8576b"
            ],
            [
             0.6666666666666666,
             "#ed7953"
            ],
            [
             0.7777777777777778,
             "#fb9f3a"
            ],
            [
             0.8888888888888888,
             "#fdca26"
            ],
            [
             1,
             "#f0f921"
            ]
           ]
          },
          "colorway": [
           "#636efa",
           "#EF553B",
           "#00cc96",
           "#ab63fa",
           "#FFA15A",
           "#19d3f3",
           "#FF6692",
           "#B6E880",
           "#FF97FF",
           "#FECB52"
          ],
          "font": {
           "color": "#2a3f5f"
          },
          "geo": {
           "bgcolor": "white",
           "lakecolor": "white",
           "landcolor": "#E5ECF6",
           "showlakes": true,
           "showland": true,
           "subunitcolor": "white"
          },
          "hoverlabel": {
           "align": "left"
          },
          "hovermode": "closest",
          "mapbox": {
           "style": "light"
          },
          "paper_bgcolor": "white",
          "plot_bgcolor": "#E5ECF6",
          "polar": {
           "angularaxis": {
            "gridcolor": "white",
            "linecolor": "white",
            "ticks": ""
           },
           "bgcolor": "#E5ECF6",
           "radialaxis": {
            "gridcolor": "white",
            "linecolor": "white",
            "ticks": ""
           }
          },
          "scene": {
           "xaxis": {
            "backgroundcolor": "#E5ECF6",
            "gridcolor": "white",
            "gridwidth": 2,
            "linecolor": "white",
            "showbackground": true,
            "ticks": "",
            "zerolinecolor": "white"
           },
           "yaxis": {
            "backgroundcolor": "#E5ECF6",
            "gridcolor": "white",
            "gridwidth": 2,
            "linecolor": "white",
            "showbackground": true,
            "ticks": "",
            "zerolinecolor": "white"
           },
           "zaxis": {
            "backgroundcolor": "#E5ECF6",
            "gridcolor": "white",
            "gridwidth": 2,
            "linecolor": "white",
            "showbackground": true,
            "ticks": "",
            "zerolinecolor": "white"
           }
          },
          "shapedefaults": {
           "line": {
            "color": "#2a3f5f"
           }
          },
          "ternary": {
           "aaxis": {
            "gridcolor": "white",
            "linecolor": "white",
            "ticks": ""
           },
           "baxis": {
            "gridcolor": "white",
            "linecolor": "white",
            "ticks": ""
           },
           "bgcolor": "#E5ECF6",
           "caxis": {
            "gridcolor": "white",
            "linecolor": "white",
            "ticks": ""
           }
          },
          "title": {
           "x": 0.05
          },
          "xaxis": {
           "automargin": true,
           "gridcolor": "white",
           "linecolor": "white",
           "ticks": "",
           "title": {
            "standoff": 15
           },
           "zerolinecolor": "white",
           "zerolinewidth": 2
          },
          "yaxis": {
           "automargin": true,
           "gridcolor": "white",
           "linecolor": "white",
           "ticks": "",
           "title": {
            "standoff": 15
           },
           "zerolinecolor": "white",
           "zerolinewidth": 2
          }
         }
        },
        "xaxis": {
         "anchor": "y",
         "domain": [
          0,
          1
         ],
         "title": {
          "text": "School"
         }
        },
        "yaxis": {
         "anchor": "x",
         "domain": [
          0,
          1
         ],
         "title": {
          "text": "value"
         }
        }
       }
      }
     },
     "metadata": {},
     "output_type": "display_data"
    }
   ],
   "source": [
    "sfpublic_bar_graph = px.bar(sf_public, x = \"School\", y = [\"App GPA\", \"Adm GPA\", \"Enrl GPA\"], barmode = 'group')\n",
    "sfpublic_bar_graph.show()"
   ]
  },
  {
   "cell_type": "code",
   "execution_count": 38,
   "metadata": {},
   "outputs": [
    {
     "data": {
      "application/vnd.plotly.v1+json": {
       "config": {
        "plotlyServerURL": "https://plot.ly"
       },
       "data": [
        {
         "alignmentgroup": "True",
         "hovertemplate": "variable=App GPA<br>School=%{x}<br>value=%{y}<extra></extra>",
         "legendgroup": "App GPA",
         "marker": {
          "color": "#636efa",
          "pattern": {
           "shape": ""
          }
         },
         "name": "App GPA",
         "offsetgroup": "App GPA",
         "orientation": "v",
         "showlegend": true,
         "textposition": "auto",
         "type": "bar",
         "x": [
          "ACADEMY OF THOUGHT AND INDSTRY",
          "ARCHBISHOP RIORDAN HIGH SCHOOL",
          "BAY SCHOOL OF SAN FRANCISCO",
          "CONVENT OF THE SACRED HEART HS",
          "DREW SCHOOL",
          "IMMACULATE CONCEPTION ACADEMY",
          "INTERNATIONAL HIGH SCHOOL FAIS",
          "JEWISH COMMUNITY HS OF THE BAY",
          "LICK WILMERDING HIGH SCHOOL",
          "LYCEE FRANCAIS DE SAN FRAN",
          "PROOF SCHOOL",
          "SACRED HEART CATHEDRAL PREP",
          "SAINT IGNATIUS COLLEGE PREP SC",
          "SAN FRANCISCO HS OF THE ARTS",
          "SAN FRANCISCO UNIVERSITY HS",
          "SAN FRANCISCO WALDORF HS",
          "STUART HALL HIGH SCHOOL",
          "URBAN SCHOOL OF SAN FRANCISCO"
         ],
         "xaxis": "x",
         "y": [
          4.023333333333333,
          3.7425,
          3.8464150943396227,
          4.0661764705882355,
          3.9539999999999997,
          3.67,
          3.9970588235294118,
          3.9696774193548388,
          4.128315789473684,
          4.043428571428572,
          4.116315789473684,
          3.9555217391304347,
          4.045227272727273,
          3.95,
          4.1127692307692305,
          3.6970833333333335,
          3.873235294117647,
          4.016707317073171
         ],
         "yaxis": "y"
        },
        {
         "alignmentgroup": "True",
         "hovertemplate": "variable=Adm GPA<br>School=%{x}<br>value=%{y}<extra></extra>",
         "legendgroup": "Adm GPA",
         "marker": {
          "color": "#EF553B",
          "pattern": {
           "shape": ""
          }
         },
         "name": "Adm GPA",
         "offsetgroup": "Adm GPA",
         "orientation": "v",
         "showlegend": true,
         "textposition": "auto",
         "type": "bar",
         "x": [
          "ACADEMY OF THOUGHT AND INDSTRY",
          "ARCHBISHOP RIORDAN HIGH SCHOOL",
          "BAY SCHOOL OF SAN FRANCISCO",
          "CONVENT OF THE SACRED HEART HS",
          "DREW SCHOOL",
          "IMMACULATE CONCEPTION ACADEMY",
          "INTERNATIONAL HIGH SCHOOL FAIS",
          "JEWISH COMMUNITY HS OF THE BAY",
          "LICK WILMERDING HIGH SCHOOL",
          "LYCEE FRANCAIS DE SAN FRAN",
          "PROOF SCHOOL",
          "SACRED HEART CATHEDRAL PREP",
          "SAINT IGNATIUS COLLEGE PREP SC",
          "SAN FRANCISCO HS OF THE ARTS",
          "SAN FRANCISCO UNIVERSITY HS",
          "SAN FRANCISCO WALDORF HS",
          "STUART HALL HIGH SCHOOL",
          "URBAN SCHOOL OF SAN FRANCISCO"
         ],
         "xaxis": "x",
         "y": [
          null,
          3.9080882352941178,
          3.9433333333333334,
          4.167272727272728,
          4.055,
          3.7536,
          4.036585365853658,
          4.05125,
          4.163606557377049,
          4.069333333333334,
          4.126470588235295,
          4.009722222222222,
          4.099261744966443,
          null,
          4.140689655172414,
          3.8475,
          3.9804761904761907,
          4.108205128205128
         ],
         "yaxis": "y"
        },
        {
         "alignmentgroup": "True",
         "hovertemplate": "variable=Enrl GPA<br>School=%{x}<br>value=%{y}<extra></extra>",
         "legendgroup": "Enrl GPA",
         "marker": {
          "color": "#00cc96",
          "pattern": {
           "shape": ""
          }
         },
         "name": "Enrl GPA",
         "offsetgroup": "Enrl GPA",
         "orientation": "v",
         "showlegend": true,
         "textposition": "auto",
         "type": "bar",
         "x": [
          "ACADEMY OF THOUGHT AND INDSTRY",
          "ARCHBISHOP RIORDAN HIGH SCHOOL",
          "BAY SCHOOL OF SAN FRANCISCO",
          "CONVENT OF THE SACRED HEART HS",
          "DREW SCHOOL",
          "IMMACULATE CONCEPTION ACADEMY",
          "INTERNATIONAL HIGH SCHOOL FAIS",
          "JEWISH COMMUNITY HS OF THE BAY",
          "LICK WILMERDING HIGH SCHOOL",
          "LYCEE FRANCAIS DE SAN FRAN",
          "PROOF SCHOOL",
          "SACRED HEART CATHEDRAL PREP",
          "SAINT IGNATIUS COLLEGE PREP SC",
          "SAN FRANCISCO HS OF THE ARTS",
          "SAN FRANCISCO UNIVERSITY HS",
          "SAN FRANCISCO WALDORF HS",
          "STUART HALL HIGH SCHOOL",
          "URBAN SCHOOL OF SAN FRANCISCO"
         ],
         "xaxis": "x",
         "y": [
          null,
          4.028499999999999,
          4.054,
          4.192,
          4.02,
          4.056923076923077,
          4.081428571428572,
          4.075714285714286,
          4.18,
          4.1269230769230765,
          null,
          4.127037037037037,
          4.200862068965518,
          null,
          4.226666666666667,
          null,
          4.073333333333333,
          4.151
         ],
         "yaxis": "y"
        }
       ],
       "layout": {
        "barmode": "group",
        "legend": {
         "title": {
          "text": "variable"
         },
         "tracegroupgap": 0
        },
        "margin": {
         "t": 60
        },
        "template": {
         "data": {
          "bar": [
           {
            "error_x": {
             "color": "#2a3f5f"
            },
            "error_y": {
             "color": "#2a3f5f"
            },
            "marker": {
             "line": {
              "color": "#E5ECF6",
              "width": 0.5
             },
             "pattern": {
              "fillmode": "overlay",
              "size": 10,
              "solidity": 0.2
             }
            },
            "type": "bar"
           }
          ],
          "barpolar": [
           {
            "marker": {
             "line": {
              "color": "#E5ECF6",
              "width": 0.5
             },
             "pattern": {
              "fillmode": "overlay",
              "size": 10,
              "solidity": 0.2
             }
            },
            "type": "barpolar"
           }
          ],
          "carpet": [
           {
            "aaxis": {
             "endlinecolor": "#2a3f5f",
             "gridcolor": "white",
             "linecolor": "white",
             "minorgridcolor": "white",
             "startlinecolor": "#2a3f5f"
            },
            "baxis": {
             "endlinecolor": "#2a3f5f",
             "gridcolor": "white",
             "linecolor": "white",
             "minorgridcolor": "white",
             "startlinecolor": "#2a3f5f"
            },
            "type": "carpet"
           }
          ],
          "choropleth": [
           {
            "colorbar": {
             "outlinewidth": 0,
             "ticks": ""
            },
            "type": "choropleth"
           }
          ],
          "contour": [
           {
            "colorbar": {
             "outlinewidth": 0,
             "ticks": ""
            },
            "colorscale": [
             [
              0,
              "#0d0887"
             ],
             [
              0.1111111111111111,
              "#46039f"
             ],
             [
              0.2222222222222222,
              "#7201a8"
             ],
             [
              0.3333333333333333,
              "#9c179e"
             ],
             [
              0.4444444444444444,
              "#bd3786"
             ],
             [
              0.5555555555555556,
              "#d8576b"
             ],
             [
              0.6666666666666666,
              "#ed7953"
             ],
             [
              0.7777777777777778,
              "#fb9f3a"
             ],
             [
              0.8888888888888888,
              "#fdca26"
             ],
             [
              1,
              "#f0f921"
             ]
            ],
            "type": "contour"
           }
          ],
          "contourcarpet": [
           {
            "colorbar": {
             "outlinewidth": 0,
             "ticks": ""
            },
            "type": "contourcarpet"
           }
          ],
          "heatmap": [
           {
            "colorbar": {
             "outlinewidth": 0,
             "ticks": ""
            },
            "colorscale": [
             [
              0,
              "#0d0887"
             ],
             [
              0.1111111111111111,
              "#46039f"
             ],
             [
              0.2222222222222222,
              "#7201a8"
             ],
             [
              0.3333333333333333,
              "#9c179e"
             ],
             [
              0.4444444444444444,
              "#bd3786"
             ],
             [
              0.5555555555555556,
              "#d8576b"
             ],
             [
              0.6666666666666666,
              "#ed7953"
             ],
             [
              0.7777777777777778,
              "#fb9f3a"
             ],
             [
              0.8888888888888888,
              "#fdca26"
             ],
             [
              1,
              "#f0f921"
             ]
            ],
            "type": "heatmap"
           }
          ],
          "heatmapgl": [
           {
            "colorbar": {
             "outlinewidth": 0,
             "ticks": ""
            },
            "colorscale": [
             [
              0,
              "#0d0887"
             ],
             [
              0.1111111111111111,
              "#46039f"
             ],
             [
              0.2222222222222222,
              "#7201a8"
             ],
             [
              0.3333333333333333,
              "#9c179e"
             ],
             [
              0.4444444444444444,
              "#bd3786"
             ],
             [
              0.5555555555555556,
              "#d8576b"
             ],
             [
              0.6666666666666666,
              "#ed7953"
             ],
             [
              0.7777777777777778,
              "#fb9f3a"
             ],
             [
              0.8888888888888888,
              "#fdca26"
             ],
             [
              1,
              "#f0f921"
             ]
            ],
            "type": "heatmapgl"
           }
          ],
          "histogram": [
           {
            "marker": {
             "pattern": {
              "fillmode": "overlay",
              "size": 10,
              "solidity": 0.2
             }
            },
            "type": "histogram"
           }
          ],
          "histogram2d": [
           {
            "colorbar": {
             "outlinewidth": 0,
             "ticks": ""
            },
            "colorscale": [
             [
              0,
              "#0d0887"
             ],
             [
              0.1111111111111111,
              "#46039f"
             ],
             [
              0.2222222222222222,
              "#7201a8"
             ],
             [
              0.3333333333333333,
              "#9c179e"
             ],
             [
              0.4444444444444444,
              "#bd3786"
             ],
             [
              0.5555555555555556,
              "#d8576b"
             ],
             [
              0.6666666666666666,
              "#ed7953"
             ],
             [
              0.7777777777777778,
              "#fb9f3a"
             ],
             [
              0.8888888888888888,
              "#fdca26"
             ],
             [
              1,
              "#f0f921"
             ]
            ],
            "type": "histogram2d"
           }
          ],
          "histogram2dcontour": [
           {
            "colorbar": {
             "outlinewidth": 0,
             "ticks": ""
            },
            "colorscale": [
             [
              0,
              "#0d0887"
             ],
             [
              0.1111111111111111,
              "#46039f"
             ],
             [
              0.2222222222222222,
              "#7201a8"
             ],
             [
              0.3333333333333333,
              "#9c179e"
             ],
             [
              0.4444444444444444,
              "#bd3786"
             ],
             [
              0.5555555555555556,
              "#d8576b"
             ],
             [
              0.6666666666666666,
              "#ed7953"
             ],
             [
              0.7777777777777778,
              "#fb9f3a"
             ],
             [
              0.8888888888888888,
              "#fdca26"
             ],
             [
              1,
              "#f0f921"
             ]
            ],
            "type": "histogram2dcontour"
           }
          ],
          "mesh3d": [
           {
            "colorbar": {
             "outlinewidth": 0,
             "ticks": ""
            },
            "type": "mesh3d"
           }
          ],
          "parcoords": [
           {
            "line": {
             "colorbar": {
              "outlinewidth": 0,
              "ticks": ""
             }
            },
            "type": "parcoords"
           }
          ],
          "pie": [
           {
            "automargin": true,
            "type": "pie"
           }
          ],
          "scatter": [
           {
            "marker": {
             "colorbar": {
              "outlinewidth": 0,
              "ticks": ""
             }
            },
            "type": "scatter"
           }
          ],
          "scatter3d": [
           {
            "line": {
             "colorbar": {
              "outlinewidth": 0,
              "ticks": ""
             }
            },
            "marker": {
             "colorbar": {
              "outlinewidth": 0,
              "ticks": ""
             }
            },
            "type": "scatter3d"
           }
          ],
          "scattercarpet": [
           {
            "marker": {
             "colorbar": {
              "outlinewidth": 0,
              "ticks": ""
             }
            },
            "type": "scattercarpet"
           }
          ],
          "scattergeo": [
           {
            "marker": {
             "colorbar": {
              "outlinewidth": 0,
              "ticks": ""
             }
            },
            "type": "scattergeo"
           }
          ],
          "scattergl": [
           {
            "marker": {
             "colorbar": {
              "outlinewidth": 0,
              "ticks": ""
             }
            },
            "type": "scattergl"
           }
          ],
          "scattermapbox": [
           {
            "marker": {
             "colorbar": {
              "outlinewidth": 0,
              "ticks": ""
             }
            },
            "type": "scattermapbox"
           }
          ],
          "scatterpolar": [
           {
            "marker": {
             "colorbar": {
              "outlinewidth": 0,
              "ticks": ""
             }
            },
            "type": "scatterpolar"
           }
          ],
          "scatterpolargl": [
           {
            "marker": {
             "colorbar": {
              "outlinewidth": 0,
              "ticks": ""
             }
            },
            "type": "scatterpolargl"
           }
          ],
          "scatterternary": [
           {
            "marker": {
             "colorbar": {
              "outlinewidth": 0,
              "ticks": ""
             }
            },
            "type": "scatterternary"
           }
          ],
          "surface": [
           {
            "colorbar": {
             "outlinewidth": 0,
             "ticks": ""
            },
            "colorscale": [
             [
              0,
              "#0d0887"
             ],
             [
              0.1111111111111111,
              "#46039f"
             ],
             [
              0.2222222222222222,
              "#7201a8"
             ],
             [
              0.3333333333333333,
              "#9c179e"
             ],
             [
              0.4444444444444444,
              "#bd3786"
             ],
             [
              0.5555555555555556,
              "#d8576b"
             ],
             [
              0.6666666666666666,
              "#ed7953"
             ],
             [
              0.7777777777777778,
              "#fb9f3a"
             ],
             [
              0.8888888888888888,
              "#fdca26"
             ],
             [
              1,
              "#f0f921"
             ]
            ],
            "type": "surface"
           }
          ],
          "table": [
           {
            "cells": {
             "fill": {
              "color": "#EBF0F8"
             },
             "line": {
              "color": "white"
             }
            },
            "header": {
             "fill": {
              "color": "#C8D4E3"
             },
             "line": {
              "color": "white"
             }
            },
            "type": "table"
           }
          ]
         },
         "layout": {
          "annotationdefaults": {
           "arrowcolor": "#2a3f5f",
           "arrowhead": 0,
           "arrowwidth": 1
          },
          "autotypenumbers": "strict",
          "coloraxis": {
           "colorbar": {
            "outlinewidth": 0,
            "ticks": ""
           }
          },
          "colorscale": {
           "diverging": [
            [
             0,
             "#8e0152"
            ],
            [
             0.1,
             "#c51b7d"
            ],
            [
             0.2,
             "#de77ae"
            ],
            [
             0.3,
             "#f1b6da"
            ],
            [
             0.4,
             "#fde0ef"
            ],
            [
             0.5,
             "#f7f7f7"
            ],
            [
             0.6,
             "#e6f5d0"
            ],
            [
             0.7,
             "#b8e186"
            ],
            [
             0.8,
             "#7fbc41"
            ],
            [
             0.9,
             "#4d9221"
            ],
            [
             1,
             "#276419"
            ]
           ],
           "sequential": [
            [
             0,
             "#0d0887"
            ],
            [
             0.1111111111111111,
             "#46039f"
            ],
            [
             0.2222222222222222,
             "#7201a8"
            ],
            [
             0.3333333333333333,
             "#9c179e"
            ],
            [
             0.4444444444444444,
             "#bd3786"
            ],
            [
             0.5555555555555556,
             "#d8576b"
            ],
            [
             0.6666666666666666,
             "#ed7953"
            ],
            [
             0.7777777777777778,
             "#fb9f3a"
            ],
            [
             0.8888888888888888,
             "#fdca26"
            ],
            [
             1,
             "#f0f921"
            ]
           ],
           "sequentialminus": [
            [
             0,
             "#0d0887"
            ],
            [
             0.1111111111111111,
             "#46039f"
            ],
            [
             0.2222222222222222,
             "#7201a8"
            ],
            [
             0.3333333333333333,
             "#9c179e"
            ],
            [
             0.4444444444444444,
             "#bd3786"
            ],
            [
             0.5555555555555556,
             "#d8576b"
            ],
            [
             0.6666666666666666,
             "#ed7953"
            ],
            [
             0.7777777777777778,
             "#fb9f3a"
            ],
            [
             0.8888888888888888,
             "#fdca26"
            ],
            [
             1,
             "#f0f921"
            ]
           ]
          },
          "colorway": [
           "#636efa",
           "#EF553B",
           "#00cc96",
           "#ab63fa",
           "#FFA15A",
           "#19d3f3",
           "#FF6692",
           "#B6E880",
           "#FF97FF",
           "#FECB52"
          ],
          "font": {
           "color": "#2a3f5f"
          },
          "geo": {
           "bgcolor": "white",
           "lakecolor": "white",
           "landcolor": "#E5ECF6",
           "showlakes": true,
           "showland": true,
           "subunitcolor": "white"
          },
          "hoverlabel": {
           "align": "left"
          },
          "hovermode": "closest",
          "mapbox": {
           "style": "light"
          },
          "paper_bgcolor": "white",
          "plot_bgcolor": "#E5ECF6",
          "polar": {
           "angularaxis": {
            "gridcolor": "white",
            "linecolor": "white",
            "ticks": ""
           },
           "bgcolor": "#E5ECF6",
           "radialaxis": {
            "gridcolor": "white",
            "linecolor": "white",
            "ticks": ""
           }
          },
          "scene": {
           "xaxis": {
            "backgroundcolor": "#E5ECF6",
            "gridcolor": "white",
            "gridwidth": 2,
            "linecolor": "white",
            "showbackground": true,
            "ticks": "",
            "zerolinecolor": "white"
           },
           "yaxis": {
            "backgroundcolor": "#E5ECF6",
            "gridcolor": "white",
            "gridwidth": 2,
            "linecolor": "white",
            "showbackground": true,
            "ticks": "",
            "zerolinecolor": "white"
           },
           "zaxis": {
            "backgroundcolor": "#E5ECF6",
            "gridcolor": "white",
            "gridwidth": 2,
            "linecolor": "white",
            "showbackground": true,
            "ticks": "",
            "zerolinecolor": "white"
           }
          },
          "shapedefaults": {
           "line": {
            "color": "#2a3f5f"
           }
          },
          "ternary": {
           "aaxis": {
            "gridcolor": "white",
            "linecolor": "white",
            "ticks": ""
           },
           "baxis": {
            "gridcolor": "white",
            "linecolor": "white",
            "ticks": ""
           },
           "bgcolor": "#E5ECF6",
           "caxis": {
            "gridcolor": "white",
            "linecolor": "white",
            "ticks": ""
           }
          },
          "title": {
           "x": 0.05
          },
          "xaxis": {
           "automargin": true,
           "gridcolor": "white",
           "linecolor": "white",
           "ticks": "",
           "title": {
            "standoff": 15
           },
           "zerolinecolor": "white",
           "zerolinewidth": 2
          },
          "yaxis": {
           "automargin": true,
           "gridcolor": "white",
           "linecolor": "white",
           "ticks": "",
           "title": {
            "standoff": 15
           },
           "zerolinecolor": "white",
           "zerolinewidth": 2
          }
         }
        },
        "xaxis": {
         "anchor": "y",
         "domain": [
          0,
          1
         ],
         "title": {
          "text": "School"
         }
        },
        "yaxis": {
         "anchor": "x",
         "domain": [
          0,
          1
         ],
         "title": {
          "text": "value"
         }
        }
       }
      }
     },
     "metadata": {},
     "output_type": "display_data"
    }
   ],
   "source": [
    "sfprivate_bar_graph = px.bar(sf_private, x = \"School\", y = [\"App GPA\", \"Adm GPA\", \"Enrl GPA\"], barmode = 'group')\n",
    "sfprivate_bar_graph.show()"
   ]
  },
  {
   "cell_type": "code",
   "execution_count": 12,
   "metadata": {},
   "outputs": [
    {
     "data": {
      "text/html": [
       "<div>\n",
       "<style scoped>\n",
       "    .dataframe tbody tr th:only-of-type {\n",
       "        vertical-align: middle;\n",
       "    }\n",
       "\n",
       "    .dataframe tbody tr th {\n",
       "        vertical-align: top;\n",
       "    }\n",
       "\n",
       "    .dataframe thead th {\n",
       "        text-align: right;\n",
       "    }\n",
       "</style>\n",
       "<table border=\"1\" class=\"dataframe\">\n",
       "  <thead>\n",
       "    <tr style=\"text-align: right;\">\n",
       "      <th></th>\n",
       "      <th>App GPA</th>\n",
       "      <th>Adm GPA</th>\n",
       "      <th>Enrl GPA</th>\n",
       "    </tr>\n",
       "  </thead>\n",
       "  <tbody>\n",
       "    <tr>\n",
       "      <th>count</th>\n",
       "      <td>19.000000</td>\n",
       "      <td>18.000000</td>\n",
       "      <td>14.000000</td>\n",
       "    </tr>\n",
       "    <tr>\n",
       "      <th>mean</th>\n",
       "      <td>3.838389</td>\n",
       "      <td>3.940430</td>\n",
       "      <td>4.067277</td>\n",
       "    </tr>\n",
       "    <tr>\n",
       "      <th>std</th>\n",
       "      <td>0.164230</td>\n",
       "      <td>0.173136</td>\n",
       "      <td>0.137863</td>\n",
       "    </tr>\n",
       "    <tr>\n",
       "      <th>min</th>\n",
       "      <td>3.593333</td>\n",
       "      <td>3.585556</td>\n",
       "      <td>3.798000</td>\n",
       "    </tr>\n",
       "    <tr>\n",
       "      <th>25%</th>\n",
       "      <td>3.705351</td>\n",
       "      <td>3.847500</td>\n",
       "      <td>4.023014</td>\n",
       "    </tr>\n",
       "    <tr>\n",
       "      <th>50%</th>\n",
       "      <td>3.860000</td>\n",
       "      <td>3.977347</td>\n",
       "      <td>4.092681</td>\n",
       "    </tr>\n",
       "    <tr>\n",
       "      <th>75%</th>\n",
       "      <td>3.963393</td>\n",
       "      <td>4.059029</td>\n",
       "      <td>4.143520</td>\n",
       "    </tr>\n",
       "    <tr>\n",
       "      <th>max</th>\n",
       "      <td>4.159834</td>\n",
       "      <td>4.247803</td>\n",
       "      <td>4.279897</td>\n",
       "    </tr>\n",
       "  </tbody>\n",
       "</table>\n",
       "</div>"
      ],
      "text/plain": [
       "         App GPA    Adm GPA   Enrl GPA\n",
       "count  19.000000  18.000000  14.000000\n",
       "mean    3.838389   3.940430   4.067277\n",
       "std     0.164230   0.173136   0.137863\n",
       "min     3.593333   3.585556   3.798000\n",
       "25%     3.705351   3.847500   4.023014\n",
       "50%     3.860000   3.977347   4.092681\n",
       "75%     3.963393   4.059029   4.143520\n",
       "max     4.159834   4.247803   4.279897"
      ]
     },
     "execution_count": 12,
     "metadata": {},
     "output_type": "execute_result"
    }
   ],
   "source": [
    "sf_public[['School', 'App GPA', 'Adm GPA', 'Enrl GPA']].describe()"
   ]
  },
  {
   "cell_type": "code",
   "execution_count": 13,
   "metadata": {},
   "outputs": [
    {
     "data": {
      "text/html": [
       "<div>\n",
       "<style scoped>\n",
       "    .dataframe tbody tr th:only-of-type {\n",
       "        vertical-align: middle;\n",
       "    }\n",
       "\n",
       "    .dataframe tbody tr th {\n",
       "        vertical-align: top;\n",
       "    }\n",
       "\n",
       "    .dataframe thead th {\n",
       "        text-align: right;\n",
       "    }\n",
       "</style>\n",
       "<table border=\"1\" class=\"dataframe\">\n",
       "  <thead>\n",
       "    <tr style=\"text-align: right;\">\n",
       "      <th></th>\n",
       "      <th>App GPA</th>\n",
       "      <th>Adm GPA</th>\n",
       "      <th>Enrl GPA</th>\n",
       "    </tr>\n",
       "  </thead>\n",
       "  <tbody>\n",
       "    <tr>\n",
       "      <th>count</th>\n",
       "      <td>18.000000</td>\n",
       "      <td>16.000000</td>\n",
       "      <td>14.000000</td>\n",
       "    </tr>\n",
       "    <tr>\n",
       "      <th>mean</th>\n",
       "      <td>3.955987</td>\n",
       "      <td>4.028775</td>\n",
       "      <td>4.113885</td>\n",
       "    </tr>\n",
       "    <tr>\n",
       "      <th>std</th>\n",
       "      <td>0.139563</td>\n",
       "      <td>0.117402</td>\n",
       "      <td>0.067692</td>\n",
       "    </tr>\n",
       "    <tr>\n",
       "      <th>min</th>\n",
       "      <td>3.670000</td>\n",
       "      <td>3.753600</td>\n",
       "      <td>4.020000</td>\n",
       "    </tr>\n",
       "    <tr>\n",
       "      <th>25%</th>\n",
       "      <td>3.892426</td>\n",
       "      <td>3.971190</td>\n",
       "      <td>4.061026</td>\n",
       "    </tr>\n",
       "    <tr>\n",
       "      <th>50%</th>\n",
       "      <td>3.983368</td>\n",
       "      <td>4.053125</td>\n",
       "      <td>4.104176</td>\n",
       "    </tr>\n",
       "    <tr>\n",
       "      <th>75%</th>\n",
       "      <td>4.044778</td>\n",
       "      <td>4.112771</td>\n",
       "      <td>4.172750</td>\n",
       "    </tr>\n",
       "    <tr>\n",
       "      <th>max</th>\n",
       "      <td>4.128316</td>\n",
       "      <td>4.167273</td>\n",
       "      <td>4.226667</td>\n",
       "    </tr>\n",
       "  </tbody>\n",
       "</table>\n",
       "</div>"
      ],
      "text/plain": [
       "         App GPA    Adm GPA   Enrl GPA\n",
       "count  18.000000  16.000000  14.000000\n",
       "mean    3.955987   4.028775   4.113885\n",
       "std     0.139563   0.117402   0.067692\n",
       "min     3.670000   3.753600   4.020000\n",
       "25%     3.892426   3.971190   4.061026\n",
       "50%     3.983368   4.053125   4.104176\n",
       "75%     4.044778   4.112771   4.172750\n",
       "max     4.128316   4.167273   4.226667"
      ]
     },
     "execution_count": 13,
     "metadata": {},
     "output_type": "execute_result"
    }
   ],
   "source": [
    "sf_private[['School', 'App GPA', 'Adm GPA', 'Enrl GPA']].describe()"
   ]
  },
  {
   "attachments": {},
   "cell_type": "markdown",
   "metadata": {},
   "source": [
    "A little background information: Max got into George Washington High School in San Francisco. It is a San Francisco public school, same as Lowell High School.\n",
    "\n",
    "The reason many kids in the San Francisco Unified School District wanted to get into Lowell High is because of the prestige. As a Lowell Alumni, I can attest to the situation. Lowell students are generally lightyears ahead of other San Francisco public schools, be it grades, sports, arts, robotics and other extracurriculars. We were always number 1 in any categorty compared to other schools. Hence the reputation. However, Max did not get into Lowell High School.\n",
    "\n",
    "But, there is no other way to write a wrong than to look forward and do better the next time you have a chance. So here we are. trying to debunk some myths and find the optimal way for Max to get into a college he rightfully deserves, through hard work and determination."
   ]
  },
  {
   "attachments": {},
   "cell_type": "markdown",
   "metadata": {},
   "source": [
    "As we can see above, the data shows miniscule difference in the application GPA, referring to the average GPA of the stack of applications UC's get. \n",
    "\n",
    "With that in mind, private schools cost money. A LOT of money. While public schools cost absolutely nothing, aside from occasional donations to the alumni associations and helping out at field trips. This begs the question: do the reputations of private schools outweigh the fact that everyone should pay for high school education because it guarantees success?\n",
    "\n",
    "While it may be true, that students of private schools will receive better treatment on a day to day, how likely will the kids remember what they did in high school after they've gotten a job after college graduation? Very unlikely. \n",
    "\n",
    "The data clearly shows little to no difference in the admission GPA. Public school students score just as high, if not higher than private school students to get into a UC school. This further debunks the Asian parent myths and proves that it is possible to thrive in a public school AND go to a great college, such as a UC.\n",
    "\n",
    "This brings me to the conclusion: Max needs to score at the minimum, around a 4.02 GPA to be able to get into a good college in the UC systems."
   ]
  },
  {
   "attachments": {},
   "cell_type": "markdown",
   "metadata": {},
   "source": [
    "As we all know, all colleges are created equal, but unfortunately some, are more equal than the others.\n",
    "\n",
    "UC's are no exception. UC Berkeley, the pinnacle of UC's, is a phenomenal college to have an undergraduate degree at. With this reputation, they get to pick at a much higher GPA requirement. So I went ahead and explored.\n",
    "\n",
    "P.S. Max you're in a world of trouble, but you got this! It is doable, you just have to try really hard. Don't give up!"
   ]
  },
  {
   "cell_type": "code",
   "execution_count": 15,
   "metadata": {},
   "outputs": [],
   "source": [
    "berk_public = pd.read_excel(\"FR GPA by Year berkeley public.xlsx\")\n",
    "berk_private = pd.read_excel(\"FR GPA by Year berkeley private.xlsx\")"
   ]
  },
  {
   "attachments": {},
   "cell_type": "markdown",
   "metadata": {},
   "source": [
    "I want to focus on SF areas first to see how the competition stands."
   ]
  },
  {
   "cell_type": "code",
   "execution_count": 17,
   "metadata": {},
   "outputs": [],
   "source": [
    "berk_public_sf = berk_public[berk_public['City'] == \"San Francisco\"]\n",
    "berk_private_sf = berk_private[berk_private['City'] == \"San Francisco\"]"
   ]
  },
  {
   "cell_type": "code",
   "execution_count": 39,
   "metadata": {},
   "outputs": [
    {
     "data": {
      "application/vnd.plotly.v1+json": {
       "config": {
        "plotlyServerURL": "https://plot.ly"
       },
       "data": [
        {
         "alignmentgroup": "True",
         "hovertemplate": "variable=App GPA<br>School=%{x}<br>value=%{y}<extra></extra>",
         "legendgroup": "App GPA",
         "marker": {
          "color": "#636efa",
          "pattern": {
           "shape": ""
          }
         },
         "name": "App GPA",
         "offsetgroup": "App GPA",
         "orientation": "v",
         "showlegend": true,
         "textposition": "auto",
         "type": "bar",
         "x": [
          "ABRAHAM LINCOLN HIGH SCHOOL",
          "ACADEMY-SAN FRAN @ MCATEER",
          "BALBOA HIGH SCHOOL",
          "CITY ARTS AND LEADERSHIP HS",
          "GALILEO ACAD OF SCIENCE & TECH",
          "GATEWAY HIGH SCHOOL",
          "GEORGE WASHINGTON HIGH SCHOOL",
          "JOHN O'CONNELL HIGH SCHOOL",
          "JUNE JORDAN SCHOOL FOR EQUITY",
          "KIPP SAN FRANCISCO COLG PREP",
          "LEADERSHIP HIGH SCHOOL",
          "LOWELL HIGH SCHOOL",
          "MISSION SENIOR HIGH SCHOOL",
          "PHILLIP & SALA BURTON ACAD HS",
          "RAOUL WALLENBERG TRADITIONAL",
          "RUTH ASAWA SCHOOL OF THE ARTS",
          "SAN FRANCISCO INTERNATIONAL HS",
          "THURGOOD MARSHALL ACADEMIC HS"
         ],
         "xaxis": "x",
         "y": [
          4.075613207547169,
          3.980555555555556,
          3.9676635514018694,
          3.78625,
          3.899840425531915,
          4.037758620689655,
          4.034900990099009,
          3.79625,
          3.685,
          3.6018181818181816,
          3.795833333333333,
          4.18375478927203,
          3.927752808988764,
          3.9723711340206185,
          3.914193548387097,
          4.0346376811594205,
          3.565555555555556,
          3.7788461538461537
         ],
         "yaxis": "y"
        },
        {
         "alignmentgroup": "True",
         "hovertemplate": "variable=Adm GPA<br>School=%{x}<br>value=%{y}<extra></extra>",
         "legendgroup": "Adm GPA",
         "marker": {
          "color": "#EF553B",
          "pattern": {
           "shape": ""
          }
         },
         "name": "Adm GPA",
         "offsetgroup": "Adm GPA",
         "orientation": "v",
         "showlegend": true,
         "textposition": "auto",
         "type": "bar",
         "x": [
          "ABRAHAM LINCOLN HIGH SCHOOL",
          "ACADEMY-SAN FRAN @ MCATEER",
          "BALBOA HIGH SCHOOL",
          "CITY ARTS AND LEADERSHIP HS",
          "GALILEO ACAD OF SCIENCE & TECH",
          "GATEWAY HIGH SCHOOL",
          "GEORGE WASHINGTON HIGH SCHOOL",
          "JOHN O'CONNELL HIGH SCHOOL",
          "JUNE JORDAN SCHOOL FOR EQUITY",
          "KIPP SAN FRANCISCO COLG PREP",
          "LEADERSHIP HIGH SCHOOL",
          "LOWELL HIGH SCHOOL",
          "MISSION SENIOR HIGH SCHOOL",
          "PHILLIP & SALA BURTON ACAD HS",
          "RAOUL WALLENBERG TRADITIONAL",
          "RUTH ASAWA SCHOOL OF THE ARTS",
          "SAN FRANCISCO INTERNATIONAL HS",
          "THURGOOD MARSHALL ACADEMIC HS"
         ],
         "xaxis": "x",
         "y": [
          4.28,
          null,
          4.274615384615385,
          null,
          4.263703703703704,
          4.282,
          4.2348,
          null,
          null,
          null,
          null,
          4.338101265822784,
          4.154193548387097,
          4.271176470588236,
          null,
          4.227368421052631,
          null,
          null
         ],
         "yaxis": "y"
        },
        {
         "alignmentgroup": "True",
         "hovertemplate": "variable=Enrl GPA<br>School=%{x}<br>value=%{y}<extra></extra>",
         "legendgroup": "Enrl GPA",
         "marker": {
          "color": "#00cc96",
          "pattern": {
           "shape": ""
          }
         },
         "name": "Enrl GPA",
         "offsetgroup": "Enrl GPA",
         "orientation": "v",
         "showlegend": true,
         "textposition": "auto",
         "type": "bar",
         "x": [
          "ABRAHAM LINCOLN HIGH SCHOOL",
          "ACADEMY-SAN FRAN @ MCATEER",
          "BALBOA HIGH SCHOOL",
          "CITY ARTS AND LEADERSHIP HS",
          "GALILEO ACAD OF SCIENCE & TECH",
          "GATEWAY HIGH SCHOOL",
          "GEORGE WASHINGTON HIGH SCHOOL",
          "JOHN O'CONNELL HIGH SCHOOL",
          "JUNE JORDAN SCHOOL FOR EQUITY",
          "KIPP SAN FRANCISCO COLG PREP",
          "LEADERSHIP HIGH SCHOOL",
          "LOWELL HIGH SCHOOL",
          "MISSION SENIOR HIGH SCHOOL",
          "PHILLIP & SALA BURTON ACAD HS",
          "RAOUL WALLENBERG TRADITIONAL",
          "RUTH ASAWA SCHOOL OF THE ARTS",
          "SAN FRANCISCO INTERNATIONAL HS",
          "THURGOOD MARSHALL ACADEMIC HS"
         ],
         "xaxis": "x",
         "y": [
          4.246818181818182,
          null,
          4.26,
          null,
          4.2345,
          null,
          4.226818181818182,
          null,
          null,
          null,
          null,
          4.349,
          4.0969999999999995,
          4.2525,
          null,
          4.176666666666667,
          null,
          null
         ],
         "yaxis": "y"
        }
       ],
       "layout": {
        "barmode": "group",
        "legend": {
         "title": {
          "text": "variable"
         },
         "tracegroupgap": 0
        },
        "margin": {
         "t": 60
        },
        "template": {
         "data": {
          "bar": [
           {
            "error_x": {
             "color": "#2a3f5f"
            },
            "error_y": {
             "color": "#2a3f5f"
            },
            "marker": {
             "line": {
              "color": "#E5ECF6",
              "width": 0.5
             },
             "pattern": {
              "fillmode": "overlay",
              "size": 10,
              "solidity": 0.2
             }
            },
            "type": "bar"
           }
          ],
          "barpolar": [
           {
            "marker": {
             "line": {
              "color": "#E5ECF6",
              "width": 0.5
             },
             "pattern": {
              "fillmode": "overlay",
              "size": 10,
              "solidity": 0.2
             }
            },
            "type": "barpolar"
           }
          ],
          "carpet": [
           {
            "aaxis": {
             "endlinecolor": "#2a3f5f",
             "gridcolor": "white",
             "linecolor": "white",
             "minorgridcolor": "white",
             "startlinecolor": "#2a3f5f"
            },
            "baxis": {
             "endlinecolor": "#2a3f5f",
             "gridcolor": "white",
             "linecolor": "white",
             "minorgridcolor": "white",
             "startlinecolor": "#2a3f5f"
            },
            "type": "carpet"
           }
          ],
          "choropleth": [
           {
            "colorbar": {
             "outlinewidth": 0,
             "ticks": ""
            },
            "type": "choropleth"
           }
          ],
          "contour": [
           {
            "colorbar": {
             "outlinewidth": 0,
             "ticks": ""
            },
            "colorscale": [
             [
              0,
              "#0d0887"
             ],
             [
              0.1111111111111111,
              "#46039f"
             ],
             [
              0.2222222222222222,
              "#7201a8"
             ],
             [
              0.3333333333333333,
              "#9c179e"
             ],
             [
              0.4444444444444444,
              "#bd3786"
             ],
             [
              0.5555555555555556,
              "#d8576b"
             ],
             [
              0.6666666666666666,
              "#ed7953"
             ],
             [
              0.7777777777777778,
              "#fb9f3a"
             ],
             [
              0.8888888888888888,
              "#fdca26"
             ],
             [
              1,
              "#f0f921"
             ]
            ],
            "type": "contour"
           }
          ],
          "contourcarpet": [
           {
            "colorbar": {
             "outlinewidth": 0,
             "ticks": ""
            },
            "type": "contourcarpet"
           }
          ],
          "heatmap": [
           {
            "colorbar": {
             "outlinewidth": 0,
             "ticks": ""
            },
            "colorscale": [
             [
              0,
              "#0d0887"
             ],
             [
              0.1111111111111111,
              "#46039f"
             ],
             [
              0.2222222222222222,
              "#7201a8"
             ],
             [
              0.3333333333333333,
              "#9c179e"
             ],
             [
              0.4444444444444444,
              "#bd3786"
             ],
             [
              0.5555555555555556,
              "#d8576b"
             ],
             [
              0.6666666666666666,
              "#ed7953"
             ],
             [
              0.7777777777777778,
              "#fb9f3a"
             ],
             [
              0.8888888888888888,
              "#fdca26"
             ],
             [
              1,
              "#f0f921"
             ]
            ],
            "type": "heatmap"
           }
          ],
          "heatmapgl": [
           {
            "colorbar": {
             "outlinewidth": 0,
             "ticks": ""
            },
            "colorscale": [
             [
              0,
              "#0d0887"
             ],
             [
              0.1111111111111111,
              "#46039f"
             ],
             [
              0.2222222222222222,
              "#7201a8"
             ],
             [
              0.3333333333333333,
              "#9c179e"
             ],
             [
              0.4444444444444444,
              "#bd3786"
             ],
             [
              0.5555555555555556,
              "#d8576b"
             ],
             [
              0.6666666666666666,
              "#ed7953"
             ],
             [
              0.7777777777777778,
              "#fb9f3a"
             ],
             [
              0.8888888888888888,
              "#fdca26"
             ],
             [
              1,
              "#f0f921"
             ]
            ],
            "type": "heatmapgl"
           }
          ],
          "histogram": [
           {
            "marker": {
             "pattern": {
              "fillmode": "overlay",
              "size": 10,
              "solidity": 0.2
             }
            },
            "type": "histogram"
           }
          ],
          "histogram2d": [
           {
            "colorbar": {
             "outlinewidth": 0,
             "ticks": ""
            },
            "colorscale": [
             [
              0,
              "#0d0887"
             ],
             [
              0.1111111111111111,
              "#46039f"
             ],
             [
              0.2222222222222222,
              "#7201a8"
             ],
             [
              0.3333333333333333,
              "#9c179e"
             ],
             [
              0.4444444444444444,
              "#bd3786"
             ],
             [
              0.5555555555555556,
              "#d8576b"
             ],
             [
              0.6666666666666666,
              "#ed7953"
             ],
             [
              0.7777777777777778,
              "#fb9f3a"
             ],
             [
              0.8888888888888888,
              "#fdca26"
             ],
             [
              1,
              "#f0f921"
             ]
            ],
            "type": "histogram2d"
           }
          ],
          "histogram2dcontour": [
           {
            "colorbar": {
             "outlinewidth": 0,
             "ticks": ""
            },
            "colorscale": [
             [
              0,
              "#0d0887"
             ],
             [
              0.1111111111111111,
              "#46039f"
             ],
             [
              0.2222222222222222,
              "#7201a8"
             ],
             [
              0.3333333333333333,
              "#9c179e"
             ],
             [
              0.4444444444444444,
              "#bd3786"
             ],
             [
              0.5555555555555556,
              "#d8576b"
             ],
             [
              0.6666666666666666,
              "#ed7953"
             ],
             [
              0.7777777777777778,
              "#fb9f3a"
             ],
             [
              0.8888888888888888,
              "#fdca26"
             ],
             [
              1,
              "#f0f921"
             ]
            ],
            "type": "histogram2dcontour"
           }
          ],
          "mesh3d": [
           {
            "colorbar": {
             "outlinewidth": 0,
             "ticks": ""
            },
            "type": "mesh3d"
           }
          ],
          "parcoords": [
           {
            "line": {
             "colorbar": {
              "outlinewidth": 0,
              "ticks": ""
             }
            },
            "type": "parcoords"
           }
          ],
          "pie": [
           {
            "automargin": true,
            "type": "pie"
           }
          ],
          "scatter": [
           {
            "marker": {
             "colorbar": {
              "outlinewidth": 0,
              "ticks": ""
             }
            },
            "type": "scatter"
           }
          ],
          "scatter3d": [
           {
            "line": {
             "colorbar": {
              "outlinewidth": 0,
              "ticks": ""
             }
            },
            "marker": {
             "colorbar": {
              "outlinewidth": 0,
              "ticks": ""
             }
            },
            "type": "scatter3d"
           }
          ],
          "scattercarpet": [
           {
            "marker": {
             "colorbar": {
              "outlinewidth": 0,
              "ticks": ""
             }
            },
            "type": "scattercarpet"
           }
          ],
          "scattergeo": [
           {
            "marker": {
             "colorbar": {
              "outlinewidth": 0,
              "ticks": ""
             }
            },
            "type": "scattergeo"
           }
          ],
          "scattergl": [
           {
            "marker": {
             "colorbar": {
              "outlinewidth": 0,
              "ticks": ""
             }
            },
            "type": "scattergl"
           }
          ],
          "scattermapbox": [
           {
            "marker": {
             "colorbar": {
              "outlinewidth": 0,
              "ticks": ""
             }
            },
            "type": "scattermapbox"
           }
          ],
          "scatterpolar": [
           {
            "marker": {
             "colorbar": {
              "outlinewidth": 0,
              "ticks": ""
             }
            },
            "type": "scatterpolar"
           }
          ],
          "scatterpolargl": [
           {
            "marker": {
             "colorbar": {
              "outlinewidth": 0,
              "ticks": ""
             }
            },
            "type": "scatterpolargl"
           }
          ],
          "scatterternary": [
           {
            "marker": {
             "colorbar": {
              "outlinewidth": 0,
              "ticks": ""
             }
            },
            "type": "scatterternary"
           }
          ],
          "surface": [
           {
            "colorbar": {
             "outlinewidth": 0,
             "ticks": ""
            },
            "colorscale": [
             [
              0,
              "#0d0887"
             ],
             [
              0.1111111111111111,
              "#46039f"
             ],
             [
              0.2222222222222222,
              "#7201a8"
             ],
             [
              0.3333333333333333,
              "#9c179e"
             ],
             [
              0.4444444444444444,
              "#bd3786"
             ],
             [
              0.5555555555555556,
              "#d8576b"
             ],
             [
              0.6666666666666666,
              "#ed7953"
             ],
             [
              0.7777777777777778,
              "#fb9f3a"
             ],
             [
              0.8888888888888888,
              "#fdca26"
             ],
             [
              1,
              "#f0f921"
             ]
            ],
            "type": "surface"
           }
          ],
          "table": [
           {
            "cells": {
             "fill": {
              "color": "#EBF0F8"
             },
             "line": {
              "color": "white"
             }
            },
            "header": {
             "fill": {
              "color": "#C8D4E3"
             },
             "line": {
              "color": "white"
             }
            },
            "type": "table"
           }
          ]
         },
         "layout": {
          "annotationdefaults": {
           "arrowcolor": "#2a3f5f",
           "arrowhead": 0,
           "arrowwidth": 1
          },
          "autotypenumbers": "strict",
          "coloraxis": {
           "colorbar": {
            "outlinewidth": 0,
            "ticks": ""
           }
          },
          "colorscale": {
           "diverging": [
            [
             0,
             "#8e0152"
            ],
            [
             0.1,
             "#c51b7d"
            ],
            [
             0.2,
             "#de77ae"
            ],
            [
             0.3,
             "#f1b6da"
            ],
            [
             0.4,
             "#fde0ef"
            ],
            [
             0.5,
             "#f7f7f7"
            ],
            [
             0.6,
             "#e6f5d0"
            ],
            [
             0.7,
             "#b8e186"
            ],
            [
             0.8,
             "#7fbc41"
            ],
            [
             0.9,
             "#4d9221"
            ],
            [
             1,
             "#276419"
            ]
           ],
           "sequential": [
            [
             0,
             "#0d0887"
            ],
            [
             0.1111111111111111,
             "#46039f"
            ],
            [
             0.2222222222222222,
             "#7201a8"
            ],
            [
             0.3333333333333333,
             "#9c179e"
            ],
            [
             0.4444444444444444,
             "#bd3786"
            ],
            [
             0.5555555555555556,
             "#d8576b"
            ],
            [
             0.6666666666666666,
             "#ed7953"
            ],
            [
             0.7777777777777778,
             "#fb9f3a"
            ],
            [
             0.8888888888888888,
             "#fdca26"
            ],
            [
             1,
             "#f0f921"
            ]
           ],
           "sequentialminus": [
            [
             0,
             "#0d0887"
            ],
            [
             0.1111111111111111,
             "#46039f"
            ],
            [
             0.2222222222222222,
             "#7201a8"
            ],
            [
             0.3333333333333333,
             "#9c179e"
            ],
            [
             0.4444444444444444,
             "#bd3786"
            ],
            [
             0.5555555555555556,
             "#d8576b"
            ],
            [
             0.6666666666666666,
             "#ed7953"
            ],
            [
             0.7777777777777778,
             "#fb9f3a"
            ],
            [
             0.8888888888888888,
             "#fdca26"
            ],
            [
             1,
             "#f0f921"
            ]
           ]
          },
          "colorway": [
           "#636efa",
           "#EF553B",
           "#00cc96",
           "#ab63fa",
           "#FFA15A",
           "#19d3f3",
           "#FF6692",
           "#B6E880",
           "#FF97FF",
           "#FECB52"
          ],
          "font": {
           "color": "#2a3f5f"
          },
          "geo": {
           "bgcolor": "white",
           "lakecolor": "white",
           "landcolor": "#E5ECF6",
           "showlakes": true,
           "showland": true,
           "subunitcolor": "white"
          },
          "hoverlabel": {
           "align": "left"
          },
          "hovermode": "closest",
          "mapbox": {
           "style": "light"
          },
          "paper_bgcolor": "white",
          "plot_bgcolor": "#E5ECF6",
          "polar": {
           "angularaxis": {
            "gridcolor": "white",
            "linecolor": "white",
            "ticks": ""
           },
           "bgcolor": "#E5ECF6",
           "radialaxis": {
            "gridcolor": "white",
            "linecolor": "white",
            "ticks": ""
           }
          },
          "scene": {
           "xaxis": {
            "backgroundcolor": "#E5ECF6",
            "gridcolor": "white",
            "gridwidth": 2,
            "linecolor": "white",
            "showbackground": true,
            "ticks": "",
            "zerolinecolor": "white"
           },
           "yaxis": {
            "backgroundcolor": "#E5ECF6",
            "gridcolor": "white",
            "gridwidth": 2,
            "linecolor": "white",
            "showbackground": true,
            "ticks": "",
            "zerolinecolor": "white"
           },
           "zaxis": {
            "backgroundcolor": "#E5ECF6",
            "gridcolor": "white",
            "gridwidth": 2,
            "linecolor": "white",
            "showbackground": true,
            "ticks": "",
            "zerolinecolor": "white"
           }
          },
          "shapedefaults": {
           "line": {
            "color": "#2a3f5f"
           }
          },
          "ternary": {
           "aaxis": {
            "gridcolor": "white",
            "linecolor": "white",
            "ticks": ""
           },
           "baxis": {
            "gridcolor": "white",
            "linecolor": "white",
            "ticks": ""
           },
           "bgcolor": "#E5ECF6",
           "caxis": {
            "gridcolor": "white",
            "linecolor": "white",
            "ticks": ""
           }
          },
          "title": {
           "x": 0.05
          },
          "xaxis": {
           "automargin": true,
           "gridcolor": "white",
           "linecolor": "white",
           "ticks": "",
           "title": {
            "standoff": 15
           },
           "zerolinecolor": "white",
           "zerolinewidth": 2
          },
          "yaxis": {
           "automargin": true,
           "gridcolor": "white",
           "linecolor": "white",
           "ticks": "",
           "title": {
            "standoff": 15
           },
           "zerolinecolor": "white",
           "zerolinewidth": 2
          }
         }
        },
        "xaxis": {
         "anchor": "y",
         "domain": [
          0,
          1
         ],
         "title": {
          "text": "School"
         }
        },
        "yaxis": {
         "anchor": "x",
         "domain": [
          0,
          1
         ],
         "title": {
          "text": "value"
         }
        }
       }
      }
     },
     "metadata": {},
     "output_type": "display_data"
    }
   ],
   "source": [
    "fig1 = px.bar(berk_public_sf, x = \"School\", y = [\"App GPA\", \"Adm GPA\", \"Enrl GPA\"], barmode = 'group')\n",
    "fig1.show()"
   ]
  },
  {
   "cell_type": "code",
   "execution_count": 40,
   "metadata": {},
   "outputs": [
    {
     "data": {
      "application/vnd.plotly.v1+json": {
       "config": {
        "plotlyServerURL": "https://plot.ly"
       },
       "data": [
        {
         "alignmentgroup": "True",
         "hovertemplate": "variable=App GPA<br>School=%{x}<br>value=%{y}<extra></extra>",
         "legendgroup": "App GPA",
         "marker": {
          "color": "#636efa",
          "pattern": {
           "shape": ""
          }
         },
         "name": "App GPA",
         "offsetgroup": "App GPA",
         "orientation": "v",
         "showlegend": true,
         "textposition": "auto",
         "type": "bar",
         "x": [
          "ARCHBISHOP RIORDAN HIGH SCHOOL",
          "BAY SCHOOL OF SAN FRANCISCO",
          "CONVENT OF THE SACRED HEART HS",
          "DREW SCHOOL",
          "IMMACULATE CONCEPTION ACADEMY",
          "INTERNATIONAL HIGH SCHOOL FAIS",
          "JEWISH COMMUNITY HS OF THE BAY",
          "LICK WILMERDING HIGH SCHOOL",
          "LYCEE FRANCAIS DE SAN FRAN",
          "PROOF SCHOOL",
          "SACRED HEART CATHEDRAL PREP",
          "SAINT IGNATIUS COLLEGE PREP SC",
          "SAN FRANCISCO UNIVERSITY HS",
          "SAN FRANCISCO WALDORF HS",
          "STUART HALL HIGH SCHOOL",
          "URBAN SCHOOL OF SAN FRANCISCO"
         ],
         "xaxis": "x",
         "y": [
          3.864098360655738,
          3.913793103448276,
          4.085,
          4.081111111111111,
          3.625106382978723,
          4.054363636363637,
          4.082857142857143,
          4.148985507246376,
          4.088387096774193,
          4.135294117647058,
          4.0379389312977105,
          4.10875,
          4.142777777777778,
          3.7590000000000003,
          4.051052631578948,
          4.083725490196079
         ],
         "yaxis": "y"
        },
        {
         "alignmentgroup": "True",
         "hovertemplate": "variable=Adm GPA<br>School=%{x}<br>value=%{y}<extra></extra>",
         "legendgroup": "Adm GPA",
         "marker": {
          "color": "#EF553B",
          "pattern": {
           "shape": ""
          }
         },
         "name": "Adm GPA",
         "offsetgroup": "Adm GPA",
         "orientation": "v",
         "showlegend": true,
         "textposition": "auto",
         "type": "bar",
         "x": [
          "ARCHBISHOP RIORDAN HIGH SCHOOL",
          "BAY SCHOOL OF SAN FRANCISCO",
          "CONVENT OF THE SACRED HEART HS",
          "DREW SCHOOL",
          "IMMACULATE CONCEPTION ACADEMY",
          "INTERNATIONAL HIGH SCHOOL FAIS",
          "JEWISH COMMUNITY HS OF THE BAY",
          "LICK WILMERDING HIGH SCHOOL",
          "LYCEE FRANCAIS DE SAN FRAN",
          "PROOF SCHOOL",
          "SACRED HEART CATHEDRAL PREP",
          "SAINT IGNATIUS COLLEGE PREP SC",
          "SAN FRANCISCO UNIVERSITY HS",
          "SAN FRANCISCO WALDORF HS",
          "STUART HALL HIGH SCHOOL",
          "URBAN SCHOOL OF SAN FRANCISCO"
         ],
         "xaxis": "x",
         "y": [
          null,
          null,
          4.21375,
          null,
          4.2775,
          4.168333333333334,
          null,
          4.272941176470589,
          4.192857142857143,
          4.206,
          4.162222222222223,
          4.2496875,
          4.196,
          null,
          null,
          4.235714285714286
         ],
         "yaxis": "y"
        },
        {
         "alignmentgroup": "True",
         "hovertemplate": "variable=Enrl GPA<br>School=%{x}<br>value=%{y}<extra></extra>",
         "legendgroup": "Enrl GPA",
         "marker": {
          "color": "#00cc96",
          "pattern": {
           "shape": ""
          }
         },
         "name": "Enrl GPA",
         "offsetgroup": "Enrl GPA",
         "orientation": "v",
         "showlegend": true,
         "textposition": "auto",
         "type": "bar",
         "x": [
          "ARCHBISHOP RIORDAN HIGH SCHOOL",
          "BAY SCHOOL OF SAN FRANCISCO",
          "CONVENT OF THE SACRED HEART HS",
          "DREW SCHOOL",
          "IMMACULATE CONCEPTION ACADEMY",
          "INTERNATIONAL HIGH SCHOOL FAIS",
          "JEWISH COMMUNITY HS OF THE BAY",
          "LICK WILMERDING HIGH SCHOOL",
          "LYCEE FRANCAIS DE SAN FRAN",
          "PROOF SCHOOL",
          "SACRED HEART CATHEDRAL PREP",
          "SAINT IGNATIUS COLLEGE PREP SC",
          "SAN FRANCISCO UNIVERSITY HS",
          "SAN FRANCISCO WALDORF HS",
          "STUART HALL HIGH SCHOOL",
          "URBAN SCHOOL OF SAN FRANCISCO"
         ],
         "xaxis": "x",
         "y": [
          null,
          null,
          null,
          null,
          4.238,
          null,
          null,
          4.257142857142857,
          4.176,
          null,
          4.165384615384616,
          4.215882352941176,
          null,
          null,
          null,
          null
         ],
         "yaxis": "y"
        }
       ],
       "layout": {
        "barmode": "group",
        "legend": {
         "title": {
          "text": "variable"
         },
         "tracegroupgap": 0
        },
        "margin": {
         "t": 60
        },
        "template": {
         "data": {
          "bar": [
           {
            "error_x": {
             "color": "#2a3f5f"
            },
            "error_y": {
             "color": "#2a3f5f"
            },
            "marker": {
             "line": {
              "color": "#E5ECF6",
              "width": 0.5
             },
             "pattern": {
              "fillmode": "overlay",
              "size": 10,
              "solidity": 0.2
             }
            },
            "type": "bar"
           }
          ],
          "barpolar": [
           {
            "marker": {
             "line": {
              "color": "#E5ECF6",
              "width": 0.5
             },
             "pattern": {
              "fillmode": "overlay",
              "size": 10,
              "solidity": 0.2
             }
            },
            "type": "barpolar"
           }
          ],
          "carpet": [
           {
            "aaxis": {
             "endlinecolor": "#2a3f5f",
             "gridcolor": "white",
             "linecolor": "white",
             "minorgridcolor": "white",
             "startlinecolor": "#2a3f5f"
            },
            "baxis": {
             "endlinecolor": "#2a3f5f",
             "gridcolor": "white",
             "linecolor": "white",
             "minorgridcolor": "white",
             "startlinecolor": "#2a3f5f"
            },
            "type": "carpet"
           }
          ],
          "choropleth": [
           {
            "colorbar": {
             "outlinewidth": 0,
             "ticks": ""
            },
            "type": "choropleth"
           }
          ],
          "contour": [
           {
            "colorbar": {
             "outlinewidth": 0,
             "ticks": ""
            },
            "colorscale": [
             [
              0,
              "#0d0887"
             ],
             [
              0.1111111111111111,
              "#46039f"
             ],
             [
              0.2222222222222222,
              "#7201a8"
             ],
             [
              0.3333333333333333,
              "#9c179e"
             ],
             [
              0.4444444444444444,
              "#bd3786"
             ],
             [
              0.5555555555555556,
              "#d8576b"
             ],
             [
              0.6666666666666666,
              "#ed7953"
             ],
             [
              0.7777777777777778,
              "#fb9f3a"
             ],
             [
              0.8888888888888888,
              "#fdca26"
             ],
             [
              1,
              "#f0f921"
             ]
            ],
            "type": "contour"
           }
          ],
          "contourcarpet": [
           {
            "colorbar": {
             "outlinewidth": 0,
             "ticks": ""
            },
            "type": "contourcarpet"
           }
          ],
          "heatmap": [
           {
            "colorbar": {
             "outlinewidth": 0,
             "ticks": ""
            },
            "colorscale": [
             [
              0,
              "#0d0887"
             ],
             [
              0.1111111111111111,
              "#46039f"
             ],
             [
              0.2222222222222222,
              "#7201a8"
             ],
             [
              0.3333333333333333,
              "#9c179e"
             ],
             [
              0.4444444444444444,
              "#bd3786"
             ],
             [
              0.5555555555555556,
              "#d8576b"
             ],
             [
              0.6666666666666666,
              "#ed7953"
             ],
             [
              0.7777777777777778,
              "#fb9f3a"
             ],
             [
              0.8888888888888888,
              "#fdca26"
             ],
             [
              1,
              "#f0f921"
             ]
            ],
            "type": "heatmap"
           }
          ],
          "heatmapgl": [
           {
            "colorbar": {
             "outlinewidth": 0,
             "ticks": ""
            },
            "colorscale": [
             [
              0,
              "#0d0887"
             ],
             [
              0.1111111111111111,
              "#46039f"
             ],
             [
              0.2222222222222222,
              "#7201a8"
             ],
             [
              0.3333333333333333,
              "#9c179e"
             ],
             [
              0.4444444444444444,
              "#bd3786"
             ],
             [
              0.5555555555555556,
              "#d8576b"
             ],
             [
              0.6666666666666666,
              "#ed7953"
             ],
             [
              0.7777777777777778,
              "#fb9f3a"
             ],
             [
              0.8888888888888888,
              "#fdca26"
             ],
             [
              1,
              "#f0f921"
             ]
            ],
            "type": "heatmapgl"
           }
          ],
          "histogram": [
           {
            "marker": {
             "pattern": {
              "fillmode": "overlay",
              "size": 10,
              "solidity": 0.2
             }
            },
            "type": "histogram"
           }
          ],
          "histogram2d": [
           {
            "colorbar": {
             "outlinewidth": 0,
             "ticks": ""
            },
            "colorscale": [
             [
              0,
              "#0d0887"
             ],
             [
              0.1111111111111111,
              "#46039f"
             ],
             [
              0.2222222222222222,
              "#7201a8"
             ],
             [
              0.3333333333333333,
              "#9c179e"
             ],
             [
              0.4444444444444444,
              "#bd3786"
             ],
             [
              0.5555555555555556,
              "#d8576b"
             ],
             [
              0.6666666666666666,
              "#ed7953"
             ],
             [
              0.7777777777777778,
              "#fb9f3a"
             ],
             [
              0.8888888888888888,
              "#fdca26"
             ],
             [
              1,
              "#f0f921"
             ]
            ],
            "type": "histogram2d"
           }
          ],
          "histogram2dcontour": [
           {
            "colorbar": {
             "outlinewidth": 0,
             "ticks": ""
            },
            "colorscale": [
             [
              0,
              "#0d0887"
             ],
             [
              0.1111111111111111,
              "#46039f"
             ],
             [
              0.2222222222222222,
              "#7201a8"
             ],
             [
              0.3333333333333333,
              "#9c179e"
             ],
             [
              0.4444444444444444,
              "#bd3786"
             ],
             [
              0.5555555555555556,
              "#d8576b"
             ],
             [
              0.6666666666666666,
              "#ed7953"
             ],
             [
              0.7777777777777778,
              "#fb9f3a"
             ],
             [
              0.8888888888888888,
              "#fdca26"
             ],
             [
              1,
              "#f0f921"
             ]
            ],
            "type": "histogram2dcontour"
           }
          ],
          "mesh3d": [
           {
            "colorbar": {
             "outlinewidth": 0,
             "ticks": ""
            },
            "type": "mesh3d"
           }
          ],
          "parcoords": [
           {
            "line": {
             "colorbar": {
              "outlinewidth": 0,
              "ticks": ""
             }
            },
            "type": "parcoords"
           }
          ],
          "pie": [
           {
            "automargin": true,
            "type": "pie"
           }
          ],
          "scatter": [
           {
            "marker": {
             "colorbar": {
              "outlinewidth": 0,
              "ticks": ""
             }
            },
            "type": "scatter"
           }
          ],
          "scatter3d": [
           {
            "line": {
             "colorbar": {
              "outlinewidth": 0,
              "ticks": ""
             }
            },
            "marker": {
             "colorbar": {
              "outlinewidth": 0,
              "ticks": ""
             }
            },
            "type": "scatter3d"
           }
          ],
          "scattercarpet": [
           {
            "marker": {
             "colorbar": {
              "outlinewidth": 0,
              "ticks": ""
             }
            },
            "type": "scattercarpet"
           }
          ],
          "scattergeo": [
           {
            "marker": {
             "colorbar": {
              "outlinewidth": 0,
              "ticks": ""
             }
            },
            "type": "scattergeo"
           }
          ],
          "scattergl": [
           {
            "marker": {
             "colorbar": {
              "outlinewidth": 0,
              "ticks": ""
             }
            },
            "type": "scattergl"
           }
          ],
          "scattermapbox": [
           {
            "marker": {
             "colorbar": {
              "outlinewidth": 0,
              "ticks": ""
             }
            },
            "type": "scattermapbox"
           }
          ],
          "scatterpolar": [
           {
            "marker": {
             "colorbar": {
              "outlinewidth": 0,
              "ticks": ""
             }
            },
            "type": "scatterpolar"
           }
          ],
          "scatterpolargl": [
           {
            "marker": {
             "colorbar": {
              "outlinewidth": 0,
              "ticks": ""
             }
            },
            "type": "scatterpolargl"
           }
          ],
          "scatterternary": [
           {
            "marker": {
             "colorbar": {
              "outlinewidth": 0,
              "ticks": ""
             }
            },
            "type": "scatterternary"
           }
          ],
          "surface": [
           {
            "colorbar": {
             "outlinewidth": 0,
             "ticks": ""
            },
            "colorscale": [
             [
              0,
              "#0d0887"
             ],
             [
              0.1111111111111111,
              "#46039f"
             ],
             [
              0.2222222222222222,
              "#7201a8"
             ],
             [
              0.3333333333333333,
              "#9c179e"
             ],
             [
              0.4444444444444444,
              "#bd3786"
             ],
             [
              0.5555555555555556,
              "#d8576b"
             ],
             [
              0.6666666666666666,
              "#ed7953"
             ],
             [
              0.7777777777777778,
              "#fb9f3a"
             ],
             [
              0.8888888888888888,
              "#fdca26"
             ],
             [
              1,
              "#f0f921"
             ]
            ],
            "type": "surface"
           }
          ],
          "table": [
           {
            "cells": {
             "fill": {
              "color": "#EBF0F8"
             },
             "line": {
              "color": "white"
             }
            },
            "header": {
             "fill": {
              "color": "#C8D4E3"
             },
             "line": {
              "color": "white"
             }
            },
            "type": "table"
           }
          ]
         },
         "layout": {
          "annotationdefaults": {
           "arrowcolor": "#2a3f5f",
           "arrowhead": 0,
           "arrowwidth": 1
          },
          "autotypenumbers": "strict",
          "coloraxis": {
           "colorbar": {
            "outlinewidth": 0,
            "ticks": ""
           }
          },
          "colorscale": {
           "diverging": [
            [
             0,
             "#8e0152"
            ],
            [
             0.1,
             "#c51b7d"
            ],
            [
             0.2,
             "#de77ae"
            ],
            [
             0.3,
             "#f1b6da"
            ],
            [
             0.4,
             "#fde0ef"
            ],
            [
             0.5,
             "#f7f7f7"
            ],
            [
             0.6,
             "#e6f5d0"
            ],
            [
             0.7,
             "#b8e186"
            ],
            [
             0.8,
             "#7fbc41"
            ],
            [
             0.9,
             "#4d9221"
            ],
            [
             1,
             "#276419"
            ]
           ],
           "sequential": [
            [
             0,
             "#0d0887"
            ],
            [
             0.1111111111111111,
             "#46039f"
            ],
            [
             0.2222222222222222,
             "#7201a8"
            ],
            [
             0.3333333333333333,
             "#9c179e"
            ],
            [
             0.4444444444444444,
             "#bd3786"
            ],
            [
             0.5555555555555556,
             "#d8576b"
            ],
            [
             0.6666666666666666,
             "#ed7953"
            ],
            [
             0.7777777777777778,
             "#fb9f3a"
            ],
            [
             0.8888888888888888,
             "#fdca26"
            ],
            [
             1,
             "#f0f921"
            ]
           ],
           "sequentialminus": [
            [
             0,
             "#0d0887"
            ],
            [
             0.1111111111111111,
             "#46039f"
            ],
            [
             0.2222222222222222,
             "#7201a8"
            ],
            [
             0.3333333333333333,
             "#9c179e"
            ],
            [
             0.4444444444444444,
             "#bd3786"
            ],
            [
             0.5555555555555556,
             "#d8576b"
            ],
            [
             0.6666666666666666,
             "#ed7953"
            ],
            [
             0.7777777777777778,
             "#fb9f3a"
            ],
            [
             0.8888888888888888,
             "#fdca26"
            ],
            [
             1,
             "#f0f921"
            ]
           ]
          },
          "colorway": [
           "#636efa",
           "#EF553B",
           "#00cc96",
           "#ab63fa",
           "#FFA15A",
           "#19d3f3",
           "#FF6692",
           "#B6E880",
           "#FF97FF",
           "#FECB52"
          ],
          "font": {
           "color": "#2a3f5f"
          },
          "geo": {
           "bgcolor": "white",
           "lakecolor": "white",
           "landcolor": "#E5ECF6",
           "showlakes": true,
           "showland": true,
           "subunitcolor": "white"
          },
          "hoverlabel": {
           "align": "left"
          },
          "hovermode": "closest",
          "mapbox": {
           "style": "light"
          },
          "paper_bgcolor": "white",
          "plot_bgcolor": "#E5ECF6",
          "polar": {
           "angularaxis": {
            "gridcolor": "white",
            "linecolor": "white",
            "ticks": ""
           },
           "bgcolor": "#E5ECF6",
           "radialaxis": {
            "gridcolor": "white",
            "linecolor": "white",
            "ticks": ""
           }
          },
          "scene": {
           "xaxis": {
            "backgroundcolor": "#E5ECF6",
            "gridcolor": "white",
            "gridwidth": 2,
            "linecolor": "white",
            "showbackground": true,
            "ticks": "",
            "zerolinecolor": "white"
           },
           "yaxis": {
            "backgroundcolor": "#E5ECF6",
            "gridcolor": "white",
            "gridwidth": 2,
            "linecolor": "white",
            "showbackground": true,
            "ticks": "",
            "zerolinecolor": "white"
           },
           "zaxis": {
            "backgroundcolor": "#E5ECF6",
            "gridcolor": "white",
            "gridwidth": 2,
            "linecolor": "white",
            "showbackground": true,
            "ticks": "",
            "zerolinecolor": "white"
           }
          },
          "shapedefaults": {
           "line": {
            "color": "#2a3f5f"
           }
          },
          "ternary": {
           "aaxis": {
            "gridcolor": "white",
            "linecolor": "white",
            "ticks": ""
           },
           "baxis": {
            "gridcolor": "white",
            "linecolor": "white",
            "ticks": ""
           },
           "bgcolor": "#E5ECF6",
           "caxis": {
            "gridcolor": "white",
            "linecolor": "white",
            "ticks": ""
           }
          },
          "title": {
           "x": 0.05
          },
          "xaxis": {
           "automargin": true,
           "gridcolor": "white",
           "linecolor": "white",
           "ticks": "",
           "title": {
            "standoff": 15
           },
           "zerolinecolor": "white",
           "zerolinewidth": 2
          },
          "yaxis": {
           "automargin": true,
           "gridcolor": "white",
           "linecolor": "white",
           "ticks": "",
           "title": {
            "standoff": 15
           },
           "zerolinecolor": "white",
           "zerolinewidth": 2
          }
         }
        },
        "xaxis": {
         "anchor": "y",
         "domain": [
          0,
          1
         ],
         "title": {
          "text": "School"
         }
        },
        "yaxis": {
         "anchor": "x",
         "domain": [
          0,
          1
         ],
         "title": {
          "text": "value"
         }
        }
       }
      }
     },
     "metadata": {},
     "output_type": "display_data"
    }
   ],
   "source": [
    "fig2 = px.bar(berk_private_sf, x = \"School\", y = [\"App GPA\", \"Adm GPA\", \"Enrl GPA\"], barmode = 'group')\n",
    "fig2.show()"
   ]
  },
  {
   "cell_type": "code",
   "execution_count": 19,
   "metadata": {},
   "outputs": [
    {
     "data": {
      "text/html": [
       "<div>\n",
       "<style scoped>\n",
       "    .dataframe tbody tr th:only-of-type {\n",
       "        vertical-align: middle;\n",
       "    }\n",
       "\n",
       "    .dataframe tbody tr th {\n",
       "        vertical-align: top;\n",
       "    }\n",
       "\n",
       "    .dataframe thead th {\n",
       "        text-align: right;\n",
       "    }\n",
       "</style>\n",
       "<table border=\"1\" class=\"dataframe\">\n",
       "  <thead>\n",
       "    <tr style=\"text-align: right;\">\n",
       "      <th></th>\n",
       "      <th>App GPA</th>\n",
       "      <th>Adm GPA</th>\n",
       "      <th>Enrl GPA</th>\n",
       "    </tr>\n",
       "  </thead>\n",
       "  <tbody>\n",
       "    <tr>\n",
       "      <th>count</th>\n",
       "      <td>18.000000</td>\n",
       "      <td>9.000000</td>\n",
       "      <td>8.000000</td>\n",
       "    </tr>\n",
       "    <tr>\n",
       "      <th>mean</th>\n",
       "      <td>3.891033</td>\n",
       "      <td>4.258440</td>\n",
       "      <td>4.230413</td>\n",
       "    </tr>\n",
       "    <tr>\n",
       "      <th>std</th>\n",
       "      <td>0.167808</td>\n",
       "      <td>0.050261</td>\n",
       "      <td>0.072123</td>\n",
       "    </tr>\n",
       "    <tr>\n",
       "      <th>min</th>\n",
       "      <td>3.565556</td>\n",
       "      <td>4.154194</td>\n",
       "      <td>4.097000</td>\n",
       "    </tr>\n",
       "    <tr>\n",
       "      <th>25%</th>\n",
       "      <td>3.788646</td>\n",
       "      <td>4.234800</td>\n",
       "      <td>4.214280</td>\n",
       "    </tr>\n",
       "    <tr>\n",
       "      <th>50%</th>\n",
       "      <td>3.920973</td>\n",
       "      <td>4.271176</td>\n",
       "      <td>4.240659</td>\n",
       "    </tr>\n",
       "    <tr>\n",
       "      <th>75%</th>\n",
       "      <td>4.021117</td>\n",
       "      <td>4.280000</td>\n",
       "      <td>4.254375</td>\n",
       "    </tr>\n",
       "    <tr>\n",
       "      <th>max</th>\n",
       "      <td>4.183755</td>\n",
       "      <td>4.338101</td>\n",
       "      <td>4.349000</td>\n",
       "    </tr>\n",
       "  </tbody>\n",
       "</table>\n",
       "</div>"
      ],
      "text/plain": [
       "         App GPA   Adm GPA  Enrl GPA\n",
       "count  18.000000  9.000000  8.000000\n",
       "mean    3.891033  4.258440  4.230413\n",
       "std     0.167808  0.050261  0.072123\n",
       "min     3.565556  4.154194  4.097000\n",
       "25%     3.788646  4.234800  4.214280\n",
       "50%     3.920973  4.271176  4.240659\n",
       "75%     4.021117  4.280000  4.254375\n",
       "max     4.183755  4.338101  4.349000"
      ]
     },
     "execution_count": 19,
     "metadata": {},
     "output_type": "execute_result"
    }
   ],
   "source": [
    "berk_public_sf[['School', 'App GPA', 'Adm GPA', 'Enrl GPA']].describe()"
   ]
  },
  {
   "cell_type": "code",
   "execution_count": 20,
   "metadata": {},
   "outputs": [
    {
     "data": {
      "text/html": [
       "<div>\n",
       "<style scoped>\n",
       "    .dataframe tbody tr th:only-of-type {\n",
       "        vertical-align: middle;\n",
       "    }\n",
       "\n",
       "    .dataframe tbody tr th {\n",
       "        vertical-align: top;\n",
       "    }\n",
       "\n",
       "    .dataframe thead th {\n",
       "        text-align: right;\n",
       "    }\n",
       "</style>\n",
       "<table border=\"1\" class=\"dataframe\">\n",
       "  <thead>\n",
       "    <tr style=\"text-align: right;\">\n",
       "      <th></th>\n",
       "      <th>App GPA</th>\n",
       "      <th>Adm GPA</th>\n",
       "      <th>Enrl GPA</th>\n",
       "    </tr>\n",
       "  </thead>\n",
       "  <tbody>\n",
       "    <tr>\n",
       "      <th>count</th>\n",
       "      <td>16.000000</td>\n",
       "      <td>10.000000</td>\n",
       "      <td>5.000000</td>\n",
       "    </tr>\n",
       "    <tr>\n",
       "      <th>mean</th>\n",
       "      <td>4.016390</td>\n",
       "      <td>4.217501</td>\n",
       "      <td>4.210482</td>\n",
       "    </tr>\n",
       "    <tr>\n",
       "      <th>std</th>\n",
       "      <td>0.149540</td>\n",
       "      <td>0.040456</td>\n",
       "      <td>0.039327</td>\n",
       "    </tr>\n",
       "    <tr>\n",
       "      <th>min</th>\n",
       "      <td>3.625106</td>\n",
       "      <td>4.162222</td>\n",
       "      <td>4.165385</td>\n",
       "    </tr>\n",
       "    <tr>\n",
       "      <th>25%</th>\n",
       "      <td>4.006902</td>\n",
       "      <td>4.193643</td>\n",
       "      <td>4.176000</td>\n",
       "    </tr>\n",
       "    <tr>\n",
       "      <th>50%</th>\n",
       "      <td>4.081984</td>\n",
       "      <td>4.209875</td>\n",
       "      <td>4.215882</td>\n",
       "    </tr>\n",
       "    <tr>\n",
       "      <th>75%</th>\n",
       "      <td>4.093478</td>\n",
       "      <td>4.246194</td>\n",
       "      <td>4.238000</td>\n",
       "    </tr>\n",
       "    <tr>\n",
       "      <th>max</th>\n",
       "      <td>4.148986</td>\n",
       "      <td>4.277500</td>\n",
       "      <td>4.257143</td>\n",
       "    </tr>\n",
       "  </tbody>\n",
       "</table>\n",
       "</div>"
      ],
      "text/plain": [
       "         App GPA    Adm GPA  Enrl GPA\n",
       "count  16.000000  10.000000  5.000000\n",
       "mean    4.016390   4.217501  4.210482\n",
       "std     0.149540   0.040456  0.039327\n",
       "min     3.625106   4.162222  4.165385\n",
       "25%     4.006902   4.193643  4.176000\n",
       "50%     4.081984   4.209875  4.215882\n",
       "75%     4.093478   4.246194  4.238000\n",
       "max     4.148986   4.277500  4.257143"
      ]
     },
     "execution_count": 20,
     "metadata": {},
     "output_type": "execute_result"
    }
   ],
   "source": [
    "berk_private_sf[['School', 'App GPA', 'Adm GPA', 'Enrl GPA']].describe()"
   ]
  },
  {
   "attachments": {},
   "cell_type": "markdown",
   "metadata": {},
   "source": [
    "(Yeah people applying to Berkeley are pretty smart, you've got to try very hard, Max. There is no way around it.)\n",
    "\n",
    "As seen above, the admission GPA shows how high the average GPA is according to the students that are admitted. It is a good reference point as to how well one has to perform in their respective high schools to have a chance to get into UC Berkeley."
   ]
  },
  {
   "attachments": {},
   "cell_type": "markdown",
   "metadata": {},
   "source": [
    "I then wanted to explore down South, in the Santa Clara County, to see what other competitions look like."
   ]
  },
  {
   "cell_type": "code",
   "execution_count": 32,
   "metadata": {},
   "outputs": [],
   "source": [
    "berk_public_sc = berk_public[berk_public['County/State/Country'] == \"Santa Clara\"]\n",
    "berk_private_sc = berk_private[berk_private['County/State/Country'] == \"Santa Clara\"]"
   ]
  },
  {
   "cell_type": "code",
   "execution_count": 45,
   "metadata": {},
   "outputs": [
    {
     "data": {
      "application/vnd.plotly.v1+json": {
       "config": {
        "plotlyServerURL": "https://plot.ly"
       },
       "data": [
        {
         "alignmentgroup": "True",
         "hovertemplate": "variable=App GPA<br>School=%{x}<br>value=%{y}<extra></extra>",
         "legendgroup": "App GPA",
         "marker": {
          "color": "#636efa",
          "pattern": {
           "shape": ""
          }
         },
         "name": "App GPA",
         "offsetgroup": "App GPA",
         "orientation": "v",
         "showlegend": true,
         "textposition": "auto",
         "type": "bar",
         "x": [
          "ABRAHAM LINCOLN HIGH SCHOOL",
          "ACE CHARTER HIGH SCHOOL",
          "ADRIAN C WILCOX HIGH SCHOOL",
          "ALPHA CINDY AVITIA HIGH SCHOOL",
          "ANDREW P HILL HIGH SCHOOL",
          "ANN SOBRATO HIGH SCHOOL",
          "BRANHAM HIGH SCHOOL",
          "CHRISTOPHER HIGH SCHOOL",
          "CUPERTINO HIGH SCHOOL",
          "DEL MAR HIGH SCHOOL",
          "DOWNTOWN COLG PREP ALUM ROCK",
          "DOWNTOWN COLG PREP EL PRIMERO",
          "DR TJ OWENS GILROY EARLY COLG",
          "EVERGREEN VALLEY HIGH SCHOOL",
          "FREMONT HIGH SCHOOL",
          "GILROY HIGH SCHOOL",
          "HENRY M GUNN SENIOR HIGH SCHL",
          "HENRY T GUNDERSON HIGH SCHOOL",
          "HOMESTEAD HIGH SCHOOL",
          "INDEPENDENCE HIGH SCHOOL",
          "JAMES LICK HIGH SCHOOL",
          "KIPP NAVIGATE COLLEGE PREP",
          "KIPP SAN JOSE COLLEGIATE",
          "LATINO COLLEGE PREP ACADEMY",
          "LEIGH HIGH SCHOOL",
          "LELAND HIGH SCHOOL",
          "LIVE OAK HIGH SCHOOL",
          "LOS ALTOS HIGH SCHOOL",
          "LOS GATOS HIGH SCHOOL",
          "LUIS VALDEZ LEADERSHIP ACADEMY",
          "LYNBROOK HIGH SCHOOL",
          "MILPITAS HIGH SCHOOL",
          "MISSION EARLY COLLEGE HIGH SCH",
          "MONTA VISTA HIGH SCHOOL",
          "MOUNT PLEASANT HIGH SCHOOL",
          "MOUNTAIN VIEW HIGH SCHOOL",
          "OAK GROVE HIGH SCHOOL",
          "PALO ALTO SENIOR HIGH SCHOOL",
          "PIEDMONT HILLS HIGH SCHOOL",
          "PIONEER HIGH SCHOOL",
          "PROSPECT HIGH SCHOOL",
          "SAN JOSE HIGH SCHOOL",
          "SANTA CLARA HIGH SCHOOL",
          "SANTA TERESA HIGH SCHOOL",
          "SARATOGA HIGH SCHOOL",
          "SILVER CREEK HIGH SCHOOL",
          "SUMMIT PUBLIC SCHOOL DENALI",
          "SUMMIT PUBLIC SCHOOL-TAHOMA",
          "UNIVERSITY PREP ACADEMY",
          "W C OVERFELT HIGH SCHOOL",
          "WESTMONT HIGH SCHOOL",
          "WILLOW GLEN HIGH SCHOOL",
          "YERBA BUENA HIGH SCHOOL"
         ],
         "xaxis": "x",
         "y": [
          4.119,
          3.716315789473684,
          4.089477611940299,
          3.978666666666667,
          3.9641304347826085,
          4.094098360655738,
          4.099082568807339,
          4.003137254901961,
          4.132921348314607,
          3.983589743589744,
          3.730909090909091,
          3.835909090909091,
          4.0085,
          4.008488745980708,
          4.098724832214765,
          3.898888888888889,
          4.145693430656935,
          4.17076923076923,
          4.130618556701031,
          3.959705882352941,
          3.8905555555555558,
          3.8937500000000003,
          4.051282051282051,
          3.843225806451613,
          4.124489795918367,
          4.139181034482759,
          3.998333333333333,
          4.125587044534413,
          4.091238532110092,
          3.9763636363636365,
          4.228187311178248,
          3.9730735930735928,
          4.175,
          4.081350574712643,
          3.9716129032258065,
          4.1711282051282055,
          4.05025,
          4.101992481203008,
          4.009090909090909,
          4.165581395348838,
          4.0136486486486485,
          4.141153846153847,
          4.1174489795918365,
          3.9901,
          4.1140425531914895,
          3.983088235294118,
          4.069444444444445,
          4.118235294117647,
          3.977222222222222,
          3.8966666666666665,
          3.981777777777778,
          4.053918918918919,
          4.083972602739726
         ],
         "yaxis": "y"
        },
        {
         "alignmentgroup": "True",
         "hovertemplate": "variable=Adm GPA<br>School=%{x}<br>value=%{y}<extra></extra>",
         "legendgroup": "Adm GPA",
         "marker": {
          "color": "#EF553B",
          "pattern": {
           "shape": ""
          }
         },
         "name": "Adm GPA",
         "offsetgroup": "Adm GPA",
         "orientation": "v",
         "showlegend": true,
         "textposition": "auto",
         "type": "bar",
         "x": [
          "ABRAHAM LINCOLN HIGH SCHOOL",
          "ACE CHARTER HIGH SCHOOL",
          "ADRIAN C WILCOX HIGH SCHOOL",
          "ALPHA CINDY AVITIA HIGH SCHOOL",
          "ANDREW P HILL HIGH SCHOOL",
          "ANN SOBRATO HIGH SCHOOL",
          "BRANHAM HIGH SCHOOL",
          "CHRISTOPHER HIGH SCHOOL",
          "CUPERTINO HIGH SCHOOL",
          "DEL MAR HIGH SCHOOL",
          "DOWNTOWN COLG PREP ALUM ROCK",
          "DOWNTOWN COLG PREP EL PRIMERO",
          "DR TJ OWENS GILROY EARLY COLG",
          "EVERGREEN VALLEY HIGH SCHOOL",
          "FREMONT HIGH SCHOOL",
          "GILROY HIGH SCHOOL",
          "HENRY M GUNN SENIOR HIGH SCHL",
          "HENRY T GUNDERSON HIGH SCHOOL",
          "HOMESTEAD HIGH SCHOOL",
          "INDEPENDENCE HIGH SCHOOL",
          "JAMES LICK HIGH SCHOOL",
          "KIPP NAVIGATE COLLEGE PREP",
          "KIPP SAN JOSE COLLEGIATE",
          "LATINO COLLEGE PREP ACADEMY",
          "LEIGH HIGH SCHOOL",
          "LELAND HIGH SCHOOL",
          "LIVE OAK HIGH SCHOOL",
          "LOS ALTOS HIGH SCHOOL",
          "LOS GATOS HIGH SCHOOL",
          "LUIS VALDEZ LEADERSHIP ACADEMY",
          "LYNBROOK HIGH SCHOOL",
          "MILPITAS HIGH SCHOOL",
          "MISSION EARLY COLLEGE HIGH SCH",
          "MONTA VISTA HIGH SCHOOL",
          "MOUNT PLEASANT HIGH SCHOOL",
          "MOUNTAIN VIEW HIGH SCHOOL",
          "OAK GROVE HIGH SCHOOL",
          "PALO ALTO SENIOR HIGH SCHOOL",
          "PIEDMONT HILLS HIGH SCHOOL",
          "PIONEER HIGH SCHOOL",
          "PROSPECT HIGH SCHOOL",
          "SAN JOSE HIGH SCHOOL",
          "SANTA CLARA HIGH SCHOOL",
          "SANTA TERESA HIGH SCHOOL",
          "SARATOGA HIGH SCHOOL",
          "SILVER CREEK HIGH SCHOOL",
          "SUMMIT PUBLIC SCHOOL DENALI",
          "SUMMIT PUBLIC SCHOOL-TAHOMA",
          "UNIVERSITY PREP ACADEMY",
          "W C OVERFELT HIGH SCHOOL",
          "WESTMONT HIGH SCHOOL",
          "WILLOW GLEN HIGH SCHOOL",
          "YERBA BUENA HIGH SCHOOL"
         ],
         "xaxis": "x",
         "y": [
          4.331666666666666,
          null,
          4.287777777777778,
          4.276,
          4.244285714285715,
          null,
          4.32,
          4.341666666666667,
          4.3425714285714285,
          4.275714285714286,
          null,
          null,
          4.325,
          4.241666666666667,
          4.273846153846154,
          null,
          4.301282051282051,
          4.343333333333333,
          4.316111111111111,
          4.219333333333333,
          null,
          null,
          null,
          null,
          4.309230769230769,
          4.293333333333333,
          null,
          4.291578947368421,
          4.2491666666666665,
          null,
          4.36175,
          4.228260869565218,
          null,
          4.2985,
          null,
          4.355217391304348,
          null,
          4.332424242424242,
          4.273333333333333,
          4.346666666666667,
          4.291428571428571,
          4.338333333333334,
          4.3525,
          4.2170000000000005,
          4.251212121212121,
          4.193888888888889,
          null,
          null,
          null,
          4.186,
          4.311,
          4.288333333333333,
          4.223333333333333
         ],
         "yaxis": "y"
        },
        {
         "alignmentgroup": "True",
         "hovertemplate": "variable=Enrl GPA<br>School=%{x}<br>value=%{y}<extra></extra>",
         "legendgroup": "Enrl GPA",
         "marker": {
          "color": "#00cc96",
          "pattern": {
           "shape": ""
          }
         },
         "name": "Enrl GPA",
         "offsetgroup": "Enrl GPA",
         "orientation": "v",
         "showlegend": true,
         "textposition": "auto",
         "type": "bar",
         "x": [
          "ABRAHAM LINCOLN HIGH SCHOOL",
          "ACE CHARTER HIGH SCHOOL",
          "ADRIAN C WILCOX HIGH SCHOOL",
          "ALPHA CINDY AVITIA HIGH SCHOOL",
          "ANDREW P HILL HIGH SCHOOL",
          "ANN SOBRATO HIGH SCHOOL",
          "BRANHAM HIGH SCHOOL",
          "CHRISTOPHER HIGH SCHOOL",
          "CUPERTINO HIGH SCHOOL",
          "DEL MAR HIGH SCHOOL",
          "DOWNTOWN COLG PREP ALUM ROCK",
          "DOWNTOWN COLG PREP EL PRIMERO",
          "DR TJ OWENS GILROY EARLY COLG",
          "EVERGREEN VALLEY HIGH SCHOOL",
          "FREMONT HIGH SCHOOL",
          "GILROY HIGH SCHOOL",
          "HENRY M GUNN SENIOR HIGH SCHL",
          "HENRY T GUNDERSON HIGH SCHOOL",
          "HOMESTEAD HIGH SCHOOL",
          "INDEPENDENCE HIGH SCHOOL",
          "JAMES LICK HIGH SCHOOL",
          "KIPP NAVIGATE COLLEGE PREP",
          "KIPP SAN JOSE COLLEGIATE",
          "LATINO COLLEGE PREP ACADEMY",
          "LEIGH HIGH SCHOOL",
          "LELAND HIGH SCHOOL",
          "LIVE OAK HIGH SCHOOL",
          "LOS ALTOS HIGH SCHOOL",
          "LOS GATOS HIGH SCHOOL",
          "LUIS VALDEZ LEADERSHIP ACADEMY",
          "LYNBROOK HIGH SCHOOL",
          "MILPITAS HIGH SCHOOL",
          "MISSION EARLY COLLEGE HIGH SCH",
          "MONTA VISTA HIGH SCHOOL",
          "MOUNT PLEASANT HIGH SCHOOL",
          "MOUNTAIN VIEW HIGH SCHOOL",
          "OAK GROVE HIGH SCHOOL",
          "PALO ALTO SENIOR HIGH SCHOOL",
          "PIEDMONT HILLS HIGH SCHOOL",
          "PIONEER HIGH SCHOOL",
          "PROSPECT HIGH SCHOOL",
          "SAN JOSE HIGH SCHOOL",
          "SANTA CLARA HIGH SCHOOL",
          "SANTA TERESA HIGH SCHOOL",
          "SARATOGA HIGH SCHOOL",
          "SILVER CREEK HIGH SCHOOL",
          "SUMMIT PUBLIC SCHOOL DENALI",
          "SUMMIT PUBLIC SCHOOL-TAHOMA",
          "UNIVERSITY PREP ACADEMY",
          "W C OVERFELT HIGH SCHOOL",
          "WESTMONT HIGH SCHOOL",
          "WILLOW GLEN HIGH SCHOOL",
          "YERBA BUENA HIGH SCHOOL"
         ],
         "xaxis": "x",
         "y": [
          null,
          null,
          4.2299999999999995,
          null,
          null,
          null,
          4.337142857142857,
          null,
          4.3272,
          null,
          null,
          null,
          null,
          4.24483870967742,
          4.26,
          null,
          4.276666666666666,
          null,
          4.26409090909091,
          4.2058333333333335,
          null,
          null,
          null,
          null,
          4.295,
          4.2675,
          null,
          4.2490000000000006,
          4.2219999999999995,
          null,
          4.334074074074074,
          4.216470588235294,
          null,
          4.3021875,
          null,
          4.353,
          null,
          4.317142857142857,
          4.2628571428571425,
          4.366666666666666,
          4.2700000000000005,
          null,
          4.3100000000000005,
          4.204285714285715,
          4.2368421052631575,
          4.181333333333333,
          null,
          null,
          null,
          null,
          4.298,
          4.256666666666667,
          4.215
         ],
         "yaxis": "y"
        }
       ],
       "layout": {
        "barmode": "group",
        "legend": {
         "title": {
          "text": "variable"
         },
         "tracegroupgap": 0
        },
        "margin": {
         "t": 60
        },
        "template": {
         "data": {
          "bar": [
           {
            "error_x": {
             "color": "#2a3f5f"
            },
            "error_y": {
             "color": "#2a3f5f"
            },
            "marker": {
             "line": {
              "color": "#E5ECF6",
              "width": 0.5
             },
             "pattern": {
              "fillmode": "overlay",
              "size": 10,
              "solidity": 0.2
             }
            },
            "type": "bar"
           }
          ],
          "barpolar": [
           {
            "marker": {
             "line": {
              "color": "#E5ECF6",
              "width": 0.5
             },
             "pattern": {
              "fillmode": "overlay",
              "size": 10,
              "solidity": 0.2
             }
            },
            "type": "barpolar"
           }
          ],
          "carpet": [
           {
            "aaxis": {
             "endlinecolor": "#2a3f5f",
             "gridcolor": "white",
             "linecolor": "white",
             "minorgridcolor": "white",
             "startlinecolor": "#2a3f5f"
            },
            "baxis": {
             "endlinecolor": "#2a3f5f",
             "gridcolor": "white",
             "linecolor": "white",
             "minorgridcolor": "white",
             "startlinecolor": "#2a3f5f"
            },
            "type": "carpet"
           }
          ],
          "choropleth": [
           {
            "colorbar": {
             "outlinewidth": 0,
             "ticks": ""
            },
            "type": "choropleth"
           }
          ],
          "contour": [
           {
            "colorbar": {
             "outlinewidth": 0,
             "ticks": ""
            },
            "colorscale": [
             [
              0,
              "#0d0887"
             ],
             [
              0.1111111111111111,
              "#46039f"
             ],
             [
              0.2222222222222222,
              "#7201a8"
             ],
             [
              0.3333333333333333,
              "#9c179e"
             ],
             [
              0.4444444444444444,
              "#bd3786"
             ],
             [
              0.5555555555555556,
              "#d8576b"
             ],
             [
              0.6666666666666666,
              "#ed7953"
             ],
             [
              0.7777777777777778,
              "#fb9f3a"
             ],
             [
              0.8888888888888888,
              "#fdca26"
             ],
             [
              1,
              "#f0f921"
             ]
            ],
            "type": "contour"
           }
          ],
          "contourcarpet": [
           {
            "colorbar": {
             "outlinewidth": 0,
             "ticks": ""
            },
            "type": "contourcarpet"
           }
          ],
          "heatmap": [
           {
            "colorbar": {
             "outlinewidth": 0,
             "ticks": ""
            },
            "colorscale": [
             [
              0,
              "#0d0887"
             ],
             [
              0.1111111111111111,
              "#46039f"
             ],
             [
              0.2222222222222222,
              "#7201a8"
             ],
             [
              0.3333333333333333,
              "#9c179e"
             ],
             [
              0.4444444444444444,
              "#bd3786"
             ],
             [
              0.5555555555555556,
              "#d8576b"
             ],
             [
              0.6666666666666666,
              "#ed7953"
             ],
             [
              0.7777777777777778,
              "#fb9f3a"
             ],
             [
              0.8888888888888888,
              "#fdca26"
             ],
             [
              1,
              "#f0f921"
             ]
            ],
            "type": "heatmap"
           }
          ],
          "heatmapgl": [
           {
            "colorbar": {
             "outlinewidth": 0,
             "ticks": ""
            },
            "colorscale": [
             [
              0,
              "#0d0887"
             ],
             [
              0.1111111111111111,
              "#46039f"
             ],
             [
              0.2222222222222222,
              "#7201a8"
             ],
             [
              0.3333333333333333,
              "#9c179e"
             ],
             [
              0.4444444444444444,
              "#bd3786"
             ],
             [
              0.5555555555555556,
              "#d8576b"
             ],
             [
              0.6666666666666666,
              "#ed7953"
             ],
             [
              0.7777777777777778,
              "#fb9f3a"
             ],
             [
              0.8888888888888888,
              "#fdca26"
             ],
             [
              1,
              "#f0f921"
             ]
            ],
            "type": "heatmapgl"
           }
          ],
          "histogram": [
           {
            "marker": {
             "pattern": {
              "fillmode": "overlay",
              "size": 10,
              "solidity": 0.2
             }
            },
            "type": "histogram"
           }
          ],
          "histogram2d": [
           {
            "colorbar": {
             "outlinewidth": 0,
             "ticks": ""
            },
            "colorscale": [
             [
              0,
              "#0d0887"
             ],
             [
              0.1111111111111111,
              "#46039f"
             ],
             [
              0.2222222222222222,
              "#7201a8"
             ],
             [
              0.3333333333333333,
              "#9c179e"
             ],
             [
              0.4444444444444444,
              "#bd3786"
             ],
             [
              0.5555555555555556,
              "#d8576b"
             ],
             [
              0.6666666666666666,
              "#ed7953"
             ],
             [
              0.7777777777777778,
              "#fb9f3a"
             ],
             [
              0.8888888888888888,
              "#fdca26"
             ],
             [
              1,
              "#f0f921"
             ]
            ],
            "type": "histogram2d"
           }
          ],
          "histogram2dcontour": [
           {
            "colorbar": {
             "outlinewidth": 0,
             "ticks": ""
            },
            "colorscale": [
             [
              0,
              "#0d0887"
             ],
             [
              0.1111111111111111,
              "#46039f"
             ],
             [
              0.2222222222222222,
              "#7201a8"
             ],
             [
              0.3333333333333333,
              "#9c179e"
             ],
             [
              0.4444444444444444,
              "#bd3786"
             ],
             [
              0.5555555555555556,
              "#d8576b"
             ],
             [
              0.6666666666666666,
              "#ed7953"
             ],
             [
              0.7777777777777778,
              "#fb9f3a"
             ],
             [
              0.8888888888888888,
              "#fdca26"
             ],
             [
              1,
              "#f0f921"
             ]
            ],
            "type": "histogram2dcontour"
           }
          ],
          "mesh3d": [
           {
            "colorbar": {
             "outlinewidth": 0,
             "ticks": ""
            },
            "type": "mesh3d"
           }
          ],
          "parcoords": [
           {
            "line": {
             "colorbar": {
              "outlinewidth": 0,
              "ticks": ""
             }
            },
            "type": "parcoords"
           }
          ],
          "pie": [
           {
            "automargin": true,
            "type": "pie"
           }
          ],
          "scatter": [
           {
            "marker": {
             "colorbar": {
              "outlinewidth": 0,
              "ticks": ""
             }
            },
            "type": "scatter"
           }
          ],
          "scatter3d": [
           {
            "line": {
             "colorbar": {
              "outlinewidth": 0,
              "ticks": ""
             }
            },
            "marker": {
             "colorbar": {
              "outlinewidth": 0,
              "ticks": ""
             }
            },
            "type": "scatter3d"
           }
          ],
          "scattercarpet": [
           {
            "marker": {
             "colorbar": {
              "outlinewidth": 0,
              "ticks": ""
             }
            },
            "type": "scattercarpet"
           }
          ],
          "scattergeo": [
           {
            "marker": {
             "colorbar": {
              "outlinewidth": 0,
              "ticks": ""
             }
            },
            "type": "scattergeo"
           }
          ],
          "scattergl": [
           {
            "marker": {
             "colorbar": {
              "outlinewidth": 0,
              "ticks": ""
             }
            },
            "type": "scattergl"
           }
          ],
          "scattermapbox": [
           {
            "marker": {
             "colorbar": {
              "outlinewidth": 0,
              "ticks": ""
             }
            },
            "type": "scattermapbox"
           }
          ],
          "scatterpolar": [
           {
            "marker": {
             "colorbar": {
              "outlinewidth": 0,
              "ticks": ""
             }
            },
            "type": "scatterpolar"
           }
          ],
          "scatterpolargl": [
           {
            "marker": {
             "colorbar": {
              "outlinewidth": 0,
              "ticks": ""
             }
            },
            "type": "scatterpolargl"
           }
          ],
          "scatterternary": [
           {
            "marker": {
             "colorbar": {
              "outlinewidth": 0,
              "ticks": ""
             }
            },
            "type": "scatterternary"
           }
          ],
          "surface": [
           {
            "colorbar": {
             "outlinewidth": 0,
             "ticks": ""
            },
            "colorscale": [
             [
              0,
              "#0d0887"
             ],
             [
              0.1111111111111111,
              "#46039f"
             ],
             [
              0.2222222222222222,
              "#7201a8"
             ],
             [
              0.3333333333333333,
              "#9c179e"
             ],
             [
              0.4444444444444444,
              "#bd3786"
             ],
             [
              0.5555555555555556,
              "#d8576b"
             ],
             [
              0.6666666666666666,
              "#ed7953"
             ],
             [
              0.7777777777777778,
              "#fb9f3a"
             ],
             [
              0.8888888888888888,
              "#fdca26"
             ],
             [
              1,
              "#f0f921"
             ]
            ],
            "type": "surface"
           }
          ],
          "table": [
           {
            "cells": {
             "fill": {
              "color": "#EBF0F8"
             },
             "line": {
              "color": "white"
             }
            },
            "header": {
             "fill": {
              "color": "#C8D4E3"
             },
             "line": {
              "color": "white"
             }
            },
            "type": "table"
           }
          ]
         },
         "layout": {
          "annotationdefaults": {
           "arrowcolor": "#2a3f5f",
           "arrowhead": 0,
           "arrowwidth": 1
          },
          "autotypenumbers": "strict",
          "coloraxis": {
           "colorbar": {
            "outlinewidth": 0,
            "ticks": ""
           }
          },
          "colorscale": {
           "diverging": [
            [
             0,
             "#8e0152"
            ],
            [
             0.1,
             "#c51b7d"
            ],
            [
             0.2,
             "#de77ae"
            ],
            [
             0.3,
             "#f1b6da"
            ],
            [
             0.4,
             "#fde0ef"
            ],
            [
             0.5,
             "#f7f7f7"
            ],
            [
             0.6,
             "#e6f5d0"
            ],
            [
             0.7,
             "#b8e186"
            ],
            [
             0.8,
             "#7fbc41"
            ],
            [
             0.9,
             "#4d9221"
            ],
            [
             1,
             "#276419"
            ]
           ],
           "sequential": [
            [
             0,
             "#0d0887"
            ],
            [
             0.1111111111111111,
             "#46039f"
            ],
            [
             0.2222222222222222,
             "#7201a8"
            ],
            [
             0.3333333333333333,
             "#9c179e"
            ],
            [
             0.4444444444444444,
             "#bd3786"
            ],
            [
             0.5555555555555556,
             "#d8576b"
            ],
            [
             0.6666666666666666,
             "#ed7953"
            ],
            [
             0.7777777777777778,
             "#fb9f3a"
            ],
            [
             0.8888888888888888,
             "#fdca26"
            ],
            [
             1,
             "#f0f921"
            ]
           ],
           "sequentialminus": [
            [
             0,
             "#0d0887"
            ],
            [
             0.1111111111111111,
             "#46039f"
            ],
            [
             0.2222222222222222,
             "#7201a8"
            ],
            [
             0.3333333333333333,
             "#9c179e"
            ],
            [
             0.4444444444444444,
             "#bd3786"
            ],
            [
             0.5555555555555556,
             "#d8576b"
            ],
            [
             0.6666666666666666,
             "#ed7953"
            ],
            [
             0.7777777777777778,
             "#fb9f3a"
            ],
            [
             0.8888888888888888,
             "#fdca26"
            ],
            [
             1,
             "#f0f921"
            ]
           ]
          },
          "colorway": [
           "#636efa",
           "#EF553B",
           "#00cc96",
           "#ab63fa",
           "#FFA15A",
           "#19d3f3",
           "#FF6692",
           "#B6E880",
           "#FF97FF",
           "#FECB52"
          ],
          "font": {
           "color": "#2a3f5f"
          },
          "geo": {
           "bgcolor": "white",
           "lakecolor": "white",
           "landcolor": "#E5ECF6",
           "showlakes": true,
           "showland": true,
           "subunitcolor": "white"
          },
          "hoverlabel": {
           "align": "left"
          },
          "hovermode": "closest",
          "mapbox": {
           "style": "light"
          },
          "paper_bgcolor": "white",
          "plot_bgcolor": "#E5ECF6",
          "polar": {
           "angularaxis": {
            "gridcolor": "white",
            "linecolor": "white",
            "ticks": ""
           },
           "bgcolor": "#E5ECF6",
           "radialaxis": {
            "gridcolor": "white",
            "linecolor": "white",
            "ticks": ""
           }
          },
          "scene": {
           "xaxis": {
            "backgroundcolor": "#E5ECF6",
            "gridcolor": "white",
            "gridwidth": 2,
            "linecolor": "white",
            "showbackground": true,
            "ticks": "",
            "zerolinecolor": "white"
           },
           "yaxis": {
            "backgroundcolor": "#E5ECF6",
            "gridcolor": "white",
            "gridwidth": 2,
            "linecolor": "white",
            "showbackground": true,
            "ticks": "",
            "zerolinecolor": "white"
           },
           "zaxis": {
            "backgroundcolor": "#E5ECF6",
            "gridcolor": "white",
            "gridwidth": 2,
            "linecolor": "white",
            "showbackground": true,
            "ticks": "",
            "zerolinecolor": "white"
           }
          },
          "shapedefaults": {
           "line": {
            "color": "#2a3f5f"
           }
          },
          "ternary": {
           "aaxis": {
            "gridcolor": "white",
            "linecolor": "white",
            "ticks": ""
           },
           "baxis": {
            "gridcolor": "white",
            "linecolor": "white",
            "ticks": ""
           },
           "bgcolor": "#E5ECF6",
           "caxis": {
            "gridcolor": "white",
            "linecolor": "white",
            "ticks": ""
           }
          },
          "title": {
           "x": 0.05
          },
          "xaxis": {
           "automargin": true,
           "gridcolor": "white",
           "linecolor": "white",
           "ticks": "",
           "title": {
            "standoff": 15
           },
           "zerolinecolor": "white",
           "zerolinewidth": 2
          },
          "yaxis": {
           "automargin": true,
           "gridcolor": "white",
           "linecolor": "white",
           "ticks": "",
           "title": {
            "standoff": 15
           },
           "zerolinecolor": "white",
           "zerolinewidth": 2
          }
         }
        },
        "xaxis": {
         "anchor": "y",
         "domain": [
          0,
          1
         ],
         "title": {
          "text": "School"
         }
        },
        "yaxis": {
         "anchor": "x",
         "domain": [
          0,
          1
         ],
         "title": {
          "text": "value"
         }
        }
       }
      }
     },
     "metadata": {},
     "output_type": "display_data"
    }
   ],
   "source": [
    "fig4 = px.bar(berk_public_sc, x = \"School\", y = [\"App GPA\", \"Adm GPA\", \"Enrl GPA\"], barmode = 'group')\n",
    "fig4.show()"
   ]
  },
  {
   "cell_type": "code",
   "execution_count": 43,
   "metadata": {},
   "outputs": [
    {
     "data": {
      "application/vnd.plotly.v1+json": {
       "config": {
        "plotlyServerURL": "https://plot.ly"
       },
       "data": [
        {
         "alignmentgroup": "True",
         "hovertemplate": "variable=App GPA<br>School=%{x}<br>value=%{y}<extra></extra>",
         "legendgroup": "App GPA",
         "marker": {
          "color": "#636efa",
          "pattern": {
           "shape": ""
          }
         },
         "name": "App GPA",
         "offsetgroup": "App GPA",
         "orientation": "v",
         "showlegend": true,
         "textposition": "auto",
         "type": "bar",
         "x": [
          "APOSTLES LUTHERAN SCHOOL",
          "ARCHBISHOP MITTY HIGH SCHOOL",
          "BASIS INDEPENDENT SILICON VLY",
          "BELLARMINE COLLEGE PREPARATORY",
          "CASTILLEJA SCHOOL",
          "CRISTO REY SAN JOSE JESUIT HS",
          "GERMAN INTL SCH SILICON VLLY",
          "HARKER SCHOOL",
          "KEHILLAH JEWISH HIGH SCHOOL",
          "KHAN LAB SCHOOL",
          "NOTRE DAME HIGH SCHOOL",
          "OAKWOOD SCHOOL",
          "PINEWOOD SCHOOL",
          "PRESENTATION HIGH SCHOOL",
          "SAINT FRANCIS HIGH SCHOOL",
          "SCHOOL INDEPENDENT LEARNERS",
          "THE KINGS ACADEMY",
          "VALLEY CHRISTIAN HIGH SCHOOL"
         ],
         "xaxis": "x",
         "y": [
          3.906,
          4.110476190476191,
          4.145945945945946,
          4.025704697986577,
          4.288518518518519,
          4.0723529411764705,
          3.832,
          4.183393939393939,
          4.136111111111111,
          4.669090909090909,
          4.134366197183099,
          3.86,
          4.067272727272727,
          4.028717948717949,
          3.993758389261745,
          4.128,
          4.122909090909091,
          4.103081395348838
         ],
         "yaxis": "y"
        },
        {
         "alignmentgroup": "True",
         "hovertemplate": "variable=Adm GPA<br>School=%{x}<br>value=%{y}<extra></extra>",
         "legendgroup": "Adm GPA",
         "marker": {
          "color": "#EF553B",
          "pattern": {
           "shape": ""
          }
         },
         "name": "Adm GPA",
         "offsetgroup": "Adm GPA",
         "orientation": "v",
         "showlegend": true,
         "textposition": "auto",
         "type": "bar",
         "x": [
          "APOSTLES LUTHERAN SCHOOL",
          "ARCHBISHOP MITTY HIGH SCHOOL",
          "BASIS INDEPENDENT SILICON VLY",
          "BELLARMINE COLLEGE PREPARATORY",
          "CASTILLEJA SCHOOL",
          "CRISTO REY SAN JOSE JESUIT HS",
          "GERMAN INTL SCH SILICON VLLY",
          "HARKER SCHOOL",
          "KEHILLAH JEWISH HIGH SCHOOL",
          "KHAN LAB SCHOOL",
          "NOTRE DAME HIGH SCHOOL",
          "OAKWOOD SCHOOL",
          "PINEWOOD SCHOOL",
          "PRESENTATION HIGH SCHOOL",
          "SAINT FRANCIS HIGH SCHOOL",
          "SCHOOL INDEPENDENT LEARNERS",
          "THE KINGS ACADEMY",
          "VALLEY CHRISTIAN HIGH SCHOOL"
         ],
         "xaxis": "x",
         "y": [
          null,
          4.26551724137931,
          4.226666666666667,
          4.218,
          4.2975,
          4.295714285714285,
          null,
          4.3025925925925925,
          null,
          null,
          4.301111111111111,
          null,
          null,
          4.271428571428571,
          4.235,
          null,
          4.256,
          4.287894736842105
         ],
         "yaxis": "y"
        },
        {
         "alignmentgroup": "True",
         "hovertemplate": "variable=Enrl GPA<br>School=%{x}<br>value=%{y}<extra></extra>",
         "legendgroup": "Enrl GPA",
         "marker": {
          "color": "#00cc96",
          "pattern": {
           "shape": ""
          }
         },
         "name": "Enrl GPA",
         "offsetgroup": "Enrl GPA",
         "orientation": "v",
         "showlegend": true,
         "textposition": "auto",
         "type": "bar",
         "x": [
          "APOSTLES LUTHERAN SCHOOL",
          "ARCHBISHOP MITTY HIGH SCHOOL",
          "BASIS INDEPENDENT SILICON VLY",
          "BELLARMINE COLLEGE PREPARATORY",
          "CASTILLEJA SCHOOL",
          "CRISTO REY SAN JOSE JESUIT HS",
          "GERMAN INTL SCH SILICON VLLY",
          "HARKER SCHOOL",
          "KEHILLAH JEWISH HIGH SCHOOL",
          "KHAN LAB SCHOOL",
          "NOTRE DAME HIGH SCHOOL",
          "OAKWOOD SCHOOL",
          "PINEWOOD SCHOOL",
          "PRESENTATION HIGH SCHOOL",
          "SAINT FRANCIS HIGH SCHOOL",
          "SCHOOL INDEPENDENT LEARNERS",
          "THE KINGS ACADEMY",
          "VALLEY CHRISTIAN HIGH SCHOOL"
         ],
         "xaxis": "x",
         "y": [
          null,
          4.2375,
          4.216666666666667,
          null,
          null,
          null,
          null,
          4.275,
          null,
          null,
          4.314,
          null,
          null,
          null,
          4.2299999999999995,
          null,
          4.242857142857143,
          4.261666666666667
         ],
         "yaxis": "y"
        }
       ],
       "layout": {
        "barmode": "group",
        "legend": {
         "title": {
          "text": "variable"
         },
         "tracegroupgap": 0
        },
        "margin": {
         "t": 60
        },
        "template": {
         "data": {
          "bar": [
           {
            "error_x": {
             "color": "#2a3f5f"
            },
            "error_y": {
             "color": "#2a3f5f"
            },
            "marker": {
             "line": {
              "color": "#E5ECF6",
              "width": 0.5
             },
             "pattern": {
              "fillmode": "overlay",
              "size": 10,
              "solidity": 0.2
             }
            },
            "type": "bar"
           }
          ],
          "barpolar": [
           {
            "marker": {
             "line": {
              "color": "#E5ECF6",
              "width": 0.5
             },
             "pattern": {
              "fillmode": "overlay",
              "size": 10,
              "solidity": 0.2
             }
            },
            "type": "barpolar"
           }
          ],
          "carpet": [
           {
            "aaxis": {
             "endlinecolor": "#2a3f5f",
             "gridcolor": "white",
             "linecolor": "white",
             "minorgridcolor": "white",
             "startlinecolor": "#2a3f5f"
            },
            "baxis": {
             "endlinecolor": "#2a3f5f",
             "gridcolor": "white",
             "linecolor": "white",
             "minorgridcolor": "white",
             "startlinecolor": "#2a3f5f"
            },
            "type": "carpet"
           }
          ],
          "choropleth": [
           {
            "colorbar": {
             "outlinewidth": 0,
             "ticks": ""
            },
            "type": "choropleth"
           }
          ],
          "contour": [
           {
            "colorbar": {
             "outlinewidth": 0,
             "ticks": ""
            },
            "colorscale": [
             [
              0,
              "#0d0887"
             ],
             [
              0.1111111111111111,
              "#46039f"
             ],
             [
              0.2222222222222222,
              "#7201a8"
             ],
             [
              0.3333333333333333,
              "#9c179e"
             ],
             [
              0.4444444444444444,
              "#bd3786"
             ],
             [
              0.5555555555555556,
              "#d8576b"
             ],
             [
              0.6666666666666666,
              "#ed7953"
             ],
             [
              0.7777777777777778,
              "#fb9f3a"
             ],
             [
              0.8888888888888888,
              "#fdca26"
             ],
             [
              1,
              "#f0f921"
             ]
            ],
            "type": "contour"
           }
          ],
          "contourcarpet": [
           {
            "colorbar": {
             "outlinewidth": 0,
             "ticks": ""
            },
            "type": "contourcarpet"
           }
          ],
          "heatmap": [
           {
            "colorbar": {
             "outlinewidth": 0,
             "ticks": ""
            },
            "colorscale": [
             [
              0,
              "#0d0887"
             ],
             [
              0.1111111111111111,
              "#46039f"
             ],
             [
              0.2222222222222222,
              "#7201a8"
             ],
             [
              0.3333333333333333,
              "#9c179e"
             ],
             [
              0.4444444444444444,
              "#bd3786"
             ],
             [
              0.5555555555555556,
              "#d8576b"
             ],
             [
              0.6666666666666666,
              "#ed7953"
             ],
             [
              0.7777777777777778,
              "#fb9f3a"
             ],
             [
              0.8888888888888888,
              "#fdca26"
             ],
             [
              1,
              "#f0f921"
             ]
            ],
            "type": "heatmap"
           }
          ],
          "heatmapgl": [
           {
            "colorbar": {
             "outlinewidth": 0,
             "ticks": ""
            },
            "colorscale": [
             [
              0,
              "#0d0887"
             ],
             [
              0.1111111111111111,
              "#46039f"
             ],
             [
              0.2222222222222222,
              "#7201a8"
             ],
             [
              0.3333333333333333,
              "#9c179e"
             ],
             [
              0.4444444444444444,
              "#bd3786"
             ],
             [
              0.5555555555555556,
              "#d8576b"
             ],
             [
              0.6666666666666666,
              "#ed7953"
             ],
             [
              0.7777777777777778,
              "#fb9f3a"
             ],
             [
              0.8888888888888888,
              "#fdca26"
             ],
             [
              1,
              "#f0f921"
             ]
            ],
            "type": "heatmapgl"
           }
          ],
          "histogram": [
           {
            "marker": {
             "pattern": {
              "fillmode": "overlay",
              "size": 10,
              "solidity": 0.2
             }
            },
            "type": "histogram"
           }
          ],
          "histogram2d": [
           {
            "colorbar": {
             "outlinewidth": 0,
             "ticks": ""
            },
            "colorscale": [
             [
              0,
              "#0d0887"
             ],
             [
              0.1111111111111111,
              "#46039f"
             ],
             [
              0.2222222222222222,
              "#7201a8"
             ],
             [
              0.3333333333333333,
              "#9c179e"
             ],
             [
              0.4444444444444444,
              "#bd3786"
             ],
             [
              0.5555555555555556,
              "#d8576b"
             ],
             [
              0.6666666666666666,
              "#ed7953"
             ],
             [
              0.7777777777777778,
              "#fb9f3a"
             ],
             [
              0.8888888888888888,
              "#fdca26"
             ],
             [
              1,
              "#f0f921"
             ]
            ],
            "type": "histogram2d"
           }
          ],
          "histogram2dcontour": [
           {
            "colorbar": {
             "outlinewidth": 0,
             "ticks": ""
            },
            "colorscale": [
             [
              0,
              "#0d0887"
             ],
             [
              0.1111111111111111,
              "#46039f"
             ],
             [
              0.2222222222222222,
              "#7201a8"
             ],
             [
              0.3333333333333333,
              "#9c179e"
             ],
             [
              0.4444444444444444,
              "#bd3786"
             ],
             [
              0.5555555555555556,
              "#d8576b"
             ],
             [
              0.6666666666666666,
              "#ed7953"
             ],
             [
              0.7777777777777778,
              "#fb9f3a"
             ],
             [
              0.8888888888888888,
              "#fdca26"
             ],
             [
              1,
              "#f0f921"
             ]
            ],
            "type": "histogram2dcontour"
           }
          ],
          "mesh3d": [
           {
            "colorbar": {
             "outlinewidth": 0,
             "ticks": ""
            },
            "type": "mesh3d"
           }
          ],
          "parcoords": [
           {
            "line": {
             "colorbar": {
              "outlinewidth": 0,
              "ticks": ""
             }
            },
            "type": "parcoords"
           }
          ],
          "pie": [
           {
            "automargin": true,
            "type": "pie"
           }
          ],
          "scatter": [
           {
            "marker": {
             "colorbar": {
              "outlinewidth": 0,
              "ticks": ""
             }
            },
            "type": "scatter"
           }
          ],
          "scatter3d": [
           {
            "line": {
             "colorbar": {
              "outlinewidth": 0,
              "ticks": ""
             }
            },
            "marker": {
             "colorbar": {
              "outlinewidth": 0,
              "ticks": ""
             }
            },
            "type": "scatter3d"
           }
          ],
          "scattercarpet": [
           {
            "marker": {
             "colorbar": {
              "outlinewidth": 0,
              "ticks": ""
             }
            },
            "type": "scattercarpet"
           }
          ],
          "scattergeo": [
           {
            "marker": {
             "colorbar": {
              "outlinewidth": 0,
              "ticks": ""
             }
            },
            "type": "scattergeo"
           }
          ],
          "scattergl": [
           {
            "marker": {
             "colorbar": {
              "outlinewidth": 0,
              "ticks": ""
             }
            },
            "type": "scattergl"
           }
          ],
          "scattermapbox": [
           {
            "marker": {
             "colorbar": {
              "outlinewidth": 0,
              "ticks": ""
             }
            },
            "type": "scattermapbox"
           }
          ],
          "scatterpolar": [
           {
            "marker": {
             "colorbar": {
              "outlinewidth": 0,
              "ticks": ""
             }
            },
            "type": "scatterpolar"
           }
          ],
          "scatterpolargl": [
           {
            "marker": {
             "colorbar": {
              "outlinewidth": 0,
              "ticks": ""
             }
            },
            "type": "scatterpolargl"
           }
          ],
          "scatterternary": [
           {
            "marker": {
             "colorbar": {
              "outlinewidth": 0,
              "ticks": ""
             }
            },
            "type": "scatterternary"
           }
          ],
          "surface": [
           {
            "colorbar": {
             "outlinewidth": 0,
             "ticks": ""
            },
            "colorscale": [
             [
              0,
              "#0d0887"
             ],
             [
              0.1111111111111111,
              "#46039f"
             ],
             [
              0.2222222222222222,
              "#7201a8"
             ],
             [
              0.3333333333333333,
              "#9c179e"
             ],
             [
              0.4444444444444444,
              "#bd3786"
             ],
             [
              0.5555555555555556,
              "#d8576b"
             ],
             [
              0.6666666666666666,
              "#ed7953"
             ],
             [
              0.7777777777777778,
              "#fb9f3a"
             ],
             [
              0.8888888888888888,
              "#fdca26"
             ],
             [
              1,
              "#f0f921"
             ]
            ],
            "type": "surface"
           }
          ],
          "table": [
           {
            "cells": {
             "fill": {
              "color": "#EBF0F8"
             },
             "line": {
              "color": "white"
             }
            },
            "header": {
             "fill": {
              "color": "#C8D4E3"
             },
             "line": {
              "color": "white"
             }
            },
            "type": "table"
           }
          ]
         },
         "layout": {
          "annotationdefaults": {
           "arrowcolor": "#2a3f5f",
           "arrowhead": 0,
           "arrowwidth": 1
          },
          "autotypenumbers": "strict",
          "coloraxis": {
           "colorbar": {
            "outlinewidth": 0,
            "ticks": ""
           }
          },
          "colorscale": {
           "diverging": [
            [
             0,
             "#8e0152"
            ],
            [
             0.1,
             "#c51b7d"
            ],
            [
             0.2,
             "#de77ae"
            ],
            [
             0.3,
             "#f1b6da"
            ],
            [
             0.4,
             "#fde0ef"
            ],
            [
             0.5,
             "#f7f7f7"
            ],
            [
             0.6,
             "#e6f5d0"
            ],
            [
             0.7,
             "#b8e186"
            ],
            [
             0.8,
             "#7fbc41"
            ],
            [
             0.9,
             "#4d9221"
            ],
            [
             1,
             "#276419"
            ]
           ],
           "sequential": [
            [
             0,
             "#0d0887"
            ],
            [
             0.1111111111111111,
             "#46039f"
            ],
            [
             0.2222222222222222,
             "#7201a8"
            ],
            [
             0.3333333333333333,
             "#9c179e"
            ],
            [
             0.4444444444444444,
             "#bd3786"
            ],
            [
             0.5555555555555556,
             "#d8576b"
            ],
            [
             0.6666666666666666,
             "#ed7953"
            ],
            [
             0.7777777777777778,
             "#fb9f3a"
            ],
            [
             0.8888888888888888,
             "#fdca26"
            ],
            [
             1,
             "#f0f921"
            ]
           ],
           "sequentialminus": [
            [
             0,
             "#0d0887"
            ],
            [
             0.1111111111111111,
             "#46039f"
            ],
            [
             0.2222222222222222,
             "#7201a8"
            ],
            [
             0.3333333333333333,
             "#9c179e"
            ],
            [
             0.4444444444444444,
             "#bd3786"
            ],
            [
             0.5555555555555556,
             "#d8576b"
            ],
            [
             0.6666666666666666,
             "#ed7953"
            ],
            [
             0.7777777777777778,
             "#fb9f3a"
            ],
            [
             0.8888888888888888,
             "#fdca26"
            ],
            [
             1,
             "#f0f921"
            ]
           ]
          },
          "colorway": [
           "#636efa",
           "#EF553B",
           "#00cc96",
           "#ab63fa",
           "#FFA15A",
           "#19d3f3",
           "#FF6692",
           "#B6E880",
           "#FF97FF",
           "#FECB52"
          ],
          "font": {
           "color": "#2a3f5f"
          },
          "geo": {
           "bgcolor": "white",
           "lakecolor": "white",
           "landcolor": "#E5ECF6",
           "showlakes": true,
           "showland": true,
           "subunitcolor": "white"
          },
          "hoverlabel": {
           "align": "left"
          },
          "hovermode": "closest",
          "mapbox": {
           "style": "light"
          },
          "paper_bgcolor": "white",
          "plot_bgcolor": "#E5ECF6",
          "polar": {
           "angularaxis": {
            "gridcolor": "white",
            "linecolor": "white",
            "ticks": ""
           },
           "bgcolor": "#E5ECF6",
           "radialaxis": {
            "gridcolor": "white",
            "linecolor": "white",
            "ticks": ""
           }
          },
          "scene": {
           "xaxis": {
            "backgroundcolor": "#E5ECF6",
            "gridcolor": "white",
            "gridwidth": 2,
            "linecolor": "white",
            "showbackground": true,
            "ticks": "",
            "zerolinecolor": "white"
           },
           "yaxis": {
            "backgroundcolor": "#E5ECF6",
            "gridcolor": "white",
            "gridwidth": 2,
            "linecolor": "white",
            "showbackground": true,
            "ticks": "",
            "zerolinecolor": "white"
           },
           "zaxis": {
            "backgroundcolor": "#E5ECF6",
            "gridcolor": "white",
            "gridwidth": 2,
            "linecolor": "white",
            "showbackground": true,
            "ticks": "",
            "zerolinecolor": "white"
           }
          },
          "shapedefaults": {
           "line": {
            "color": "#2a3f5f"
           }
          },
          "ternary": {
           "aaxis": {
            "gridcolor": "white",
            "linecolor": "white",
            "ticks": ""
           },
           "baxis": {
            "gridcolor": "white",
            "linecolor": "white",
            "ticks": ""
           },
           "bgcolor": "#E5ECF6",
           "caxis": {
            "gridcolor": "white",
            "linecolor": "white",
            "ticks": ""
           }
          },
          "title": {
           "x": 0.05
          },
          "xaxis": {
           "automargin": true,
           "gridcolor": "white",
           "linecolor": "white",
           "ticks": "",
           "title": {
            "standoff": 15
           },
           "zerolinecolor": "white",
           "zerolinewidth": 2
          },
          "yaxis": {
           "automargin": true,
           "gridcolor": "white",
           "linecolor": "white",
           "ticks": "",
           "title": {
            "standoff": 15
           },
           "zerolinecolor": "white",
           "zerolinewidth": 2
          }
         }
        },
        "xaxis": {
         "anchor": "y",
         "domain": [
          0,
          1
         ],
         "title": {
          "text": "School"
         }
        },
        "yaxis": {
         "anchor": "x",
         "domain": [
          0,
          1
         ],
         "title": {
          "text": "value"
         }
        }
       }
      }
     },
     "metadata": {},
     "output_type": "display_data"
    }
   ],
   "source": [
    "fig3 = px.bar(berk_private_sc, x = \"School\", y = [\"App GPA\", \"Adm GPA\", \"Enrl GPA\"], barmode = 'group')\n",
    "fig3.show()"
   ]
  },
  {
   "cell_type": "code",
   "execution_count": 35,
   "metadata": {},
   "outputs": [
    {
     "data": {
      "text/html": [
       "<div>\n",
       "<style scoped>\n",
       "    .dataframe tbody tr th:only-of-type {\n",
       "        vertical-align: middle;\n",
       "    }\n",
       "\n",
       "    .dataframe tbody tr th {\n",
       "        vertical-align: top;\n",
       "    }\n",
       "\n",
       "    .dataframe thead th {\n",
       "        text-align: right;\n",
       "    }\n",
       "</style>\n",
       "<table border=\"1\" class=\"dataframe\">\n",
       "  <thead>\n",
       "    <tr style=\"text-align: right;\">\n",
       "      <th></th>\n",
       "      <th>App GPA</th>\n",
       "      <th>Adm GPA</th>\n",
       "      <th>Enrl GPA</th>\n",
       "    </tr>\n",
       "  </thead>\n",
       "  <tbody>\n",
       "    <tr>\n",
       "      <th>count</th>\n",
       "      <td>53.000000</td>\n",
       "      <td>36.000000</td>\n",
       "      <td>27.000000</td>\n",
       "    </tr>\n",
       "    <tr>\n",
       "      <th>mean</th>\n",
       "      <td>4.033408</td>\n",
       "      <td>4.289799</td>\n",
       "      <td>4.270511</td>\n",
       "    </tr>\n",
       "    <tr>\n",
       "      <th>std</th>\n",
       "      <td>0.109940</td>\n",
       "      <td>0.048307</td>\n",
       "      <td>0.049248</td>\n",
       "    </tr>\n",
       "    <tr>\n",
       "      <th>min</th>\n",
       "      <td>3.716316</td>\n",
       "      <td>4.186000</td>\n",
       "      <td>4.181333</td>\n",
       "    </tr>\n",
       "    <tr>\n",
       "      <th>25%</th>\n",
       "      <td>3.977222</td>\n",
       "      <td>4.250701</td>\n",
       "      <td>4.233421</td>\n",
       "    </tr>\n",
       "    <tr>\n",
       "      <th>50%</th>\n",
       "      <td>4.051282</td>\n",
       "      <td>4.292456</td>\n",
       "      <td>4.264091</td>\n",
       "    </tr>\n",
       "    <tr>\n",
       "      <th>75%</th>\n",
       "      <td>4.118235</td>\n",
       "      <td>4.331856</td>\n",
       "      <td>4.306094</td>\n",
       "    </tr>\n",
       "    <tr>\n",
       "      <th>max</th>\n",
       "      <td>4.228187</td>\n",
       "      <td>4.361750</td>\n",
       "      <td>4.366667</td>\n",
       "    </tr>\n",
       "  </tbody>\n",
       "</table>\n",
       "</div>"
      ],
      "text/plain": [
       "         App GPA    Adm GPA   Enrl GPA\n",
       "count  53.000000  36.000000  27.000000\n",
       "mean    4.033408   4.289799   4.270511\n",
       "std     0.109940   0.048307   0.049248\n",
       "min     3.716316   4.186000   4.181333\n",
       "25%     3.977222   4.250701   4.233421\n",
       "50%     4.051282   4.292456   4.264091\n",
       "75%     4.118235   4.331856   4.306094\n",
       "max     4.228187   4.361750   4.366667"
      ]
     },
     "execution_count": 35,
     "metadata": {},
     "output_type": "execute_result"
    }
   ],
   "source": [
    "berk_public_sc[['School', 'App GPA', 'Adm GPA', 'Enrl GPA']].describe()"
   ]
  },
  {
   "cell_type": "code",
   "execution_count": 36,
   "metadata": {},
   "outputs": [
    {
     "data": {
      "text/html": [
       "<div>\n",
       "<style scoped>\n",
       "    .dataframe tbody tr th:only-of-type {\n",
       "        vertical-align: middle;\n",
       "    }\n",
       "\n",
       "    .dataframe tbody tr th {\n",
       "        vertical-align: top;\n",
       "    }\n",
       "\n",
       "    .dataframe thead th {\n",
       "        text-align: right;\n",
       "    }\n",
       "</style>\n",
       "<table border=\"1\" class=\"dataframe\">\n",
       "  <thead>\n",
       "    <tr style=\"text-align: right;\">\n",
       "      <th></th>\n",
       "      <th>App GPA</th>\n",
       "      <th>Adm GPA</th>\n",
       "      <th>Enrl GPA</th>\n",
       "    </tr>\n",
       "  </thead>\n",
       "  <tbody>\n",
       "    <tr>\n",
       "      <th>count</th>\n",
       "      <td>18.000000</td>\n",
       "      <td>11.000000</td>\n",
       "      <td>7.000000</td>\n",
       "    </tr>\n",
       "    <tr>\n",
       "      <th>mean</th>\n",
       "      <td>4.100428</td>\n",
       "      <td>4.268857</td>\n",
       "      <td>4.253956</td>\n",
       "    </tr>\n",
       "    <tr>\n",
       "      <th>std</th>\n",
       "      <td>0.182009</td>\n",
       "      <td>0.031270</td>\n",
       "      <td>0.032828</td>\n",
       "    </tr>\n",
       "    <tr>\n",
       "      <th>min</th>\n",
       "      <td>3.832000</td>\n",
       "      <td>4.218000</td>\n",
       "      <td>4.216667</td>\n",
       "    </tr>\n",
       "    <tr>\n",
       "      <th>25%</th>\n",
       "      <td>4.026458</td>\n",
       "      <td>4.245500</td>\n",
       "      <td>4.233750</td>\n",
       "    </tr>\n",
       "    <tr>\n",
       "      <th>50%</th>\n",
       "      <td>4.106779</td>\n",
       "      <td>4.271429</td>\n",
       "      <td>4.242857</td>\n",
       "    </tr>\n",
       "    <tr>\n",
       "      <th>75%</th>\n",
       "      <td>4.135675</td>\n",
       "      <td>4.296607</td>\n",
       "      <td>4.268333</td>\n",
       "    </tr>\n",
       "    <tr>\n",
       "      <th>max</th>\n",
       "      <td>4.669091</td>\n",
       "      <td>4.302593</td>\n",
       "      <td>4.314000</td>\n",
       "    </tr>\n",
       "  </tbody>\n",
       "</table>\n",
       "</div>"
      ],
      "text/plain": [
       "         App GPA    Adm GPA  Enrl GPA\n",
       "count  18.000000  11.000000  7.000000\n",
       "mean    4.100428   4.268857  4.253956\n",
       "std     0.182009   0.031270  0.032828\n",
       "min     3.832000   4.218000  4.216667\n",
       "25%     4.026458   4.245500  4.233750\n",
       "50%     4.106779   4.271429  4.242857\n",
       "75%     4.135675   4.296607  4.268333\n",
       "max     4.669091   4.302593  4.314000"
      ]
     },
     "execution_count": 36,
     "metadata": {},
     "output_type": "execute_result"
    }
   ],
   "source": [
    "berk_private_sc[['School', 'App GPA', 'Adm GPA', 'Enrl GPA']].describe()"
   ]
  },
  {
   "cell_type": "code",
   "execution_count": 47,
   "metadata": {},
   "outputs": [],
   "source": [
    "berk_public_sm = berk_public[berk_public['County/State/Country'] == \"San Mateo\"]\n",
    "berk_private_sm = berk_private[berk_private['County/State/Country'] == \"San Mateo\"]"
   ]
  },
  {
   "cell_type": "code",
   "execution_count": 48,
   "metadata": {},
   "outputs": [
    {
     "data": {
      "application/vnd.plotly.v1+json": {
       "config": {
        "plotlyServerURL": "https://plot.ly"
       },
       "data": [
        {
         "alignmentgroup": "True",
         "hovertemplate": "variable=App GPA<br>School=%{x}<br>value=%{y}<extra></extra>",
         "legendgroup": "App GPA",
         "marker": {
          "color": "#636efa",
          "pattern": {
           "shape": ""
          }
         },
         "name": "App GPA",
         "offsetgroup": "App GPA",
         "orientation": "v",
         "showlegend": true,
         "textposition": "auto",
         "type": "bar",
         "x": [
          "ARAGON HIGH SCHOOL",
          "BURLINGAME HIGH SCHOOL",
          "CAPUCHINO HIGH SCHOOL",
          "CARLMONT HIGH SCHOOL",
          "DESIGN TECH HIGH SCHOOL",
          "EAST PALO ALTO ACADEMY",
          "EL CAMINO HIGH",
          "EVEREST PUBLIC HIGH SCHOOL",
          "HALF MOON BAY HIGH SCHOOL",
          "HILLSDALE HIGH SCHOOL",
          "JEFFERSON HIGH SCHOOL",
          "MENLO ATHERTON HIGH SCHOOL",
          "MILLS HIGH SCHOOL",
          "OCEANA HIGH SCHOOL",
          "OXFORD DAY ACADEMY",
          "SAN MATEO HIGH SCHOOL",
          "SEQUOIA HIGH SCHOOL",
          "SOUTH SAN FRANCISCO HS",
          "SUMMIT PREPARATORY HIGH SCHOOL",
          "SUMMIT PUBLIC SCHOOLS SHASTA",
          "TERRA NOVA HIGH SCHOOL",
          "WESTMOOR HIGH SCHOOL",
          "WOODSIDE HIGH SCHOOL"
         ],
         "xaxis": "x",
         "y": [
          4.076946107784432,
          4.147046979865771,
          4.056031746031746,
          4.068145161290323,
          4.141323529411765,
          3.66125,
          3.98,
          3.848,
          4.026666666666667,
          4.106509433962264,
          3.9521875,
          4.036453488372093,
          4.05827868852459,
          4.0060975609756095,
          3.6599999999999997,
          4.030367647058823,
          3.9892134831460675,
          3.783673469387755,
          3.994054054054054,
          4.079272727272728,
          3.9728,
          3.93796875,
          4.030614035087719
         ],
         "yaxis": "y"
        },
        {
         "alignmentgroup": "True",
         "hovertemplate": "variable=Adm GPA<br>School=%{x}<br>value=%{y}<extra></extra>",
         "legendgroup": "Adm GPA",
         "marker": {
          "color": "#EF553B",
          "pattern": {
           "shape": ""
          }
         },
         "name": "Adm GPA",
         "offsetgroup": "Adm GPA",
         "orientation": "v",
         "showlegend": true,
         "textposition": "auto",
         "type": "bar",
         "x": [
          "ARAGON HIGH SCHOOL",
          "BURLINGAME HIGH SCHOOL",
          "CAPUCHINO HIGH SCHOOL",
          "CARLMONT HIGH SCHOOL",
          "DESIGN TECH HIGH SCHOOL",
          "EAST PALO ALTO ACADEMY",
          "EL CAMINO HIGH",
          "EVEREST PUBLIC HIGH SCHOOL",
          "HALF MOON BAY HIGH SCHOOL",
          "HILLSDALE HIGH SCHOOL",
          "JEFFERSON HIGH SCHOOL",
          "MENLO ATHERTON HIGH SCHOOL",
          "MILLS HIGH SCHOOL",
          "OCEANA HIGH SCHOOL",
          "OXFORD DAY ACADEMY",
          "SAN MATEO HIGH SCHOOL",
          "SEQUOIA HIGH SCHOOL",
          "SOUTH SAN FRANCISCO HS",
          "SUMMIT PREPARATORY HIGH SCHOOL",
          "SUMMIT PUBLIC SCHOOLS SHASTA",
          "TERRA NOVA HIGH SCHOOL",
          "WESTMOOR HIGH SCHOOL",
          "WOODSIDE HIGH SCHOOL"
         ],
         "xaxis": "x",
         "y": [
          4.297777777777778,
          4.318181818181818,
          4.304,
          4.243571428571428,
          4.3109090909090915,
          null,
          4.296666666666667,
          null,
          4.282727272727272,
          4.3113636363636365,
          4.2375,
          4.220000000000001,
          4.3004,
          null,
          null,
          4.2865,
          4.311428571428571,
          4.136666666666667,
          null,
          null,
          null,
          4.255454545454546,
          4.307391304347826
         ],
         "yaxis": "y"
        },
        {
         "alignmentgroup": "True",
         "hovertemplate": "variable=Enrl GPA<br>School=%{x}<br>value=%{y}<extra></extra>",
         "legendgroup": "Enrl GPA",
         "marker": {
          "color": "#00cc96",
          "pattern": {
           "shape": ""
          }
         },
         "name": "Enrl GPA",
         "offsetgroup": "Enrl GPA",
         "orientation": "v",
         "showlegend": true,
         "textposition": "auto",
         "type": "bar",
         "x": [
          "ARAGON HIGH SCHOOL",
          "BURLINGAME HIGH SCHOOL",
          "CAPUCHINO HIGH SCHOOL",
          "CARLMONT HIGH SCHOOL",
          "DESIGN TECH HIGH SCHOOL",
          "EAST PALO ALTO ACADEMY",
          "EL CAMINO HIGH",
          "EVEREST PUBLIC HIGH SCHOOL",
          "HALF MOON BAY HIGH SCHOOL",
          "HILLSDALE HIGH SCHOOL",
          "JEFFERSON HIGH SCHOOL",
          "MENLO ATHERTON HIGH SCHOOL",
          "MILLS HIGH SCHOOL",
          "OCEANA HIGH SCHOOL",
          "OXFORD DAY ACADEMY",
          "SAN MATEO HIGH SCHOOL",
          "SEQUOIA HIGH SCHOOL",
          "SOUTH SAN FRANCISCO HS",
          "SUMMIT PREPARATORY HIGH SCHOOL",
          "SUMMIT PUBLIC SCHOOLS SHASTA",
          "TERRA NOVA HIGH SCHOOL",
          "WESTMOOR HIGH SCHOOL",
          "WOODSIDE HIGH SCHOOL"
         ],
         "xaxis": "x",
         "y": [
          4.29576923076923,
          4.287142857142857,
          4.296666666666667,
          4.2225,
          4.296,
          null,
          4.264285714285714,
          null,
          4.243333333333333,
          4.25,
          null,
          4.14962962962963,
          4.290952380952381,
          null,
          null,
          4.255833333333333,
          null,
          4.128,
          null,
          null,
          null,
          4.241666666666666,
          4.269230769230769
         ],
         "yaxis": "y"
        }
       ],
       "layout": {
        "barmode": "group",
        "legend": {
         "title": {
          "text": "variable"
         },
         "tracegroupgap": 0
        },
        "margin": {
         "t": 60
        },
        "template": {
         "data": {
          "bar": [
           {
            "error_x": {
             "color": "#2a3f5f"
            },
            "error_y": {
             "color": "#2a3f5f"
            },
            "marker": {
             "line": {
              "color": "#E5ECF6",
              "width": 0.5
             },
             "pattern": {
              "fillmode": "overlay",
              "size": 10,
              "solidity": 0.2
             }
            },
            "type": "bar"
           }
          ],
          "barpolar": [
           {
            "marker": {
             "line": {
              "color": "#E5ECF6",
              "width": 0.5
             },
             "pattern": {
              "fillmode": "overlay",
              "size": 10,
              "solidity": 0.2
             }
            },
            "type": "barpolar"
           }
          ],
          "carpet": [
           {
            "aaxis": {
             "endlinecolor": "#2a3f5f",
             "gridcolor": "white",
             "linecolor": "white",
             "minorgridcolor": "white",
             "startlinecolor": "#2a3f5f"
            },
            "baxis": {
             "endlinecolor": "#2a3f5f",
             "gridcolor": "white",
             "linecolor": "white",
             "minorgridcolor": "white",
             "startlinecolor": "#2a3f5f"
            },
            "type": "carpet"
           }
          ],
          "choropleth": [
           {
            "colorbar": {
             "outlinewidth": 0,
             "ticks": ""
            },
            "type": "choropleth"
           }
          ],
          "contour": [
           {
            "colorbar": {
             "outlinewidth": 0,
             "ticks": ""
            },
            "colorscale": [
             [
              0,
              "#0d0887"
             ],
             [
              0.1111111111111111,
              "#46039f"
             ],
             [
              0.2222222222222222,
              "#7201a8"
             ],
             [
              0.3333333333333333,
              "#9c179e"
             ],
             [
              0.4444444444444444,
              "#bd3786"
             ],
             [
              0.5555555555555556,
              "#d8576b"
             ],
             [
              0.6666666666666666,
              "#ed7953"
             ],
             [
              0.7777777777777778,
              "#fb9f3a"
             ],
             [
              0.8888888888888888,
              "#fdca26"
             ],
             [
              1,
              "#f0f921"
             ]
            ],
            "type": "contour"
           }
          ],
          "contourcarpet": [
           {
            "colorbar": {
             "outlinewidth": 0,
             "ticks": ""
            },
            "type": "contourcarpet"
           }
          ],
          "heatmap": [
           {
            "colorbar": {
             "outlinewidth": 0,
             "ticks": ""
            },
            "colorscale": [
             [
              0,
              "#0d0887"
             ],
             [
              0.1111111111111111,
              "#46039f"
             ],
             [
              0.2222222222222222,
              "#7201a8"
             ],
             [
              0.3333333333333333,
              "#9c179e"
             ],
             [
              0.4444444444444444,
              "#bd3786"
             ],
             [
              0.5555555555555556,
              "#d8576b"
             ],
             [
              0.6666666666666666,
              "#ed7953"
             ],
             [
              0.7777777777777778,
              "#fb9f3a"
             ],
             [
              0.8888888888888888,
              "#fdca26"
             ],
             [
              1,
              "#f0f921"
             ]
            ],
            "type": "heatmap"
           }
          ],
          "heatmapgl": [
           {
            "colorbar": {
             "outlinewidth": 0,
             "ticks": ""
            },
            "colorscale": [
             [
              0,
              "#0d0887"
             ],
             [
              0.1111111111111111,
              "#46039f"
             ],
             [
              0.2222222222222222,
              "#7201a8"
             ],
             [
              0.3333333333333333,
              "#9c179e"
             ],
             [
              0.4444444444444444,
              "#bd3786"
             ],
             [
              0.5555555555555556,
              "#d8576b"
             ],
             [
              0.6666666666666666,
              "#ed7953"
             ],
             [
              0.7777777777777778,
              "#fb9f3a"
             ],
             [
              0.8888888888888888,
              "#fdca26"
             ],
             [
              1,
              "#f0f921"
             ]
            ],
            "type": "heatmapgl"
           }
          ],
          "histogram": [
           {
            "marker": {
             "pattern": {
              "fillmode": "overlay",
              "size": 10,
              "solidity": 0.2
             }
            },
            "type": "histogram"
           }
          ],
          "histogram2d": [
           {
            "colorbar": {
             "outlinewidth": 0,
             "ticks": ""
            },
            "colorscale": [
             [
              0,
              "#0d0887"
             ],
             [
              0.1111111111111111,
              "#46039f"
             ],
             [
              0.2222222222222222,
              "#7201a8"
             ],
             [
              0.3333333333333333,
              "#9c179e"
             ],
             [
              0.4444444444444444,
              "#bd3786"
             ],
             [
              0.5555555555555556,
              "#d8576b"
             ],
             [
              0.6666666666666666,
              "#ed7953"
             ],
             [
              0.7777777777777778,
              "#fb9f3a"
             ],
             [
              0.8888888888888888,
              "#fdca26"
             ],
             [
              1,
              "#f0f921"
             ]
            ],
            "type": "histogram2d"
           }
          ],
          "histogram2dcontour": [
           {
            "colorbar": {
             "outlinewidth": 0,
             "ticks": ""
            },
            "colorscale": [
             [
              0,
              "#0d0887"
             ],
             [
              0.1111111111111111,
              "#46039f"
             ],
             [
              0.2222222222222222,
              "#7201a8"
             ],
             [
              0.3333333333333333,
              "#9c179e"
             ],
             [
              0.4444444444444444,
              "#bd3786"
             ],
             [
              0.5555555555555556,
              "#d8576b"
             ],
             [
              0.6666666666666666,
              "#ed7953"
             ],
             [
              0.7777777777777778,
              "#fb9f3a"
             ],
             [
              0.8888888888888888,
              "#fdca26"
             ],
             [
              1,
              "#f0f921"
             ]
            ],
            "type": "histogram2dcontour"
           }
          ],
          "mesh3d": [
           {
            "colorbar": {
             "outlinewidth": 0,
             "ticks": ""
            },
            "type": "mesh3d"
           }
          ],
          "parcoords": [
           {
            "line": {
             "colorbar": {
              "outlinewidth": 0,
              "ticks": ""
             }
            },
            "type": "parcoords"
           }
          ],
          "pie": [
           {
            "automargin": true,
            "type": "pie"
           }
          ],
          "scatter": [
           {
            "marker": {
             "colorbar": {
              "outlinewidth": 0,
              "ticks": ""
             }
            },
            "type": "scatter"
           }
          ],
          "scatter3d": [
           {
            "line": {
             "colorbar": {
              "outlinewidth": 0,
              "ticks": ""
             }
            },
            "marker": {
             "colorbar": {
              "outlinewidth": 0,
              "ticks": ""
             }
            },
            "type": "scatter3d"
           }
          ],
          "scattercarpet": [
           {
            "marker": {
             "colorbar": {
              "outlinewidth": 0,
              "ticks": ""
             }
            },
            "type": "scattercarpet"
           }
          ],
          "scattergeo": [
           {
            "marker": {
             "colorbar": {
              "outlinewidth": 0,
              "ticks": ""
             }
            },
            "type": "scattergeo"
           }
          ],
          "scattergl": [
           {
            "marker": {
             "colorbar": {
              "outlinewidth": 0,
              "ticks": ""
             }
            },
            "type": "scattergl"
           }
          ],
          "scattermapbox": [
           {
            "marker": {
             "colorbar": {
              "outlinewidth": 0,
              "ticks": ""
             }
            },
            "type": "scattermapbox"
           }
          ],
          "scatterpolar": [
           {
            "marker": {
             "colorbar": {
              "outlinewidth": 0,
              "ticks": ""
             }
            },
            "type": "scatterpolar"
           }
          ],
          "scatterpolargl": [
           {
            "marker": {
             "colorbar": {
              "outlinewidth": 0,
              "ticks": ""
             }
            },
            "type": "scatterpolargl"
           }
          ],
          "scatterternary": [
           {
            "marker": {
             "colorbar": {
              "outlinewidth": 0,
              "ticks": ""
             }
            },
            "type": "scatterternary"
           }
          ],
          "surface": [
           {
            "colorbar": {
             "outlinewidth": 0,
             "ticks": ""
            },
            "colorscale": [
             [
              0,
              "#0d0887"
             ],
             [
              0.1111111111111111,
              "#46039f"
             ],
             [
              0.2222222222222222,
              "#7201a8"
             ],
             [
              0.3333333333333333,
              "#9c179e"
             ],
             [
              0.4444444444444444,
              "#bd3786"
             ],
             [
              0.5555555555555556,
              "#d8576b"
             ],
             [
              0.6666666666666666,
              "#ed7953"
             ],
             [
              0.7777777777777778,
              "#fb9f3a"
             ],
             [
              0.8888888888888888,
              "#fdca26"
             ],
             [
              1,
              "#f0f921"
             ]
            ],
            "type": "surface"
           }
          ],
          "table": [
           {
            "cells": {
             "fill": {
              "color": "#EBF0F8"
             },
             "line": {
              "color": "white"
             }
            },
            "header": {
             "fill": {
              "color": "#C8D4E3"
             },
             "line": {
              "color": "white"
             }
            },
            "type": "table"
           }
          ]
         },
         "layout": {
          "annotationdefaults": {
           "arrowcolor": "#2a3f5f",
           "arrowhead": 0,
           "arrowwidth": 1
          },
          "autotypenumbers": "strict",
          "coloraxis": {
           "colorbar": {
            "outlinewidth": 0,
            "ticks": ""
           }
          },
          "colorscale": {
           "diverging": [
            [
             0,
             "#8e0152"
            ],
            [
             0.1,
             "#c51b7d"
            ],
            [
             0.2,
             "#de77ae"
            ],
            [
             0.3,
             "#f1b6da"
            ],
            [
             0.4,
             "#fde0ef"
            ],
            [
             0.5,
             "#f7f7f7"
            ],
            [
             0.6,
             "#e6f5d0"
            ],
            [
             0.7,
             "#b8e186"
            ],
            [
             0.8,
             "#7fbc41"
            ],
            [
             0.9,
             "#4d9221"
            ],
            [
             1,
             "#276419"
            ]
           ],
           "sequential": [
            [
             0,
             "#0d0887"
            ],
            [
             0.1111111111111111,
             "#46039f"
            ],
            [
             0.2222222222222222,
             "#7201a8"
            ],
            [
             0.3333333333333333,
             "#9c179e"
            ],
            [
             0.4444444444444444,
             "#bd3786"
            ],
            [
             0.5555555555555556,
             "#d8576b"
            ],
            [
             0.6666666666666666,
             "#ed7953"
            ],
            [
             0.7777777777777778,
             "#fb9f3a"
            ],
            [
             0.8888888888888888,
             "#fdca26"
            ],
            [
             1,
             "#f0f921"
            ]
           ],
           "sequentialminus": [
            [
             0,
             "#0d0887"
            ],
            [
             0.1111111111111111,
             "#46039f"
            ],
            [
             0.2222222222222222,
             "#7201a8"
            ],
            [
             0.3333333333333333,
             "#9c179e"
            ],
            [
             0.4444444444444444,
             "#bd3786"
            ],
            [
             0.5555555555555556,
             "#d8576b"
            ],
            [
             0.6666666666666666,
             "#ed7953"
            ],
            [
             0.7777777777777778,
             "#fb9f3a"
            ],
            [
             0.8888888888888888,
             "#fdca26"
            ],
            [
             1,
             "#f0f921"
            ]
           ]
          },
          "colorway": [
           "#636efa",
           "#EF553B",
           "#00cc96",
           "#ab63fa",
           "#FFA15A",
           "#19d3f3",
           "#FF6692",
           "#B6E880",
           "#FF97FF",
           "#FECB52"
          ],
          "font": {
           "color": "#2a3f5f"
          },
          "geo": {
           "bgcolor": "white",
           "lakecolor": "white",
           "landcolor": "#E5ECF6",
           "showlakes": true,
           "showland": true,
           "subunitcolor": "white"
          },
          "hoverlabel": {
           "align": "left"
          },
          "hovermode": "closest",
          "mapbox": {
           "style": "light"
          },
          "paper_bgcolor": "white",
          "plot_bgcolor": "#E5ECF6",
          "polar": {
           "angularaxis": {
            "gridcolor": "white",
            "linecolor": "white",
            "ticks": ""
           },
           "bgcolor": "#E5ECF6",
           "radialaxis": {
            "gridcolor": "white",
            "linecolor": "white",
            "ticks": ""
           }
          },
          "scene": {
           "xaxis": {
            "backgroundcolor": "#E5ECF6",
            "gridcolor": "white",
            "gridwidth": 2,
            "linecolor": "white",
            "showbackground": true,
            "ticks": "",
            "zerolinecolor": "white"
           },
           "yaxis": {
            "backgroundcolor": "#E5ECF6",
            "gridcolor": "white",
            "gridwidth": 2,
            "linecolor": "white",
            "showbackground": true,
            "ticks": "",
            "zerolinecolor": "white"
           },
           "zaxis": {
            "backgroundcolor": "#E5ECF6",
            "gridcolor": "white",
            "gridwidth": 2,
            "linecolor": "white",
            "showbackground": true,
            "ticks": "",
            "zerolinecolor": "white"
           }
          },
          "shapedefaults": {
           "line": {
            "color": "#2a3f5f"
           }
          },
          "ternary": {
           "aaxis": {
            "gridcolor": "white",
            "linecolor": "white",
            "ticks": ""
           },
           "baxis": {
            "gridcolor": "white",
            "linecolor": "white",
            "ticks": ""
           },
           "bgcolor": "#E5ECF6",
           "caxis": {
            "gridcolor": "white",
            "linecolor": "white",
            "ticks": ""
           }
          },
          "title": {
           "x": 0.05
          },
          "xaxis": {
           "automargin": true,
           "gridcolor": "white",
           "linecolor": "white",
           "ticks": "",
           "title": {
            "standoff": 15
           },
           "zerolinecolor": "white",
           "zerolinewidth": 2
          },
          "yaxis": {
           "automargin": true,
           "gridcolor": "white",
           "linecolor": "white",
           "ticks": "",
           "title": {
            "standoff": 15
           },
           "zerolinecolor": "white",
           "zerolinewidth": 2
          }
         }
        },
        "xaxis": {
         "anchor": "y",
         "domain": [
          0,
          1
         ],
         "title": {
          "text": "School"
         }
        },
        "yaxis": {
         "anchor": "x",
         "domain": [
          0,
          1
         ],
         "title": {
          "text": "value"
         }
        }
       }
      }
     },
     "metadata": {},
     "output_type": "display_data"
    }
   ],
   "source": [
    "fig10 = px.bar(berk_public_sm, x = \"School\", y = [\"App GPA\", \"Adm GPA\", \"Enrl GPA\"], barmode = 'group')\n",
    "fig10.show()"
   ]
  },
  {
   "cell_type": "code",
   "execution_count": 49,
   "metadata": {},
   "outputs": [
    {
     "data": {
      "application/vnd.plotly.v1+json": {
       "config": {
        "plotlyServerURL": "https://plot.ly"
       },
       "data": [
        {
         "alignmentgroup": "True",
         "hovertemplate": "variable=App GPA<br>School=%{x}<br>value=%{y}<extra></extra>",
         "legendgroup": "App GPA",
         "marker": {
          "color": "#636efa",
          "pattern": {
           "shape": ""
          }
         },
         "name": "App GPA",
         "offsetgroup": "App GPA",
         "orientation": "v",
         "showlegend": true,
         "textposition": "auto",
         "type": "bar",
         "x": [
          "CRYSTAL SPRINGS UPLANDS SCH",
          "EASTSIDE COLLEGE PREP SCHOOL",
          "JUNIPERO SERRA HIGH SCHOOL",
          "MENLO SCHOOL",
          "MERCY HIGH SCHOOL",
          "NOTRE DAME HIGH SCHOOL",
          "NUEVA SCHOOL",
          "PACIFIC BAY CHRISTIAN SCHOOL",
          "SACRED HEART PREPARATORY SCH",
          "STANFORD ONLINE HIGH SCHOOL",
          "WOODSIDE PRIORY SCHOOL"
         ],
         "xaxis": "x",
         "y": [
          4.159795918367347,
          3.983636363636364,
          4.048461538461539,
          4.078354430379747,
          4.013809523809524,
          4.0217857142857145,
          4.244025974025974,
          3.9210000000000003,
          4.045535714285714,
          4.169333333333333,
          4.0711764705882345
         ],
         "yaxis": "y"
        },
        {
         "alignmentgroup": "True",
         "hovertemplate": "variable=Adm GPA<br>School=%{x}<br>value=%{y}<extra></extra>",
         "legendgroup": "Adm GPA",
         "marker": {
          "color": "#EF553B",
          "pattern": {
           "shape": ""
          }
         },
         "name": "Adm GPA",
         "offsetgroup": "Adm GPA",
         "orientation": "v",
         "showlegend": true,
         "textposition": "auto",
         "type": "bar",
         "x": [
          "CRYSTAL SPRINGS UPLANDS SCH",
          "EASTSIDE COLLEGE PREP SCHOOL",
          "JUNIPERO SERRA HIGH SCHOOL",
          "MENLO SCHOOL",
          "MERCY HIGH SCHOOL",
          "NOTRE DAME HIGH SCHOOL",
          "NUEVA SCHOOL",
          "PACIFIC BAY CHRISTIAN SCHOOL",
          "SACRED HEART PREPARATORY SCH",
          "STANFORD ONLINE HIGH SCHOOL",
          "WOODSIDE PRIORY SCHOOL"
         ],
         "xaxis": "x",
         "y": [
          4.275555555555555,
          null,
          4.240714285714286,
          4.196666666666667,
          null,
          null,
          4.264347826086956,
          null,
          4.236363636363636,
          4.220625,
          4.136666666666667
         ],
         "yaxis": "y"
        },
        {
         "alignmentgroup": "True",
         "hovertemplate": "variable=Enrl GPA<br>School=%{x}<br>value=%{y}<extra></extra>",
         "legendgroup": "Enrl GPA",
         "marker": {
          "color": "#00cc96",
          "pattern": {
           "shape": ""
          }
         },
         "name": "Enrl GPA",
         "offsetgroup": "Enrl GPA",
         "orientation": "v",
         "showlegend": true,
         "textposition": "auto",
         "type": "bar",
         "x": [
          "CRYSTAL SPRINGS UPLANDS SCH",
          "EASTSIDE COLLEGE PREP SCHOOL",
          "JUNIPERO SERRA HIGH SCHOOL",
          "MENLO SCHOOL",
          "MERCY HIGH SCHOOL",
          "NOTRE DAME HIGH SCHOOL",
          "NUEVA SCHOOL",
          "PACIFIC BAY CHRISTIAN SCHOOL",
          "SACRED HEART PREPARATORY SCH",
          "STANFORD ONLINE HIGH SCHOOL",
          "WOODSIDE PRIORY SCHOOL"
         ],
         "xaxis": "x",
         "y": [
          4.274285714285715,
          null,
          4.212857142857143,
          4.148888888888889,
          null,
          null,
          null,
          null,
          4.223333333333334,
          4.185555555555556,
          null
         ],
         "yaxis": "y"
        }
       ],
       "layout": {
        "barmode": "group",
        "legend": {
         "title": {
          "text": "variable"
         },
         "tracegroupgap": 0
        },
        "margin": {
         "t": 60
        },
        "template": {
         "data": {
          "bar": [
           {
            "error_x": {
             "color": "#2a3f5f"
            },
            "error_y": {
             "color": "#2a3f5f"
            },
            "marker": {
             "line": {
              "color": "#E5ECF6",
              "width": 0.5
             },
             "pattern": {
              "fillmode": "overlay",
              "size": 10,
              "solidity": 0.2
             }
            },
            "type": "bar"
           }
          ],
          "barpolar": [
           {
            "marker": {
             "line": {
              "color": "#E5ECF6",
              "width": 0.5
             },
             "pattern": {
              "fillmode": "overlay",
              "size": 10,
              "solidity": 0.2
             }
            },
            "type": "barpolar"
           }
          ],
          "carpet": [
           {
            "aaxis": {
             "endlinecolor": "#2a3f5f",
             "gridcolor": "white",
             "linecolor": "white",
             "minorgridcolor": "white",
             "startlinecolor": "#2a3f5f"
            },
            "baxis": {
             "endlinecolor": "#2a3f5f",
             "gridcolor": "white",
             "linecolor": "white",
             "minorgridcolor": "white",
             "startlinecolor": "#2a3f5f"
            },
            "type": "carpet"
           }
          ],
          "choropleth": [
           {
            "colorbar": {
             "outlinewidth": 0,
             "ticks": ""
            },
            "type": "choropleth"
           }
          ],
          "contour": [
           {
            "colorbar": {
             "outlinewidth": 0,
             "ticks": ""
            },
            "colorscale": [
             [
              0,
              "#0d0887"
             ],
             [
              0.1111111111111111,
              "#46039f"
             ],
             [
              0.2222222222222222,
              "#7201a8"
             ],
             [
              0.3333333333333333,
              "#9c179e"
             ],
             [
              0.4444444444444444,
              "#bd3786"
             ],
             [
              0.5555555555555556,
              "#d8576b"
             ],
             [
              0.6666666666666666,
              "#ed7953"
             ],
             [
              0.7777777777777778,
              "#fb9f3a"
             ],
             [
              0.8888888888888888,
              "#fdca26"
             ],
             [
              1,
              "#f0f921"
             ]
            ],
            "type": "contour"
           }
          ],
          "contourcarpet": [
           {
            "colorbar": {
             "outlinewidth": 0,
             "ticks": ""
            },
            "type": "contourcarpet"
           }
          ],
          "heatmap": [
           {
            "colorbar": {
             "outlinewidth": 0,
             "ticks": ""
            },
            "colorscale": [
             [
              0,
              "#0d0887"
             ],
             [
              0.1111111111111111,
              "#46039f"
             ],
             [
              0.2222222222222222,
              "#7201a8"
             ],
             [
              0.3333333333333333,
              "#9c179e"
             ],
             [
              0.4444444444444444,
              "#bd3786"
             ],
             [
              0.5555555555555556,
              "#d8576b"
             ],
             [
              0.6666666666666666,
              "#ed7953"
             ],
             [
              0.7777777777777778,
              "#fb9f3a"
             ],
             [
              0.8888888888888888,
              "#fdca26"
             ],
             [
              1,
              "#f0f921"
             ]
            ],
            "type": "heatmap"
           }
          ],
          "heatmapgl": [
           {
            "colorbar": {
             "outlinewidth": 0,
             "ticks": ""
            },
            "colorscale": [
             [
              0,
              "#0d0887"
             ],
             [
              0.1111111111111111,
              "#46039f"
             ],
             [
              0.2222222222222222,
              "#7201a8"
             ],
             [
              0.3333333333333333,
              "#9c179e"
             ],
             [
              0.4444444444444444,
              "#bd3786"
             ],
             [
              0.5555555555555556,
              "#d8576b"
             ],
             [
              0.6666666666666666,
              "#ed7953"
             ],
             [
              0.7777777777777778,
              "#fb9f3a"
             ],
             [
              0.8888888888888888,
              "#fdca26"
             ],
             [
              1,
              "#f0f921"
             ]
            ],
            "type": "heatmapgl"
           }
          ],
          "histogram": [
           {
            "marker": {
             "pattern": {
              "fillmode": "overlay",
              "size": 10,
              "solidity": 0.2
             }
            },
            "type": "histogram"
           }
          ],
          "histogram2d": [
           {
            "colorbar": {
             "outlinewidth": 0,
             "ticks": ""
            },
            "colorscale": [
             [
              0,
              "#0d0887"
             ],
             [
              0.1111111111111111,
              "#46039f"
             ],
             [
              0.2222222222222222,
              "#7201a8"
             ],
             [
              0.3333333333333333,
              "#9c179e"
             ],
             [
              0.4444444444444444,
              "#bd3786"
             ],
             [
              0.5555555555555556,
              "#d8576b"
             ],
             [
              0.6666666666666666,
              "#ed7953"
             ],
             [
              0.7777777777777778,
              "#fb9f3a"
             ],
             [
              0.8888888888888888,
              "#fdca26"
             ],
             [
              1,
              "#f0f921"
             ]
            ],
            "type": "histogram2d"
           }
          ],
          "histogram2dcontour": [
           {
            "colorbar": {
             "outlinewidth": 0,
             "ticks": ""
            },
            "colorscale": [
             [
              0,
              "#0d0887"
             ],
             [
              0.1111111111111111,
              "#46039f"
             ],
             [
              0.2222222222222222,
              "#7201a8"
             ],
             [
              0.3333333333333333,
              "#9c179e"
             ],
             [
              0.4444444444444444,
              "#bd3786"
             ],
             [
              0.5555555555555556,
              "#d8576b"
             ],
             [
              0.6666666666666666,
              "#ed7953"
             ],
             [
              0.7777777777777778,
              "#fb9f3a"
             ],
             [
              0.8888888888888888,
              "#fdca26"
             ],
             [
              1,
              "#f0f921"
             ]
            ],
            "type": "histogram2dcontour"
           }
          ],
          "mesh3d": [
           {
            "colorbar": {
             "outlinewidth": 0,
             "ticks": ""
            },
            "type": "mesh3d"
           }
          ],
          "parcoords": [
           {
            "line": {
             "colorbar": {
              "outlinewidth": 0,
              "ticks": ""
             }
            },
            "type": "parcoords"
           }
          ],
          "pie": [
           {
            "automargin": true,
            "type": "pie"
           }
          ],
          "scatter": [
           {
            "marker": {
             "colorbar": {
              "outlinewidth": 0,
              "ticks": ""
             }
            },
            "type": "scatter"
           }
          ],
          "scatter3d": [
           {
            "line": {
             "colorbar": {
              "outlinewidth": 0,
              "ticks": ""
             }
            },
            "marker": {
             "colorbar": {
              "outlinewidth": 0,
              "ticks": ""
             }
            },
            "type": "scatter3d"
           }
          ],
          "scattercarpet": [
           {
            "marker": {
             "colorbar": {
              "outlinewidth": 0,
              "ticks": ""
             }
            },
            "type": "scattercarpet"
           }
          ],
          "scattergeo": [
           {
            "marker": {
             "colorbar": {
              "outlinewidth": 0,
              "ticks": ""
             }
            },
            "type": "scattergeo"
           }
          ],
          "scattergl": [
           {
            "marker": {
             "colorbar": {
              "outlinewidth": 0,
              "ticks": ""
             }
            },
            "type": "scattergl"
           }
          ],
          "scattermapbox": [
           {
            "marker": {
             "colorbar": {
              "outlinewidth": 0,
              "ticks": ""
             }
            },
            "type": "scattermapbox"
           }
          ],
          "scatterpolar": [
           {
            "marker": {
             "colorbar": {
              "outlinewidth": 0,
              "ticks": ""
             }
            },
            "type": "scatterpolar"
           }
          ],
          "scatterpolargl": [
           {
            "marker": {
             "colorbar": {
              "outlinewidth": 0,
              "ticks": ""
             }
            },
            "type": "scatterpolargl"
           }
          ],
          "scatterternary": [
           {
            "marker": {
             "colorbar": {
              "outlinewidth": 0,
              "ticks": ""
             }
            },
            "type": "scatterternary"
           }
          ],
          "surface": [
           {
            "colorbar": {
             "outlinewidth": 0,
             "ticks": ""
            },
            "colorscale": [
             [
              0,
              "#0d0887"
             ],
             [
              0.1111111111111111,
              "#46039f"
             ],
             [
              0.2222222222222222,
              "#7201a8"
             ],
             [
              0.3333333333333333,
              "#9c179e"
             ],
             [
              0.4444444444444444,
              "#bd3786"
             ],
             [
              0.5555555555555556,
              "#d8576b"
             ],
             [
              0.6666666666666666,
              "#ed7953"
             ],
             [
              0.7777777777777778,
              "#fb9f3a"
             ],
             [
              0.8888888888888888,
              "#fdca26"
             ],
             [
              1,
              "#f0f921"
             ]
            ],
            "type": "surface"
           }
          ],
          "table": [
           {
            "cells": {
             "fill": {
              "color": "#EBF0F8"
             },
             "line": {
              "color": "white"
             }
            },
            "header": {
             "fill": {
              "color": "#C8D4E3"
             },
             "line": {
              "color": "white"
             }
            },
            "type": "table"
           }
          ]
         },
         "layout": {
          "annotationdefaults": {
           "arrowcolor": "#2a3f5f",
           "arrowhead": 0,
           "arrowwidth": 1
          },
          "autotypenumbers": "strict",
          "coloraxis": {
           "colorbar": {
            "outlinewidth": 0,
            "ticks": ""
           }
          },
          "colorscale": {
           "diverging": [
            [
             0,
             "#8e0152"
            ],
            [
             0.1,
             "#c51b7d"
            ],
            [
             0.2,
             "#de77ae"
            ],
            [
             0.3,
             "#f1b6da"
            ],
            [
             0.4,
             "#fde0ef"
            ],
            [
             0.5,
             "#f7f7f7"
            ],
            [
             0.6,
             "#e6f5d0"
            ],
            [
             0.7,
             "#b8e186"
            ],
            [
             0.8,
             "#7fbc41"
            ],
            [
             0.9,
             "#4d9221"
            ],
            [
             1,
             "#276419"
            ]
           ],
           "sequential": [
            [
             0,
             "#0d0887"
            ],
            [
             0.1111111111111111,
             "#46039f"
            ],
            [
             0.2222222222222222,
             "#7201a8"
            ],
            [
             0.3333333333333333,
             "#9c179e"
            ],
            [
             0.4444444444444444,
             "#bd3786"
            ],
            [
             0.5555555555555556,
             "#d8576b"
            ],
            [
             0.6666666666666666,
             "#ed7953"
            ],
            [
             0.7777777777777778,
             "#fb9f3a"
            ],
            [
             0.8888888888888888,
             "#fdca26"
            ],
            [
             1,
             "#f0f921"
            ]
           ],
           "sequentialminus": [
            [
             0,
             "#0d0887"
            ],
            [
             0.1111111111111111,
             "#46039f"
            ],
            [
             0.2222222222222222,
             "#7201a8"
            ],
            [
             0.3333333333333333,
             "#9c179e"
            ],
            [
             0.4444444444444444,
             "#bd3786"
            ],
            [
             0.5555555555555556,
             "#d8576b"
            ],
            [
             0.6666666666666666,
             "#ed7953"
            ],
            [
             0.7777777777777778,
             "#fb9f3a"
            ],
            [
             0.8888888888888888,
             "#fdca26"
            ],
            [
             1,
             "#f0f921"
            ]
           ]
          },
          "colorway": [
           "#636efa",
           "#EF553B",
           "#00cc96",
           "#ab63fa",
           "#FFA15A",
           "#19d3f3",
           "#FF6692",
           "#B6E880",
           "#FF97FF",
           "#FECB52"
          ],
          "font": {
           "color": "#2a3f5f"
          },
          "geo": {
           "bgcolor": "white",
           "lakecolor": "white",
           "landcolor": "#E5ECF6",
           "showlakes": true,
           "showland": true,
           "subunitcolor": "white"
          },
          "hoverlabel": {
           "align": "left"
          },
          "hovermode": "closest",
          "mapbox": {
           "style": "light"
          },
          "paper_bgcolor": "white",
          "plot_bgcolor": "#E5ECF6",
          "polar": {
           "angularaxis": {
            "gridcolor": "white",
            "linecolor": "white",
            "ticks": ""
           },
           "bgcolor": "#E5ECF6",
           "radialaxis": {
            "gridcolor": "white",
            "linecolor": "white",
            "ticks": ""
           }
          },
          "scene": {
           "xaxis": {
            "backgroundcolor": "#E5ECF6",
            "gridcolor": "white",
            "gridwidth": 2,
            "linecolor": "white",
            "showbackground": true,
            "ticks": "",
            "zerolinecolor": "white"
           },
           "yaxis": {
            "backgroundcolor": "#E5ECF6",
            "gridcolor": "white",
            "gridwidth": 2,
            "linecolor": "white",
            "showbackground": true,
            "ticks": "",
            "zerolinecolor": "white"
           },
           "zaxis": {
            "backgroundcolor": "#E5ECF6",
            "gridcolor": "white",
            "gridwidth": 2,
            "linecolor": "white",
            "showbackground": true,
            "ticks": "",
            "zerolinecolor": "white"
           }
          },
          "shapedefaults": {
           "line": {
            "color": "#2a3f5f"
           }
          },
          "ternary": {
           "aaxis": {
            "gridcolor": "white",
            "linecolor": "white",
            "ticks": ""
           },
           "baxis": {
            "gridcolor": "white",
            "linecolor": "white",
            "ticks": ""
           },
           "bgcolor": "#E5ECF6",
           "caxis": {
            "gridcolor": "white",
            "linecolor": "white",
            "ticks": ""
           }
          },
          "title": {
           "x": 0.05
          },
          "xaxis": {
           "automargin": true,
           "gridcolor": "white",
           "linecolor": "white",
           "ticks": "",
           "title": {
            "standoff": 15
           },
           "zerolinecolor": "white",
           "zerolinewidth": 2
          },
          "yaxis": {
           "automargin": true,
           "gridcolor": "white",
           "linecolor": "white",
           "ticks": "",
           "title": {
            "standoff": 15
           },
           "zerolinecolor": "white",
           "zerolinewidth": 2
          }
         }
        },
        "xaxis": {
         "anchor": "y",
         "domain": [
          0,
          1
         ],
         "title": {
          "text": "School"
         }
        },
        "yaxis": {
         "anchor": "x",
         "domain": [
          0,
          1
         ],
         "title": {
          "text": "value"
         }
        }
       }
      }
     },
     "metadata": {},
     "output_type": "display_data"
    }
   ],
   "source": [
    "fig11 = px.bar(berk_private_sm, x = \"School\", y = [\"App GPA\", \"Adm GPA\", \"Enrl GPA\"], barmode = 'group')\n",
    "fig11.show()"
   ]
  },
  {
   "cell_type": "code",
   "execution_count": 50,
   "metadata": {},
   "outputs": [
    {
     "data": {
      "text/html": [
       "<div>\n",
       "<style scoped>\n",
       "    .dataframe tbody tr th:only-of-type {\n",
       "        vertical-align: middle;\n",
       "    }\n",
       "\n",
       "    .dataframe tbody tr th {\n",
       "        vertical-align: top;\n",
       "    }\n",
       "\n",
       "    .dataframe thead th {\n",
       "        text-align: right;\n",
       "    }\n",
       "</style>\n",
       "<table border=\"1\" class=\"dataframe\">\n",
       "  <thead>\n",
       "    <tr style=\"text-align: right;\">\n",
       "      <th></th>\n",
       "      <th>App GPA</th>\n",
       "      <th>Adm GPA</th>\n",
       "      <th>Enrl GPA</th>\n",
       "    </tr>\n",
       "  </thead>\n",
       "  <tbody>\n",
       "    <tr>\n",
       "      <th>count</th>\n",
       "      <td>23.000000</td>\n",
       "      <td>16.000000</td>\n",
       "      <td>14.000000</td>\n",
       "    </tr>\n",
       "    <tr>\n",
       "      <th>mean</th>\n",
       "      <td>3.984474</td>\n",
       "      <td>4.276284</td>\n",
       "      <td>4.249358</td>\n",
       "    </tr>\n",
       "    <tr>\n",
       "      <th>std</th>\n",
       "      <td>0.131839</td>\n",
       "      <td>0.047910</td>\n",
       "      <td>0.052533</td>\n",
       "    </tr>\n",
       "    <tr>\n",
       "      <th>min</th>\n",
       "      <td>3.660000</td>\n",
       "      <td>4.136667</td>\n",
       "      <td>4.128000</td>\n",
       "    </tr>\n",
       "    <tr>\n",
       "      <th>25%</th>\n",
       "      <td>3.962494</td>\n",
       "      <td>4.252484</td>\n",
       "      <td>4.242083</td>\n",
       "    </tr>\n",
       "    <tr>\n",
       "      <th>50%</th>\n",
       "      <td>4.026667</td>\n",
       "      <td>4.297222</td>\n",
       "      <td>4.260060</td>\n",
       "    </tr>\n",
       "    <tr>\n",
       "      <th>75%</th>\n",
       "      <td>4.063212</td>\n",
       "      <td>4.308271</td>\n",
       "      <td>4.290000</td>\n",
       "    </tr>\n",
       "    <tr>\n",
       "      <th>max</th>\n",
       "      <td>4.147047</td>\n",
       "      <td>4.318182</td>\n",
       "      <td>4.296667</td>\n",
       "    </tr>\n",
       "  </tbody>\n",
       "</table>\n",
       "</div>"
      ],
      "text/plain": [
       "         App GPA    Adm GPA   Enrl GPA\n",
       "count  23.000000  16.000000  14.000000\n",
       "mean    3.984474   4.276284   4.249358\n",
       "std     0.131839   0.047910   0.052533\n",
       "min     3.660000   4.136667   4.128000\n",
       "25%     3.962494   4.252484   4.242083\n",
       "50%     4.026667   4.297222   4.260060\n",
       "75%     4.063212   4.308271   4.290000\n",
       "max     4.147047   4.318182   4.296667"
      ]
     },
     "execution_count": 50,
     "metadata": {},
     "output_type": "execute_result"
    }
   ],
   "source": [
    "berk_public_sm[['School', 'App GPA', 'Adm GPA', 'Enrl GPA']].describe()"
   ]
  },
  {
   "cell_type": "code",
   "execution_count": 51,
   "metadata": {},
   "outputs": [
    {
     "data": {
      "text/html": [
       "<div>\n",
       "<style scoped>\n",
       "    .dataframe tbody tr th:only-of-type {\n",
       "        vertical-align: middle;\n",
       "    }\n",
       "\n",
       "    .dataframe tbody tr th {\n",
       "        vertical-align: top;\n",
       "    }\n",
       "\n",
       "    .dataframe thead th {\n",
       "        text-align: right;\n",
       "    }\n",
       "</style>\n",
       "<table border=\"1\" class=\"dataframe\">\n",
       "  <thead>\n",
       "    <tr style=\"text-align: right;\">\n",
       "      <th></th>\n",
       "      <th>App GPA</th>\n",
       "      <th>Adm GPA</th>\n",
       "      <th>Enrl GPA</th>\n",
       "    </tr>\n",
       "  </thead>\n",
       "  <tbody>\n",
       "    <tr>\n",
       "      <th>count</th>\n",
       "      <td>11.000000</td>\n",
       "      <td>7.000000</td>\n",
       "      <td>5.000000</td>\n",
       "    </tr>\n",
       "    <tr>\n",
       "      <th>mean</th>\n",
       "      <td>4.068810</td>\n",
       "      <td>4.224420</td>\n",
       "      <td>4.208984</td>\n",
       "    </tr>\n",
       "    <tr>\n",
       "      <th>std</th>\n",
       "      <td>0.091910</td>\n",
       "      <td>0.046731</td>\n",
       "      <td>0.046491</td>\n",
       "    </tr>\n",
       "    <tr>\n",
       "      <th>min</th>\n",
       "      <td>3.921000</td>\n",
       "      <td>4.136667</td>\n",
       "      <td>4.148889</td>\n",
       "    </tr>\n",
       "    <tr>\n",
       "      <th>25%</th>\n",
       "      <td>4.017798</td>\n",
       "      <td>4.208646</td>\n",
       "      <td>4.185556</td>\n",
       "    </tr>\n",
       "    <tr>\n",
       "      <th>50%</th>\n",
       "      <td>4.048462</td>\n",
       "      <td>4.236364</td>\n",
       "      <td>4.212857</td>\n",
       "    </tr>\n",
       "    <tr>\n",
       "      <th>75%</th>\n",
       "      <td>4.119075</td>\n",
       "      <td>4.252531</td>\n",
       "      <td>4.223333</td>\n",
       "    </tr>\n",
       "    <tr>\n",
       "      <th>max</th>\n",
       "      <td>4.244026</td>\n",
       "      <td>4.275556</td>\n",
       "      <td>4.274286</td>\n",
       "    </tr>\n",
       "  </tbody>\n",
       "</table>\n",
       "</div>"
      ],
      "text/plain": [
       "         App GPA   Adm GPA  Enrl GPA\n",
       "count  11.000000  7.000000  5.000000\n",
       "mean    4.068810  4.224420  4.208984\n",
       "std     0.091910  0.046731  0.046491\n",
       "min     3.921000  4.136667  4.148889\n",
       "25%     4.017798  4.208646  4.185556\n",
       "50%     4.048462  4.236364  4.212857\n",
       "75%     4.119075  4.252531  4.223333\n",
       "max     4.244026  4.275556  4.274286"
      ]
     },
     "execution_count": 51,
     "metadata": {},
     "output_type": "execute_result"
    }
   ],
   "source": [
    "berk_private_sm[['School', 'App GPA', 'Adm GPA', 'Enrl GPA']].describe()"
   ]
  },
  {
   "attachments": {},
   "cell_type": "markdown",
   "metadata": {},
   "source": [
    "I also explored East Bay."
   ]
  },
  {
   "cell_type": "code",
   "execution_count": 53,
   "metadata": {},
   "outputs": [],
   "source": [
    "berk_public_a = berk_public[berk_public['County/State/Country'] == \"Alameda\"]\n",
    "berk_private_a= berk_private[berk_private['County/State/Country'] == \"Alameda\"]"
   ]
  },
  {
   "cell_type": "code",
   "execution_count": 54,
   "metadata": {},
   "outputs": [
    {
     "data": {
      "application/vnd.plotly.v1+json": {
       "config": {
        "plotlyServerURL": "https://plot.ly"
       },
       "data": [
        {
         "alignmentgroup": "True",
         "hovertemplate": "variable=App GPA<br>School=%{x}<br>value=%{y}<extra></extra>",
         "legendgroup": "App GPA",
         "marker": {
          "color": "#636efa",
          "pattern": {
           "shape": ""
          }
         },
         "name": "App GPA",
         "offsetgroup": "App GPA",
         "orientation": "v",
         "showlegend": true,
         "textposition": "auto",
         "type": "bar",
         "x": [
          "AIMS COLLEGE PREP HIGH SCHOOL",
          "ALAMEDA COMMUNITY LEARNING CTR",
          "ALAMEDA HIGH SCHOOL",
          "ALAMEDA SCIENCE & TECHLGY INST",
          "ALBANY HIGH SCHOOL",
          "ALTERNATIVES IN ACTION HS",
          "AMADOR VALLEY HIGH SCHOOL",
          "AMERICAN HIGH SCHOOL",
          "ARISE HIGH SCHOOL",
          "ARROYO HIGH SCHOOL",
          "ASPIRE GOLDEN STATE PREP ACADEMY",
          "ASPIRE LIONEL WILSON COLG PREP",
          "BERKELEY HIGH SCHOOL",
          "CASTLEMONT HIGH SCHOOL",
          "CASTRO VALLEY HIGH SCHOOL",
          "COLISEUM COLLEGE PREP ACADEMY",
          "DUBLIN HIGH SCHOOL",
          "EAST BAY INNOVATION ACADEMY",
          "EMERY SECONDARY SCHOOL",
          "ENCINAL HIGH SCHOOL",
          "ENVISION ACAD ARTS/TECHNOLOGY",
          "FOOTHILL HIGH SCHOOL",
          "FREMONT HIGH SCHOOL",
          "GRANADA HIGH SCHOOL",
          "HAYWARD HIGH SCHOOL",
          "HAYWARD TWIN OAKS MONTESSORI",
          "IMPACT ACAD ARTS/TECHNOLOGY",
          "IRVINGTON HIGH SCHOOL",
          "JAMES LOGAN HIGH SCHOOL",
          "JOHN F KENNEDY HIGH SCHOOL",
          "KIPP KING COLLEGIATE HIGH SCH",
          "LATITUDE 37.8 HS MERRITT COLLEGE",
          "LEADERSHIP PUBLIC SCH HAYWARD",
          "LIFE ACADEMY HIGH SCHOOL",
          "LIGHTHOUSE COMMUNITY CHAR HS",
          "LIVERMORE HIGH SCHOOL",
          "LPS OAKLAND R&D CAMPUS",
          "MADISON PARK ACADEMY",
          "MCCLYMONDS HIGH SCHOOL",
          "METWEST HIGH SCHOOL",
          "MISSION SAN JOSE HIGH SCHOOL",
          "MOUNT EDEN HIGH SCHOOL",
          "NEA COMMUNITY LEARNING CENTER",
          "NEWARK MEMORIAL HIGH SCHOOL",
          "OAKLAND CHARTER HIGH SCHOOL",
          "OAKLAND HIGH SCHOOL",
          "OAKLAND INTERNATIONAL HIGH SCH",
          "OAKLAND MILITARY INST COL PREP",
          "OAKLAND SCHOOL FOR THE ARTS",
          "OAKLAND TECHNICAL HIGH SCHOOL",
          "OAKLAND UNITY HIGH SCHOOL",
          "PIEDMONT HIGH SCHOOL",
          "SAN LEANDRO HIGH SCHOOL",
          "SAN LORENZO HIGH SCHOOL",
          "SKYLINE HIGH SCHOOL",
          "TENNYSON HIGH SCHOOL",
          "WASHINGTON HIGH SCHOOL"
         ],
         "xaxis": "x",
         "y": [
          3.971627906976744,
          4.115,
          3.9954591836734696,
          4.119,
          4.021021897810219,
          3.0241176470588234,
          4.011103448275862,
          4.075953079178886,
          3.4114285714285715,
          3.940561797752809,
          3.416875,
          3.708235294117647,
          4.0904729729729725,
          3.7030000000000003,
          4.014196428571428,
          3.9721739130434783,
          4.0447382920110195,
          3.9564705882352946,
          3.66,
          3.9006666666666665,
          3.6008333333333336,
          3.9975545851528387,
          3.6526666666666667,
          4.016153846153846,
          4.0203225806451615,
          3.975,
          3.868108108108108,
          4.042202380952381,
          3.9691794871794874,
          3.9680597014925376,
          3.9446969696969703,
          3.340952380952381,
          4.157317073170732,
          3.645217391304348,
          3.67,
          4.059655172413793,
          3.8734782608695655,
          3.6541176470588232,
          3.571764705882353,
          3.697619047619048,
          4.0850738916256155,
          3.966438356164384,
          4.046666666666667,
          4.097846153846154,
          3.9874468085106383,
          3.9867741935483867,
          3.8261538461538462,
          3.6342424242424243,
          3.9871428571428575,
          4.006127167630058,
          3.7210526315789476,
          4.165046728971963,
          3.915575221238938,
          3.876046511627907,
          3.875121951219512,
          3.89375,
          4.0687037037037035
         ],
         "yaxis": "y"
        },
        {
         "alignmentgroup": "True",
         "hovertemplate": "variable=Adm GPA<br>School=%{x}<br>value=%{y}<extra></extra>",
         "legendgroup": "Adm GPA",
         "marker": {
          "color": "#EF553B",
          "pattern": {
           "shape": ""
          }
         },
         "name": "Adm GPA",
         "offsetgroup": "Adm GPA",
         "orientation": "v",
         "showlegend": true,
         "textposition": "auto",
         "type": "bar",
         "x": [
          "AIMS COLLEGE PREP HIGH SCHOOL",
          "ALAMEDA COMMUNITY LEARNING CTR",
          "ALAMEDA HIGH SCHOOL",
          "ALAMEDA SCIENCE & TECHLGY INST",
          "ALBANY HIGH SCHOOL",
          "ALTERNATIVES IN ACTION HS",
          "AMADOR VALLEY HIGH SCHOOL",
          "AMERICAN HIGH SCHOOL",
          "ARISE HIGH SCHOOL",
          "ARROYO HIGH SCHOOL",
          "ASPIRE GOLDEN STATE PREP ACADEMY",
          "ASPIRE LIONEL WILSON COLG PREP",
          "BERKELEY HIGH SCHOOL",
          "CASTLEMONT HIGH SCHOOL",
          "CASTRO VALLEY HIGH SCHOOL",
          "COLISEUM COLLEGE PREP ACADEMY",
          "DUBLIN HIGH SCHOOL",
          "EAST BAY INNOVATION ACADEMY",
          "EMERY SECONDARY SCHOOL",
          "ENCINAL HIGH SCHOOL",
          "ENVISION ACAD ARTS/TECHNOLOGY",
          "FOOTHILL HIGH SCHOOL",
          "FREMONT HIGH SCHOOL",
          "GRANADA HIGH SCHOOL",
          "HAYWARD HIGH SCHOOL",
          "HAYWARD TWIN OAKS MONTESSORI",
          "IMPACT ACAD ARTS/TECHNOLOGY",
          "IRVINGTON HIGH SCHOOL",
          "JAMES LOGAN HIGH SCHOOL",
          "JOHN F KENNEDY HIGH SCHOOL",
          "KIPP KING COLLEGIATE HIGH SCH",
          "LATITUDE 37.8 HS MERRITT COLLEGE",
          "LEADERSHIP PUBLIC SCH HAYWARD",
          "LIFE ACADEMY HIGH SCHOOL",
          "LIGHTHOUSE COMMUNITY CHAR HS",
          "LIVERMORE HIGH SCHOOL",
          "LPS OAKLAND R&D CAMPUS",
          "MADISON PARK ACADEMY",
          "MCCLYMONDS HIGH SCHOOL",
          "METWEST HIGH SCHOOL",
          "MISSION SAN JOSE HIGH SCHOOL",
          "MOUNT EDEN HIGH SCHOOL",
          "NEA COMMUNITY LEARNING CENTER",
          "NEWARK MEMORIAL HIGH SCHOOL",
          "OAKLAND CHARTER HIGH SCHOOL",
          "OAKLAND HIGH SCHOOL",
          "OAKLAND INTERNATIONAL HIGH SCH",
          "OAKLAND MILITARY INST COL PREP",
          "OAKLAND SCHOOL FOR THE ARTS",
          "OAKLAND TECHNICAL HIGH SCHOOL",
          "OAKLAND UNITY HIGH SCHOOL",
          "PIEDMONT HIGH SCHOOL",
          "SAN LEANDRO HIGH SCHOOL",
          "SAN LORENZO HIGH SCHOOL",
          "SKYLINE HIGH SCHOOL",
          "TENNYSON HIGH SCHOOL",
          "WASHINGTON HIGH SCHOOL"
         ],
         "xaxis": "x",
         "y": [
          4.291428571428571,
          null,
          4.2995,
          null,
          4.305652173913043,
          null,
          4.195277777777778,
          4.368148148148148,
          null,
          4.326666666666666,
          null,
          null,
          4.318181818181818,
          null,
          4.3629411764705885,
          null,
          4.256756756756757,
          null,
          null,
          4.113333333333333,
          3.928,
          4.185499999999999,
          4.096,
          null,
          4.3533333333333335,
          null,
          null,
          4.328484848484848,
          4.321363636363636,
          null,
          4.21625,
          null,
          4.239999999999999,
          4.052857142857143,
          null,
          null,
          null,
          null,
          null,
          null,
          4.3055,
          4.258571428571428,
          null,
          4.4159999999999995,
          4.243846153846154,
          4.25125,
          null,
          null,
          4.094285714285714,
          4.277,
          null,
          4.287222222222223,
          4.316363636363636,
          4.1499999999999995,
          4.279333333333333,
          null,
          4.28125
         ],
         "yaxis": "y"
        },
        {
         "alignmentgroup": "True",
         "hovertemplate": "variable=Enrl GPA<br>School=%{x}<br>value=%{y}<extra></extra>",
         "legendgroup": "Enrl GPA",
         "marker": {
          "color": "#00cc96",
          "pattern": {
           "shape": ""
          }
         },
         "name": "Enrl GPA",
         "offsetgroup": "Enrl GPA",
         "orientation": "v",
         "showlegend": true,
         "textposition": "auto",
         "type": "bar",
         "x": [
          "AIMS COLLEGE PREP HIGH SCHOOL",
          "ALAMEDA COMMUNITY LEARNING CTR",
          "ALAMEDA HIGH SCHOOL",
          "ALAMEDA SCIENCE & TECHLGY INST",
          "ALBANY HIGH SCHOOL",
          "ALTERNATIVES IN ACTION HS",
          "AMADOR VALLEY HIGH SCHOOL",
          "AMERICAN HIGH SCHOOL",
          "ARISE HIGH SCHOOL",
          "ARROYO HIGH SCHOOL",
          "ASPIRE GOLDEN STATE PREP ACADEMY",
          "ASPIRE LIONEL WILSON COLG PREP",
          "BERKELEY HIGH SCHOOL",
          "CASTLEMONT HIGH SCHOOL",
          "CASTRO VALLEY HIGH SCHOOL",
          "COLISEUM COLLEGE PREP ACADEMY",
          "DUBLIN HIGH SCHOOL",
          "EAST BAY INNOVATION ACADEMY",
          "EMERY SECONDARY SCHOOL",
          "ENCINAL HIGH SCHOOL",
          "ENVISION ACAD ARTS/TECHNOLOGY",
          "FOOTHILL HIGH SCHOOL",
          "FREMONT HIGH SCHOOL",
          "GRANADA HIGH SCHOOL",
          "HAYWARD HIGH SCHOOL",
          "HAYWARD TWIN OAKS MONTESSORI",
          "IMPACT ACAD ARTS/TECHNOLOGY",
          "IRVINGTON HIGH SCHOOL",
          "JAMES LOGAN HIGH SCHOOL",
          "JOHN F KENNEDY HIGH SCHOOL",
          "KIPP KING COLLEGIATE HIGH SCH",
          "LATITUDE 37.8 HS MERRITT COLLEGE",
          "LEADERSHIP PUBLIC SCH HAYWARD",
          "LIFE ACADEMY HIGH SCHOOL",
          "LIGHTHOUSE COMMUNITY CHAR HS",
          "LIVERMORE HIGH SCHOOL",
          "LPS OAKLAND R&D CAMPUS",
          "MADISON PARK ACADEMY",
          "MCCLYMONDS HIGH SCHOOL",
          "METWEST HIGH SCHOOL",
          "MISSION SAN JOSE HIGH SCHOOL",
          "MOUNT EDEN HIGH SCHOOL",
          "NEA COMMUNITY LEARNING CENTER",
          "NEWARK MEMORIAL HIGH SCHOOL",
          "OAKLAND CHARTER HIGH SCHOOL",
          "OAKLAND HIGH SCHOOL",
          "OAKLAND INTERNATIONAL HIGH SCH",
          "OAKLAND MILITARY INST COL PREP",
          "OAKLAND SCHOOL FOR THE ARTS",
          "OAKLAND TECHNICAL HIGH SCHOOL",
          "OAKLAND UNITY HIGH SCHOOL",
          "PIEDMONT HIGH SCHOOL",
          "SAN LEANDRO HIGH SCHOOL",
          "SAN LORENZO HIGH SCHOOL",
          "SKYLINE HIGH SCHOOL",
          "TENNYSON HIGH SCHOOL",
          "WASHINGTON HIGH SCHOOL"
         ],
         "xaxis": "x",
         "y": [
          4.282,
          null,
          4.291818181818182,
          null,
          4.305625,
          null,
          4.166,
          4.363157894736842,
          null,
          4.33,
          null,
          null,
          4.276363636363636,
          null,
          4.357272727272727,
          null,
          4.245652173913044,
          null,
          null,
          null,
          3.928,
          4.154,
          null,
          null,
          null,
          null,
          null,
          4.3118181818181816,
          4.298571428571429,
          null,
          4.214285714285714,
          null,
          4.211666666666667,
          4.0280000000000005,
          null,
          null,
          null,
          null,
          null,
          null,
          4.2803571428571425,
          4.226,
          null,
          null,
          4.275,
          4.266153846153847,
          null,
          null,
          null,
          4.236363636363636,
          null,
          4.243076923076923,
          4.311999999999999,
          null,
          4.259,
          null,
          4.235454545454545
         ],
         "yaxis": "y"
        }
       ],
       "layout": {
        "barmode": "group",
        "legend": {
         "title": {
          "text": "variable"
         },
         "tracegroupgap": 0
        },
        "margin": {
         "t": 60
        },
        "template": {
         "data": {
          "bar": [
           {
            "error_x": {
             "color": "#2a3f5f"
            },
            "error_y": {
             "color": "#2a3f5f"
            },
            "marker": {
             "line": {
              "color": "#E5ECF6",
              "width": 0.5
             },
             "pattern": {
              "fillmode": "overlay",
              "size": 10,
              "solidity": 0.2
             }
            },
            "type": "bar"
           }
          ],
          "barpolar": [
           {
            "marker": {
             "line": {
              "color": "#E5ECF6",
              "width": 0.5
             },
             "pattern": {
              "fillmode": "overlay",
              "size": 10,
              "solidity": 0.2
             }
            },
            "type": "barpolar"
           }
          ],
          "carpet": [
           {
            "aaxis": {
             "endlinecolor": "#2a3f5f",
             "gridcolor": "white",
             "linecolor": "white",
             "minorgridcolor": "white",
             "startlinecolor": "#2a3f5f"
            },
            "baxis": {
             "endlinecolor": "#2a3f5f",
             "gridcolor": "white",
             "linecolor": "white",
             "minorgridcolor": "white",
             "startlinecolor": "#2a3f5f"
            },
            "type": "carpet"
           }
          ],
          "choropleth": [
           {
            "colorbar": {
             "outlinewidth": 0,
             "ticks": ""
            },
            "type": "choropleth"
           }
          ],
          "contour": [
           {
            "colorbar": {
             "outlinewidth": 0,
             "ticks": ""
            },
            "colorscale": [
             [
              0,
              "#0d0887"
             ],
             [
              0.1111111111111111,
              "#46039f"
             ],
             [
              0.2222222222222222,
              "#7201a8"
             ],
             [
              0.3333333333333333,
              "#9c179e"
             ],
             [
              0.4444444444444444,
              "#bd3786"
             ],
             [
              0.5555555555555556,
              "#d8576b"
             ],
             [
              0.6666666666666666,
              "#ed7953"
             ],
             [
              0.7777777777777778,
              "#fb9f3a"
             ],
             [
              0.8888888888888888,
              "#fdca26"
             ],
             [
              1,
              "#f0f921"
             ]
            ],
            "type": "contour"
           }
          ],
          "contourcarpet": [
           {
            "colorbar": {
             "outlinewidth": 0,
             "ticks": ""
            },
            "type": "contourcarpet"
           }
          ],
          "heatmap": [
           {
            "colorbar": {
             "outlinewidth": 0,
             "ticks": ""
            },
            "colorscale": [
             [
              0,
              "#0d0887"
             ],
             [
              0.1111111111111111,
              "#46039f"
             ],
             [
              0.2222222222222222,
              "#7201a8"
             ],
             [
              0.3333333333333333,
              "#9c179e"
             ],
             [
              0.4444444444444444,
              "#bd3786"
             ],
             [
              0.5555555555555556,
              "#d8576b"
             ],
             [
              0.6666666666666666,
              "#ed7953"
             ],
             [
              0.7777777777777778,
              "#fb9f3a"
             ],
             [
              0.8888888888888888,
              "#fdca26"
             ],
             [
              1,
              "#f0f921"
             ]
            ],
            "type": "heatmap"
           }
          ],
          "heatmapgl": [
           {
            "colorbar": {
             "outlinewidth": 0,
             "ticks": ""
            },
            "colorscale": [
             [
              0,
              "#0d0887"
             ],
             [
              0.1111111111111111,
              "#46039f"
             ],
             [
              0.2222222222222222,
              "#7201a8"
             ],
             [
              0.3333333333333333,
              "#9c179e"
             ],
             [
              0.4444444444444444,
              "#bd3786"
             ],
             [
              0.5555555555555556,
              "#d8576b"
             ],
             [
              0.6666666666666666,
              "#ed7953"
             ],
             [
              0.7777777777777778,
              "#fb9f3a"
             ],
             [
              0.8888888888888888,
              "#fdca26"
             ],
             [
              1,
              "#f0f921"
             ]
            ],
            "type": "heatmapgl"
           }
          ],
          "histogram": [
           {
            "marker": {
             "pattern": {
              "fillmode": "overlay",
              "size": 10,
              "solidity": 0.2
             }
            },
            "type": "histogram"
           }
          ],
          "histogram2d": [
           {
            "colorbar": {
             "outlinewidth": 0,
             "ticks": ""
            },
            "colorscale": [
             [
              0,
              "#0d0887"
             ],
             [
              0.1111111111111111,
              "#46039f"
             ],
             [
              0.2222222222222222,
              "#7201a8"
             ],
             [
              0.3333333333333333,
              "#9c179e"
             ],
             [
              0.4444444444444444,
              "#bd3786"
             ],
             [
              0.5555555555555556,
              "#d8576b"
             ],
             [
              0.6666666666666666,
              "#ed7953"
             ],
             [
              0.7777777777777778,
              "#fb9f3a"
             ],
             [
              0.8888888888888888,
              "#fdca26"
             ],
             [
              1,
              "#f0f921"
             ]
            ],
            "type": "histogram2d"
           }
          ],
          "histogram2dcontour": [
           {
            "colorbar": {
             "outlinewidth": 0,
             "ticks": ""
            },
            "colorscale": [
             [
              0,
              "#0d0887"
             ],
             [
              0.1111111111111111,
              "#46039f"
             ],
             [
              0.2222222222222222,
              "#7201a8"
             ],
             [
              0.3333333333333333,
              "#9c179e"
             ],
             [
              0.4444444444444444,
              "#bd3786"
             ],
             [
              0.5555555555555556,
              "#d8576b"
             ],
             [
              0.6666666666666666,
              "#ed7953"
             ],
             [
              0.7777777777777778,
              "#fb9f3a"
             ],
             [
              0.8888888888888888,
              "#fdca26"
             ],
             [
              1,
              "#f0f921"
             ]
            ],
            "type": "histogram2dcontour"
           }
          ],
          "mesh3d": [
           {
            "colorbar": {
             "outlinewidth": 0,
             "ticks": ""
            },
            "type": "mesh3d"
           }
          ],
          "parcoords": [
           {
            "line": {
             "colorbar": {
              "outlinewidth": 0,
              "ticks": ""
             }
            },
            "type": "parcoords"
           }
          ],
          "pie": [
           {
            "automargin": true,
            "type": "pie"
           }
          ],
          "scatter": [
           {
            "marker": {
             "colorbar": {
              "outlinewidth": 0,
              "ticks": ""
             }
            },
            "type": "scatter"
           }
          ],
          "scatter3d": [
           {
            "line": {
             "colorbar": {
              "outlinewidth": 0,
              "ticks": ""
             }
            },
            "marker": {
             "colorbar": {
              "outlinewidth": 0,
              "ticks": ""
             }
            },
            "type": "scatter3d"
           }
          ],
          "scattercarpet": [
           {
            "marker": {
             "colorbar": {
              "outlinewidth": 0,
              "ticks": ""
             }
            },
            "type": "scattercarpet"
           }
          ],
          "scattergeo": [
           {
            "marker": {
             "colorbar": {
              "outlinewidth": 0,
              "ticks": ""
             }
            },
            "type": "scattergeo"
           }
          ],
          "scattergl": [
           {
            "marker": {
             "colorbar": {
              "outlinewidth": 0,
              "ticks": ""
             }
            },
            "type": "scattergl"
           }
          ],
          "scattermapbox": [
           {
            "marker": {
             "colorbar": {
              "outlinewidth": 0,
              "ticks": ""
             }
            },
            "type": "scattermapbox"
           }
          ],
          "scatterpolar": [
           {
            "marker": {
             "colorbar": {
              "outlinewidth": 0,
              "ticks": ""
             }
            },
            "type": "scatterpolar"
           }
          ],
          "scatterpolargl": [
           {
            "marker": {
             "colorbar": {
              "outlinewidth": 0,
              "ticks": ""
             }
            },
            "type": "scatterpolargl"
           }
          ],
          "scatterternary": [
           {
            "marker": {
             "colorbar": {
              "outlinewidth": 0,
              "ticks": ""
             }
            },
            "type": "scatterternary"
           }
          ],
          "surface": [
           {
            "colorbar": {
             "outlinewidth": 0,
             "ticks": ""
            },
            "colorscale": [
             [
              0,
              "#0d0887"
             ],
             [
              0.1111111111111111,
              "#46039f"
             ],
             [
              0.2222222222222222,
              "#7201a8"
             ],
             [
              0.3333333333333333,
              "#9c179e"
             ],
             [
              0.4444444444444444,
              "#bd3786"
             ],
             [
              0.5555555555555556,
              "#d8576b"
             ],
             [
              0.6666666666666666,
              "#ed7953"
             ],
             [
              0.7777777777777778,
              "#fb9f3a"
             ],
             [
              0.8888888888888888,
              "#fdca26"
             ],
             [
              1,
              "#f0f921"
             ]
            ],
            "type": "surface"
           }
          ],
          "table": [
           {
            "cells": {
             "fill": {
              "color": "#EBF0F8"
             },
             "line": {
              "color": "white"
             }
            },
            "header": {
             "fill": {
              "color": "#C8D4E3"
             },
             "line": {
              "color": "white"
             }
            },
            "type": "table"
           }
          ]
         },
         "layout": {
          "annotationdefaults": {
           "arrowcolor": "#2a3f5f",
           "arrowhead": 0,
           "arrowwidth": 1
          },
          "autotypenumbers": "strict",
          "coloraxis": {
           "colorbar": {
            "outlinewidth": 0,
            "ticks": ""
           }
          },
          "colorscale": {
           "diverging": [
            [
             0,
             "#8e0152"
            ],
            [
             0.1,
             "#c51b7d"
            ],
            [
             0.2,
             "#de77ae"
            ],
            [
             0.3,
             "#f1b6da"
            ],
            [
             0.4,
             "#fde0ef"
            ],
            [
             0.5,
             "#f7f7f7"
            ],
            [
             0.6,
             "#e6f5d0"
            ],
            [
             0.7,
             "#b8e186"
            ],
            [
             0.8,
             "#7fbc41"
            ],
            [
             0.9,
             "#4d9221"
            ],
            [
             1,
             "#276419"
            ]
           ],
           "sequential": [
            [
             0,
             "#0d0887"
            ],
            [
             0.1111111111111111,
             "#46039f"
            ],
            [
             0.2222222222222222,
             "#7201a8"
            ],
            [
             0.3333333333333333,
             "#9c179e"
            ],
            [
             0.4444444444444444,
             "#bd3786"
            ],
            [
             0.5555555555555556,
             "#d8576b"
            ],
            [
             0.6666666666666666,
             "#ed7953"
            ],
            [
             0.7777777777777778,
             "#fb9f3a"
            ],
            [
             0.8888888888888888,
             "#fdca26"
            ],
            [
             1,
             "#f0f921"
            ]
           ],
           "sequentialminus": [
            [
             0,
             "#0d0887"
            ],
            [
             0.1111111111111111,
             "#46039f"
            ],
            [
             0.2222222222222222,
             "#7201a8"
            ],
            [
             0.3333333333333333,
             "#9c179e"
            ],
            [
             0.4444444444444444,
             "#bd3786"
            ],
            [
             0.5555555555555556,
             "#d8576b"
            ],
            [
             0.6666666666666666,
             "#ed7953"
            ],
            [
             0.7777777777777778,
             "#fb9f3a"
            ],
            [
             0.8888888888888888,
             "#fdca26"
            ],
            [
             1,
             "#f0f921"
            ]
           ]
          },
          "colorway": [
           "#636efa",
           "#EF553B",
           "#00cc96",
           "#ab63fa",
           "#FFA15A",
           "#19d3f3",
           "#FF6692",
           "#B6E880",
           "#FF97FF",
           "#FECB52"
          ],
          "font": {
           "color": "#2a3f5f"
          },
          "geo": {
           "bgcolor": "white",
           "lakecolor": "white",
           "landcolor": "#E5ECF6",
           "showlakes": true,
           "showland": true,
           "subunitcolor": "white"
          },
          "hoverlabel": {
           "align": "left"
          },
          "hovermode": "closest",
          "mapbox": {
           "style": "light"
          },
          "paper_bgcolor": "white",
          "plot_bgcolor": "#E5ECF6",
          "polar": {
           "angularaxis": {
            "gridcolor": "white",
            "linecolor": "white",
            "ticks": ""
           },
           "bgcolor": "#E5ECF6",
           "radialaxis": {
            "gridcolor": "white",
            "linecolor": "white",
            "ticks": ""
           }
          },
          "scene": {
           "xaxis": {
            "backgroundcolor": "#E5ECF6",
            "gridcolor": "white",
            "gridwidth": 2,
            "linecolor": "white",
            "showbackground": true,
            "ticks": "",
            "zerolinecolor": "white"
           },
           "yaxis": {
            "backgroundcolor": "#E5ECF6",
            "gridcolor": "white",
            "gridwidth": 2,
            "linecolor": "white",
            "showbackground": true,
            "ticks": "",
            "zerolinecolor": "white"
           },
           "zaxis": {
            "backgroundcolor": "#E5ECF6",
            "gridcolor": "white",
            "gridwidth": 2,
            "linecolor": "white",
            "showbackground": true,
            "ticks": "",
            "zerolinecolor": "white"
           }
          },
          "shapedefaults": {
           "line": {
            "color": "#2a3f5f"
           }
          },
          "ternary": {
           "aaxis": {
            "gridcolor": "white",
            "linecolor": "white",
            "ticks": ""
           },
           "baxis": {
            "gridcolor": "white",
            "linecolor": "white",
            "ticks": ""
           },
           "bgcolor": "#E5ECF6",
           "caxis": {
            "gridcolor": "white",
            "linecolor": "white",
            "ticks": ""
           }
          },
          "title": {
           "x": 0.05
          },
          "xaxis": {
           "automargin": true,
           "gridcolor": "white",
           "linecolor": "white",
           "ticks": "",
           "title": {
            "standoff": 15
           },
           "zerolinecolor": "white",
           "zerolinewidth": 2
          },
          "yaxis": {
           "automargin": true,
           "gridcolor": "white",
           "linecolor": "white",
           "ticks": "",
           "title": {
            "standoff": 15
           },
           "zerolinecolor": "white",
           "zerolinewidth": 2
          }
         }
        },
        "xaxis": {
         "anchor": "y",
         "domain": [
          0,
          1
         ],
         "title": {
          "text": "School"
         }
        },
        "yaxis": {
         "anchor": "x",
         "domain": [
          0,
          1
         ],
         "title": {
          "text": "value"
         }
        }
       }
      }
     },
     "metadata": {},
     "output_type": "display_data"
    }
   ],
   "source": [
    "fig12 = px.bar(berk_public_a, x = \"School\", y = [\"App GPA\", \"Adm GPA\", \"Enrl GPA\"], barmode = 'group')\n",
    "fig12.show()"
   ]
  },
  {
   "cell_type": "code",
   "execution_count": 55,
   "metadata": {},
   "outputs": [
    {
     "data": {
      "application/vnd.plotly.v1+json": {
       "config": {
        "plotlyServerURL": "https://plot.ly"
       },
       "data": [
        {
         "alignmentgroup": "True",
         "hovertemplate": "variable=App GPA<br>School=%{x}<br>value=%{y}<extra></extra>",
         "legendgroup": "App GPA",
         "marker": {
          "color": "#636efa",
          "pattern": {
           "shape": ""
          }
         },
         "name": "App GPA",
         "offsetgroup": "App GPA",
         "orientation": "v",
         "showlegend": true,
         "textposition": "auto",
         "type": "bar",
         "x": [
          "ALSION MONTESSORI MIDDLE/HIGH",
          "BISHOP ODOWD HIGH SCHOOL",
          "CALIFORNIA CROSSPOINT ACADEMY",
          "COLLEGE PREPARATORY SCHOOL",
          "CRISTO REY DE LA SALLE E BAY",
          "FREMONT CHRISTIAN HIGH SCHOOL",
          "HEAD-ROYCE SCHOOL THE",
          "HOLY NAMES HIGH SCHOOL",
          "MAYBECK HIGH SCHOOL",
          "MOREAU CATHOLIC HIGH SCHOOL",
          "QUARRY LANE SCHOOL",
          "REDWOOD CHRISTIAN JR-SR HS",
          "SAINT JOSEPH-NOTRE DAME HS",
          "SAINT MARYS COLLEGE HS",
          "TILDEN PREPARATORY SCHOOL",
          "VALLEY CHRISTIAN HIGH SCHOOL"
         ],
         "xaxis": "x",
         "y": [
          4.187692307692307,
          4.087272727272728,
          4.080571428571428,
          4.185740740740741,
          3.654,
          4.11125,
          4.177636363636364,
          3.8649999999999998,
          3.7060000000000004,
          3.8546875000000003,
          4.031428571428571,
          3.959565217391304,
          3.975853658536585,
          3.7060714285714282,
          4.218,
          3.858333333333333
         ],
         "yaxis": "y"
        },
        {
         "alignmentgroup": "True",
         "hovertemplate": "variable=Adm GPA<br>School=%{x}<br>value=%{y}<extra></extra>",
         "legendgroup": "Adm GPA",
         "marker": {
          "color": "#EF553B",
          "pattern": {
           "shape": ""
          }
         },
         "name": "Adm GPA",
         "offsetgroup": "Adm GPA",
         "orientation": "v",
         "showlegend": true,
         "textposition": "auto",
         "type": "bar",
         "x": [
          "ALSION MONTESSORI MIDDLE/HIGH",
          "BISHOP ODOWD HIGH SCHOOL",
          "CALIFORNIA CROSSPOINT ACADEMY",
          "COLLEGE PREPARATORY SCHOOL",
          "CRISTO REY DE LA SALLE E BAY",
          "FREMONT CHRISTIAN HIGH SCHOOL",
          "HEAD-ROYCE SCHOOL THE",
          "HOLY NAMES HIGH SCHOOL",
          "MAYBECK HIGH SCHOOL",
          "MOREAU CATHOLIC HIGH SCHOOL",
          "QUARRY LANE SCHOOL",
          "REDWOOD CHRISTIAN JR-SR HS",
          "SAINT JOSEPH-NOTRE DAME HS",
          "SAINT MARYS COLLEGE HS",
          "TILDEN PREPARATORY SCHOOL",
          "VALLEY CHRISTIAN HIGH SCHOOL"
         ],
         "xaxis": "x",
         "y": [
          null,
          4.23896551724138,
          4.252857142857143,
          4.2,
          null,
          null,
          4.232727272727273,
          null,
          null,
          4.14,
          4.192857142857143,
          null,
          4.265,
          4.093999999999999,
          null,
          null
         ],
         "yaxis": "y"
        },
        {
         "alignmentgroup": "True",
         "hovertemplate": "variable=Enrl GPA<br>School=%{x}<br>value=%{y}<extra></extra>",
         "legendgroup": "Enrl GPA",
         "marker": {
          "color": "#00cc96",
          "pattern": {
           "shape": ""
          }
         },
         "name": "Enrl GPA",
         "offsetgroup": "Enrl GPA",
         "orientation": "v",
         "showlegend": true,
         "textposition": "auto",
         "type": "bar",
         "x": [
          "ALSION MONTESSORI MIDDLE/HIGH",
          "BISHOP ODOWD HIGH SCHOOL",
          "CALIFORNIA CROSSPOINT ACADEMY",
          "COLLEGE PREPARATORY SCHOOL",
          "CRISTO REY DE LA SALLE E BAY",
          "FREMONT CHRISTIAN HIGH SCHOOL",
          "HEAD-ROYCE SCHOOL THE",
          "HOLY NAMES HIGH SCHOOL",
          "MAYBECK HIGH SCHOOL",
          "MOREAU CATHOLIC HIGH SCHOOL",
          "QUARRY LANE SCHOOL",
          "REDWOOD CHRISTIAN JR-SR HS",
          "SAINT JOSEPH-NOTRE DAME HS",
          "SAINT MARYS COLLEGE HS",
          "TILDEN PREPARATORY SCHOOL",
          "VALLEY CHRISTIAN HIGH SCHOOL"
         ],
         "xaxis": "x",
         "y": [
          null,
          4.175,
          null,
          null,
          null,
          null,
          4.232,
          null,
          null,
          4.12,
          4.18,
          null,
          null,
          null,
          null,
          null
         ],
         "yaxis": "y"
        }
       ],
       "layout": {
        "barmode": "group",
        "legend": {
         "title": {
          "text": "variable"
         },
         "tracegroupgap": 0
        },
        "margin": {
         "t": 60
        },
        "template": {
         "data": {
          "bar": [
           {
            "error_x": {
             "color": "#2a3f5f"
            },
            "error_y": {
             "color": "#2a3f5f"
            },
            "marker": {
             "line": {
              "color": "#E5ECF6",
              "width": 0.5
             },
             "pattern": {
              "fillmode": "overlay",
              "size": 10,
              "solidity": 0.2
             }
            },
            "type": "bar"
           }
          ],
          "barpolar": [
           {
            "marker": {
             "line": {
              "color": "#E5ECF6",
              "width": 0.5
             },
             "pattern": {
              "fillmode": "overlay",
              "size": 10,
              "solidity": 0.2
             }
            },
            "type": "barpolar"
           }
          ],
          "carpet": [
           {
            "aaxis": {
             "endlinecolor": "#2a3f5f",
             "gridcolor": "white",
             "linecolor": "white",
             "minorgridcolor": "white",
             "startlinecolor": "#2a3f5f"
            },
            "baxis": {
             "endlinecolor": "#2a3f5f",
             "gridcolor": "white",
             "linecolor": "white",
             "minorgridcolor": "white",
             "startlinecolor": "#2a3f5f"
            },
            "type": "carpet"
           }
          ],
          "choropleth": [
           {
            "colorbar": {
             "outlinewidth": 0,
             "ticks": ""
            },
            "type": "choropleth"
           }
          ],
          "contour": [
           {
            "colorbar": {
             "outlinewidth": 0,
             "ticks": ""
            },
            "colorscale": [
             [
              0,
              "#0d0887"
             ],
             [
              0.1111111111111111,
              "#46039f"
             ],
             [
              0.2222222222222222,
              "#7201a8"
             ],
             [
              0.3333333333333333,
              "#9c179e"
             ],
             [
              0.4444444444444444,
              "#bd3786"
             ],
             [
              0.5555555555555556,
              "#d8576b"
             ],
             [
              0.6666666666666666,
              "#ed7953"
             ],
             [
              0.7777777777777778,
              "#fb9f3a"
             ],
             [
              0.8888888888888888,
              "#fdca26"
             ],
             [
              1,
              "#f0f921"
             ]
            ],
            "type": "contour"
           }
          ],
          "contourcarpet": [
           {
            "colorbar": {
             "outlinewidth": 0,
             "ticks": ""
            },
            "type": "contourcarpet"
           }
          ],
          "heatmap": [
           {
            "colorbar": {
             "outlinewidth": 0,
             "ticks": ""
            },
            "colorscale": [
             [
              0,
              "#0d0887"
             ],
             [
              0.1111111111111111,
              "#46039f"
             ],
             [
              0.2222222222222222,
              "#7201a8"
             ],
             [
              0.3333333333333333,
              "#9c179e"
             ],
             [
              0.4444444444444444,
              "#bd3786"
             ],
             [
              0.5555555555555556,
              "#d8576b"
             ],
             [
              0.6666666666666666,
              "#ed7953"
             ],
             [
              0.7777777777777778,
              "#fb9f3a"
             ],
             [
              0.8888888888888888,
              "#fdca26"
             ],
             [
              1,
              "#f0f921"
             ]
            ],
            "type": "heatmap"
           }
          ],
          "heatmapgl": [
           {
            "colorbar": {
             "outlinewidth": 0,
             "ticks": ""
            },
            "colorscale": [
             [
              0,
              "#0d0887"
             ],
             [
              0.1111111111111111,
              "#46039f"
             ],
             [
              0.2222222222222222,
              "#7201a8"
             ],
             [
              0.3333333333333333,
              "#9c179e"
             ],
             [
              0.4444444444444444,
              "#bd3786"
             ],
             [
              0.5555555555555556,
              "#d8576b"
             ],
             [
              0.6666666666666666,
              "#ed7953"
             ],
             [
              0.7777777777777778,
              "#fb9f3a"
             ],
             [
              0.8888888888888888,
              "#fdca26"
             ],
             [
              1,
              "#f0f921"
             ]
            ],
            "type": "heatmapgl"
           }
          ],
          "histogram": [
           {
            "marker": {
             "pattern": {
              "fillmode": "overlay",
              "size": 10,
              "solidity": 0.2
             }
            },
            "type": "histogram"
           }
          ],
          "histogram2d": [
           {
            "colorbar": {
             "outlinewidth": 0,
             "ticks": ""
            },
            "colorscale": [
             [
              0,
              "#0d0887"
             ],
             [
              0.1111111111111111,
              "#46039f"
             ],
             [
              0.2222222222222222,
              "#7201a8"
             ],
             [
              0.3333333333333333,
              "#9c179e"
             ],
             [
              0.4444444444444444,
              "#bd3786"
             ],
             [
              0.5555555555555556,
              "#d8576b"
             ],
             [
              0.6666666666666666,
              "#ed7953"
             ],
             [
              0.7777777777777778,
              "#fb9f3a"
             ],
             [
              0.8888888888888888,
              "#fdca26"
             ],
             [
              1,
              "#f0f921"
             ]
            ],
            "type": "histogram2d"
           }
          ],
          "histogram2dcontour": [
           {
            "colorbar": {
             "outlinewidth": 0,
             "ticks": ""
            },
            "colorscale": [
             [
              0,
              "#0d0887"
             ],
             [
              0.1111111111111111,
              "#46039f"
             ],
             [
              0.2222222222222222,
              "#7201a8"
             ],
             [
              0.3333333333333333,
              "#9c179e"
             ],
             [
              0.4444444444444444,
              "#bd3786"
             ],
             [
              0.5555555555555556,
              "#d8576b"
             ],
             [
              0.6666666666666666,
              "#ed7953"
             ],
             [
              0.7777777777777778,
              "#fb9f3a"
             ],
             [
              0.8888888888888888,
              "#fdca26"
             ],
             [
              1,
              "#f0f921"
             ]
            ],
            "type": "histogram2dcontour"
           }
          ],
          "mesh3d": [
           {
            "colorbar": {
             "outlinewidth": 0,
             "ticks": ""
            },
            "type": "mesh3d"
           }
          ],
          "parcoords": [
           {
            "line": {
             "colorbar": {
              "outlinewidth": 0,
              "ticks": ""
             }
            },
            "type": "parcoords"
           }
          ],
          "pie": [
           {
            "automargin": true,
            "type": "pie"
           }
          ],
          "scatter": [
           {
            "marker": {
             "colorbar": {
              "outlinewidth": 0,
              "ticks": ""
             }
            },
            "type": "scatter"
           }
          ],
          "scatter3d": [
           {
            "line": {
             "colorbar": {
              "outlinewidth": 0,
              "ticks": ""
             }
            },
            "marker": {
             "colorbar": {
              "outlinewidth": 0,
              "ticks": ""
             }
            },
            "type": "scatter3d"
           }
          ],
          "scattercarpet": [
           {
            "marker": {
             "colorbar": {
              "outlinewidth": 0,
              "ticks": ""
             }
            },
            "type": "scattercarpet"
           }
          ],
          "scattergeo": [
           {
            "marker": {
             "colorbar": {
              "outlinewidth": 0,
              "ticks": ""
             }
            },
            "type": "scattergeo"
           }
          ],
          "scattergl": [
           {
            "marker": {
             "colorbar": {
              "outlinewidth": 0,
              "ticks": ""
             }
            },
            "type": "scattergl"
           }
          ],
          "scattermapbox": [
           {
            "marker": {
             "colorbar": {
              "outlinewidth": 0,
              "ticks": ""
             }
            },
            "type": "scattermapbox"
           }
          ],
          "scatterpolar": [
           {
            "marker": {
             "colorbar": {
              "outlinewidth": 0,
              "ticks": ""
             }
            },
            "type": "scatterpolar"
           }
          ],
          "scatterpolargl": [
           {
            "marker": {
             "colorbar": {
              "outlinewidth": 0,
              "ticks": ""
             }
            },
            "type": "scatterpolargl"
           }
          ],
          "scatterternary": [
           {
            "marker": {
             "colorbar": {
              "outlinewidth": 0,
              "ticks": ""
             }
            },
            "type": "scatterternary"
           }
          ],
          "surface": [
           {
            "colorbar": {
             "outlinewidth": 0,
             "ticks": ""
            },
            "colorscale": [
             [
              0,
              "#0d0887"
             ],
             [
              0.1111111111111111,
              "#46039f"
             ],
             [
              0.2222222222222222,
              "#7201a8"
             ],
             [
              0.3333333333333333,
              "#9c179e"
             ],
             [
              0.4444444444444444,
              "#bd3786"
             ],
             [
              0.5555555555555556,
              "#d8576b"
             ],
             [
              0.6666666666666666,
              "#ed7953"
             ],
             [
              0.7777777777777778,
              "#fb9f3a"
             ],
             [
              0.8888888888888888,
              "#fdca26"
             ],
             [
              1,
              "#f0f921"
             ]
            ],
            "type": "surface"
           }
          ],
          "table": [
           {
            "cells": {
             "fill": {
              "color": "#EBF0F8"
             },
             "line": {
              "color": "white"
             }
            },
            "header": {
             "fill": {
              "color": "#C8D4E3"
             },
             "line": {
              "color": "white"
             }
            },
            "type": "table"
           }
          ]
         },
         "layout": {
          "annotationdefaults": {
           "arrowcolor": "#2a3f5f",
           "arrowhead": 0,
           "arrowwidth": 1
          },
          "autotypenumbers": "strict",
          "coloraxis": {
           "colorbar": {
            "outlinewidth": 0,
            "ticks": ""
           }
          },
          "colorscale": {
           "diverging": [
            [
             0,
             "#8e0152"
            ],
            [
             0.1,
             "#c51b7d"
            ],
            [
             0.2,
             "#de77ae"
            ],
            [
             0.3,
             "#f1b6da"
            ],
            [
             0.4,
             "#fde0ef"
            ],
            [
             0.5,
             "#f7f7f7"
            ],
            [
             0.6,
             "#e6f5d0"
            ],
            [
             0.7,
             "#b8e186"
            ],
            [
             0.8,
             "#7fbc41"
            ],
            [
             0.9,
             "#4d9221"
            ],
            [
             1,
             "#276419"
            ]
           ],
           "sequential": [
            [
             0,
             "#0d0887"
            ],
            [
             0.1111111111111111,
             "#46039f"
            ],
            [
             0.2222222222222222,
             "#7201a8"
            ],
            [
             0.3333333333333333,
             "#9c179e"
            ],
            [
             0.4444444444444444,
             "#bd3786"
            ],
            [
             0.5555555555555556,
             "#d8576b"
            ],
            [
             0.6666666666666666,
             "#ed7953"
            ],
            [
             0.7777777777777778,
             "#fb9f3a"
            ],
            [
             0.8888888888888888,
             "#fdca26"
            ],
            [
             1,
             "#f0f921"
            ]
           ],
           "sequentialminus": [
            [
             0,
             "#0d0887"
            ],
            [
             0.1111111111111111,
             "#46039f"
            ],
            [
             0.2222222222222222,
             "#7201a8"
            ],
            [
             0.3333333333333333,
             "#9c179e"
            ],
            [
             0.4444444444444444,
             "#bd3786"
            ],
            [
             0.5555555555555556,
             "#d8576b"
            ],
            [
             0.6666666666666666,
             "#ed7953"
            ],
            [
             0.7777777777777778,
             "#fb9f3a"
            ],
            [
             0.8888888888888888,
             "#fdca26"
            ],
            [
             1,
             "#f0f921"
            ]
           ]
          },
          "colorway": [
           "#636efa",
           "#EF553B",
           "#00cc96",
           "#ab63fa",
           "#FFA15A",
           "#19d3f3",
           "#FF6692",
           "#B6E880",
           "#FF97FF",
           "#FECB52"
          ],
          "font": {
           "color": "#2a3f5f"
          },
          "geo": {
           "bgcolor": "white",
           "lakecolor": "white",
           "landcolor": "#E5ECF6",
           "showlakes": true,
           "showland": true,
           "subunitcolor": "white"
          },
          "hoverlabel": {
           "align": "left"
          },
          "hovermode": "closest",
          "mapbox": {
           "style": "light"
          },
          "paper_bgcolor": "white",
          "plot_bgcolor": "#E5ECF6",
          "polar": {
           "angularaxis": {
            "gridcolor": "white",
            "linecolor": "white",
            "ticks": ""
           },
           "bgcolor": "#E5ECF6",
           "radialaxis": {
            "gridcolor": "white",
            "linecolor": "white",
            "ticks": ""
           }
          },
          "scene": {
           "xaxis": {
            "backgroundcolor": "#E5ECF6",
            "gridcolor": "white",
            "gridwidth": 2,
            "linecolor": "white",
            "showbackground": true,
            "ticks": "",
            "zerolinecolor": "white"
           },
           "yaxis": {
            "backgroundcolor": "#E5ECF6",
            "gridcolor": "white",
            "gridwidth": 2,
            "linecolor": "white",
            "showbackground": true,
            "ticks": "",
            "zerolinecolor": "white"
           },
           "zaxis": {
            "backgroundcolor": "#E5ECF6",
            "gridcolor": "white",
            "gridwidth": 2,
            "linecolor": "white",
            "showbackground": true,
            "ticks": "",
            "zerolinecolor": "white"
           }
          },
          "shapedefaults": {
           "line": {
            "color": "#2a3f5f"
           }
          },
          "ternary": {
           "aaxis": {
            "gridcolor": "white",
            "linecolor": "white",
            "ticks": ""
           },
           "baxis": {
            "gridcolor": "white",
            "linecolor": "white",
            "ticks": ""
           },
           "bgcolor": "#E5ECF6",
           "caxis": {
            "gridcolor": "white",
            "linecolor": "white",
            "ticks": ""
           }
          },
          "title": {
           "x": 0.05
          },
          "xaxis": {
           "automargin": true,
           "gridcolor": "white",
           "linecolor": "white",
           "ticks": "",
           "title": {
            "standoff": 15
           },
           "zerolinecolor": "white",
           "zerolinewidth": 2
          },
          "yaxis": {
           "automargin": true,
           "gridcolor": "white",
           "linecolor": "white",
           "ticks": "",
           "title": {
            "standoff": 15
           },
           "zerolinecolor": "white",
           "zerolinewidth": 2
          }
         }
        },
        "xaxis": {
         "anchor": "y",
         "domain": [
          0,
          1
         ],
         "title": {
          "text": "School"
         }
        },
        "yaxis": {
         "anchor": "x",
         "domain": [
          0,
          1
         ],
         "title": {
          "text": "value"
         }
        }
       }
      }
     },
     "metadata": {},
     "output_type": "display_data"
    }
   ],
   "source": [
    "fig13 = px.bar(berk_private_a, x = \"School\", y = [\"App GPA\", \"Adm GPA\", \"Enrl GPA\"], barmode = 'group')\n",
    "fig13.show()"
   ]
  },
  {
   "cell_type": "code",
   "execution_count": 56,
   "metadata": {},
   "outputs": [
    {
     "data": {
      "text/html": [
       "<div>\n",
       "<style scoped>\n",
       "    .dataframe tbody tr th:only-of-type {\n",
       "        vertical-align: middle;\n",
       "    }\n",
       "\n",
       "    .dataframe tbody tr th {\n",
       "        vertical-align: top;\n",
       "    }\n",
       "\n",
       "    .dataframe thead th {\n",
       "        text-align: right;\n",
       "    }\n",
       "</style>\n",
       "<table border=\"1\" class=\"dataframe\">\n",
       "  <thead>\n",
       "    <tr style=\"text-align: right;\">\n",
       "      <th></th>\n",
       "      <th>App GPA</th>\n",
       "      <th>Adm GPA</th>\n",
       "      <th>Enrl GPA</th>\n",
       "    </tr>\n",
       "  </thead>\n",
       "  <tbody>\n",
       "    <tr>\n",
       "      <th>count</th>\n",
       "      <td>57.000000</td>\n",
       "      <td>31.000000</td>\n",
       "      <td>25.000000</td>\n",
       "    </tr>\n",
       "    <tr>\n",
       "      <th>mean</th>\n",
       "      <td>3.877477</td>\n",
       "      <td>4.249042</td>\n",
       "      <td>4.243906</td>\n",
       "    </tr>\n",
       "    <tr>\n",
       "      <th>std</th>\n",
       "      <td>0.227181</td>\n",
       "      <td>0.105379</td>\n",
       "      <td>0.096022</td>\n",
       "    </tr>\n",
       "    <tr>\n",
       "      <th>min</th>\n",
       "      <td>3.024118</td>\n",
       "      <td>3.928000</td>\n",
       "      <td>3.928000</td>\n",
       "    </tr>\n",
       "    <tr>\n",
       "      <th>25%</th>\n",
       "      <td>3.708235</td>\n",
       "      <td>4.205764</td>\n",
       "      <td>4.226000</td>\n",
       "    </tr>\n",
       "    <tr>\n",
       "      <th>50%</th>\n",
       "      <td>3.968060</td>\n",
       "      <td>4.279333</td>\n",
       "      <td>4.266154</td>\n",
       "    </tr>\n",
       "    <tr>\n",
       "      <th>75%</th>\n",
       "      <td>4.020323</td>\n",
       "      <td>4.317273</td>\n",
       "      <td>4.298571</td>\n",
       "    </tr>\n",
       "    <tr>\n",
       "      <th>max</th>\n",
       "      <td>4.165047</td>\n",
       "      <td>4.416000</td>\n",
       "      <td>4.363158</td>\n",
       "    </tr>\n",
       "  </tbody>\n",
       "</table>\n",
       "</div>"
      ],
      "text/plain": [
       "         App GPA    Adm GPA   Enrl GPA\n",
       "count  57.000000  31.000000  25.000000\n",
       "mean    3.877477   4.249042   4.243906\n",
       "std     0.227181   0.105379   0.096022\n",
       "min     3.024118   3.928000   3.928000\n",
       "25%     3.708235   4.205764   4.226000\n",
       "50%     3.968060   4.279333   4.266154\n",
       "75%     4.020323   4.317273   4.298571\n",
       "max     4.165047   4.416000   4.363158"
      ]
     },
     "execution_count": 56,
     "metadata": {},
     "output_type": "execute_result"
    }
   ],
   "source": [
    "berk_public_a[['School', 'App GPA', 'Adm GPA', 'Enrl GPA']].describe()"
   ]
  },
  {
   "cell_type": "code",
   "execution_count": 57,
   "metadata": {},
   "outputs": [
    {
     "data": {
      "text/html": [
       "<div>\n",
       "<style scoped>\n",
       "    .dataframe tbody tr th:only-of-type {\n",
       "        vertical-align: middle;\n",
       "    }\n",
       "\n",
       "    .dataframe tbody tr th {\n",
       "        vertical-align: top;\n",
       "    }\n",
       "\n",
       "    .dataframe thead th {\n",
       "        text-align: right;\n",
       "    }\n",
       "</style>\n",
       "<table border=\"1\" class=\"dataframe\">\n",
       "  <thead>\n",
       "    <tr style=\"text-align: right;\">\n",
       "      <th></th>\n",
       "      <th>App GPA</th>\n",
       "      <th>Adm GPA</th>\n",
       "      <th>Enrl GPA</th>\n",
       "    </tr>\n",
       "  </thead>\n",
       "  <tbody>\n",
       "    <tr>\n",
       "      <th>count</th>\n",
       "      <td>16.000000</td>\n",
       "      <td>8.000000</td>\n",
       "      <td>4.000000</td>\n",
       "    </tr>\n",
       "    <tr>\n",
       "      <th>mean</th>\n",
       "      <td>3.978694</td>\n",
       "      <td>4.202051</td>\n",
       "      <td>4.176750</td>\n",
       "    </tr>\n",
       "    <tr>\n",
       "      <th>std</th>\n",
       "      <td>0.186760</td>\n",
       "      <td>0.059114</td>\n",
       "      <td>0.045778</td>\n",
       "    </tr>\n",
       "    <tr>\n",
       "      <th>min</th>\n",
       "      <td>3.654000</td>\n",
       "      <td>4.094000</td>\n",
       "      <td>4.120000</td>\n",
       "    </tr>\n",
       "    <tr>\n",
       "      <th>25%</th>\n",
       "      <td>3.857422</td>\n",
       "      <td>4.179643</td>\n",
       "      <td>4.161250</td>\n",
       "    </tr>\n",
       "    <tr>\n",
       "      <th>50%</th>\n",
       "      <td>4.003641</td>\n",
       "      <td>4.216364</td>\n",
       "      <td>4.177500</td>\n",
       "    </tr>\n",
       "    <tr>\n",
       "      <th>75%</th>\n",
       "      <td>4.127847</td>\n",
       "      <td>4.242438</td>\n",
       "      <td>4.193000</td>\n",
       "    </tr>\n",
       "    <tr>\n",
       "      <th>max</th>\n",
       "      <td>4.218000</td>\n",
       "      <td>4.265000</td>\n",
       "      <td>4.232000</td>\n",
       "    </tr>\n",
       "  </tbody>\n",
       "</table>\n",
       "</div>"
      ],
      "text/plain": [
       "         App GPA   Adm GPA  Enrl GPA\n",
       "count  16.000000  8.000000  4.000000\n",
       "mean    3.978694  4.202051  4.176750\n",
       "std     0.186760  0.059114  0.045778\n",
       "min     3.654000  4.094000  4.120000\n",
       "25%     3.857422  4.179643  4.161250\n",
       "50%     4.003641  4.216364  4.177500\n",
       "75%     4.127847  4.242438  4.193000\n",
       "max     4.218000  4.265000  4.232000"
      ]
     },
     "execution_count": 57,
     "metadata": {},
     "output_type": "execute_result"
    }
   ],
   "source": [
    "berk_private_a[['School', 'App GPA', 'Adm GPA', 'Enrl GPA']].describe()"
   ]
  },
  {
   "attachments": {},
   "cell_type": "markdown",
   "metadata": {},
   "source": [
    "In conclusion, Max has to score a fairly high GPA just to have a chance at an attempt to get into UC Berkeley. I am not saying he will fail, but he has got to try extra extra hard to have a chance. \n",
    "\n",
    "Max, I believe in you.\n",
    "\n",
    "Jack"
   ]
  }
 ],
 "metadata": {
  "kernelspec": {
   "display_name": "Python 3",
   "language": "python",
   "name": "python3"
  },
  "language_info": {
   "codemirror_mode": {
    "name": "ipython",
    "version": 3
   },
   "file_extension": ".py",
   "mimetype": "text/x-python",
   "name": "python",
   "nbconvert_exporter": "python",
   "pygments_lexer": "ipython3",
   "version": "3.8.13"
  },
  "orig_nbformat": 4,
  "vscode": {
   "interpreter": {
    "hash": "40d3a090f54c6569ab1632332b64b2c03c39dcf918b08424e98f38b5ae0af88f"
   }
  }
 },
 "nbformat": 4,
 "nbformat_minor": 2
}
